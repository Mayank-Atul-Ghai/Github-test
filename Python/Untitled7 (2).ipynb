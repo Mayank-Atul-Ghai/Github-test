{
 "cells": [
  {
   "cell_type": "markdown",
   "id": "5eb0baf9-ab49-4523-b067-eec109728bca",
   "metadata": {},
   "source": [
    "### Boolean Values "
   ]
  },
  {
   "cell_type": "markdown",
   "id": "284c5d69-e00b-4242-bab7-9c1d4d7786d9",
   "metadata": {},
   "source": [
    "a = True \n",
    "b = False"
   ]
  },
  {
   "cell_type": "code",
   "execution_count": 1,
   "id": "3c6f42d7-8f24-4e02-ac42-2a087fa096f8",
   "metadata": {},
   "outputs": [
    {
     "name": "stdout",
     "output_type": "stream",
     "text": [
      "True\n"
     ]
    }
   ],
   "source": [
    "a = bool(10)\n",
    "print(a)"
   ]
  },
  {
   "cell_type": "code",
   "execution_count": null,
   "id": "d4b6d587-8492-40be-b922-5e749f32a897",
   "metadata": {},
   "outputs": [],
   "source": [
    "int ---> 0 is False else True \n",
    "float ---> 0.0 is False else True \n",
    "complex ---> 0+0j is False else True"
   ]
  },
  {
   "cell_type": "code",
   "execution_count": 3,
   "id": "490bc9e0-8df8-4288-8389-4f7dff3a5b10",
   "metadata": {},
   "outputs": [
    {
     "data": {
      "text/plain": [
       "False"
      ]
     },
     "execution_count": 3,
     "metadata": {},
     "output_type": "execute_result"
    }
   ],
   "source": [
    "a = bool(0)\n",
    "a"
   ]
  },
  {
   "cell_type": "code",
   "execution_count": 5,
   "id": "bb945b87-d862-429e-950e-e48562c9b228",
   "metadata": {},
   "outputs": [
    {
     "data": {
      "text/plain": [
       "True"
      ]
     },
     "execution_count": 5,
     "metadata": {},
     "output_type": "execute_result"
    }
   ],
   "source": [
    "a = bool(100)\n",
    "a"
   ]
  },
  {
   "cell_type": "code",
   "execution_count": 6,
   "id": "a04df616-2d1d-4314-990e-7c1324b73cbd",
   "metadata": {},
   "outputs": [
    {
     "data": {
      "text/plain": [
       "True"
      ]
     },
     "execution_count": 6,
     "metadata": {},
     "output_type": "execute_result"
    }
   ],
   "source": [
    "a = bool(-1) \n",
    "a"
   ]
  },
  {
   "cell_type": "code",
   "execution_count": null,
   "id": "c2e574c9-aad2-4418-ad39-883f6e7d79c0",
   "metadata": {},
   "outputs": [],
   "source": [
    "3+5"
   ]
  },
  {
   "cell_type": "code",
   "execution_count": null,
   "id": "a06c07f7-bc06-4040-bbe8-7ee21ad51109",
   "metadata": {},
   "outputs": [],
   "source": [
    "x = 3+5\n",
    "x"
   ]
  },
  {
   "cell_type": "code",
   "execution_count": null,
   "id": "580f4fe3-6fb4-4daf-a465-c82d9cb15c48",
   "metadata": {},
   "outputs": [],
   "source": [
    "for i in range(11):\n",
    "    "
   ]
  },
  {
   "cell_type": "code",
   "execution_count": null,
   "id": "3ef905c8-8350-4161-97e8-b4c4a77d8226",
   "metadata": {},
   "outputs": [],
   "source": [
    "suite/Block---> A group of statement written together "
   ]
  },
  {
   "cell_type": "code",
   "execution_count": null,
   "id": "47ac6c10-82d2-4c4d-9284-80c15d43ed4d",
   "metadata": {},
   "outputs": [],
   "source": [
    "a = 10\n",
    "if x <10:\n",
    "    \n",
    "    print('Somethinh')"
   ]
  },
  {
   "cell_type": "code",
   "execution_count": null,
   "id": "3c1fef81-0d86-4c5b-9ded-0bad4a64d7dd",
   "metadata": {},
   "outputs": [],
   "source": [
    "if conditions\n",
    "if else conditions\n",
    "if elif else condition \n",
    "for\n",
    "while \n",
    "function "
   ]
  },
  {
   "cell_type": "code",
   "execution_count": 7,
   "id": "ca076f7a-dc3a-4a06-a63b-9cdd0d14222d",
   "metadata": {},
   "outputs": [
    {
     "name": "stdout",
     "output_type": "stream",
     "text": [
      "1\n",
      "2\n",
      "3\n",
      "4\n",
      "5\n",
      "6\n",
      "7\n",
      "8\n",
      "9\n",
      "10\n"
     ]
    }
   ],
   "source": [
    "for i in range(1,11): #1,2,3,4,5,6,7,8,9,10\n",
    "    print(i)"
   ]
  },
  {
   "cell_type": "code",
   "execution_count": 8,
   "id": "bcccbc36-5a07-4870-bcb2-52d2d3112f55",
   "metadata": {},
   "outputs": [
    {
     "name": "stdout",
     "output_type": "stream",
     "text": [
      "2\n",
      "4\n",
      "6\n",
      "8\n",
      "10\n"
     ]
    }
   ],
   "source": [
    "for i in range(1,11):\n",
    "    if i%2 == 0:\n",
    "        print(i)"
   ]
  },
  {
   "cell_type": "code",
   "execution_count": null,
   "id": "9988e2ab-7a3d-44b3-be2b-3f648239bae4",
   "metadata": {},
   "outputs": [],
   "source": [
    "Assignment operator (=) and Equality Operator(==)"
   ]
  },
  {
   "cell_type": "code",
   "execution_count": 9,
   "id": "06503c4e-a6a5-4942-9798-0a3e91932e2a",
   "metadata": {},
   "outputs": [
    {
     "data": {
      "text/plain": [
       "True"
      ]
     },
     "execution_count": 9,
     "metadata": {},
     "output_type": "execute_result"
    }
   ],
   "source": [
    "2%2 == 0"
   ]
  },
  {
   "cell_type": "code",
   "execution_count": 11,
   "id": "44b8666b-309e-490e-8123-4b4b759e8fea",
   "metadata": {},
   "outputs": [
    {
     "data": {
      "text/plain": [
       "float"
      ]
     },
     "execution_count": 11,
     "metadata": {},
     "output_type": "execute_result"
    }
   ],
   "source": [
    "a = 10.016178547216364\n",
    "type(a)"
   ]
  },
  {
   "cell_type": "code",
   "execution_count": null,
   "id": "e5bc670a-84d3-45f5-9894-11ff7e7f455c",
   "metadata": {},
   "outputs": [],
   "source": [
    "a = '...', \"...\", '''....''' or \"\"\"....\"\"\""
   ]
  },
  {
   "cell_type": "code",
   "execution_count": 13,
   "id": "c9d00a69-354e-4dfd-8cd9-e6a4964ad800",
   "metadata": {},
   "outputs": [
    {
     "name": "stdout",
     "output_type": "stream",
     "text": [
      "<class 'str'>\n"
     ]
    }
   ],
   "source": [
    "a = 'python'\n",
    "print(type(a))"
   ]
  },
  {
   "cell_type": "code",
   "execution_count": 14,
   "id": "90c1d8af-da36-4f40-8c95-de9fa5d01ed8",
   "metadata": {},
   "outputs": [
    {
     "name": "stdout",
     "output_type": "stream",
     "text": [
      " I am a Learnbay Student\n",
      "I am completed the python module \n",
      "we will going to cover ml and stats soon\n"
     ]
    }
   ],
   "source": [
    "a = ''' I am a Learnbay Student\n",
    "I am completed the python module \n",
    "we will going to cover ml and stats soon'''\n",
    "print(a)"
   ]
  },
  {
   "cell_type": "code",
   "execution_count": 15,
   "id": "4e07244e-bdcc-46db-885a-bde86673a6e2",
   "metadata": {},
   "outputs": [
    {
     "ename": "SyntaxError",
     "evalue": "unterminated string literal (detected at line 1) (4200316257.py, line 1)",
     "output_type": "error",
     "traceback": [
      "\u001b[1;36m  Cell \u001b[1;32mIn[15], line 1\u001b[1;36m\u001b[0m\n\u001b[1;33m    a = ' I am a Learnbay Student\u001b[0m\n\u001b[1;37m        ^\u001b[0m\n\u001b[1;31mSyntaxError\u001b[0m\u001b[1;31m:\u001b[0m unterminated string literal (detected at line 1)\n"
     ]
    }
   ],
   "source": [
    "a = ' I am a Learnbay Student\n",
    "I am completed the python module \n",
    "we will going to cover ml and stats soon'\n",
    "print(a)"
   ]
  },
  {
   "cell_type": "code",
   "execution_count": 16,
   "id": "d40b144a-7cca-4109-a5df-3c71f3a53a7c",
   "metadata": {},
   "outputs": [
    {
     "data": {
      "text/plain": [
       "False"
      ]
     },
     "execution_count": 16,
     "metadata": {},
     "output_type": "execute_result"
    }
   ],
   "source": [
    "a = 10\n",
    "b = 20\n",
    "\n",
    "a == b"
   ]
  },
  {
   "cell_type": "code",
   "execution_count": 17,
   "id": "9a9316af-3bdc-4ab3-9d4d-a00f046f65cd",
   "metadata": {},
   "outputs": [
    {
     "data": {
      "text/plain": [
       "True"
      ]
     },
     "execution_count": 17,
     "metadata": {},
     "output_type": "execute_result"
    }
   ],
   "source": [
    "a = 10\n",
    "b = 10\n",
    "\n",
    "a == b"
   ]
  },
  {
   "cell_type": "code",
   "execution_count": null,
   "id": "9dda305c-aa72-4a26-9cfb-0d2d8cbe399c",
   "metadata": {},
   "outputs": [],
   "source": [
    "Bitwise AND (&)\n",
    "Bitwise Or (|)\n",
    "Biwtise Not (~)\n",
    "Bitwise XOR (^)\n",
    "BItwise LEft shift (<<)\n",
    "Biwtise Right Shift (>>)\n"
   ]
  },
  {
   "cell_type": "code",
   "execution_count": 18,
   "id": "9418aeaf-60c1-42bd-9c09-c8c306fed281",
   "metadata": {},
   "outputs": [
    {
     "data": {
      "text/plain": [
       "'0b1010'"
      ]
     },
     "execution_count": 18,
     "metadata": {},
     "output_type": "execute_result"
    }
   ],
   "source": [
    "bin(10)"
   ]
  },
  {
   "cell_type": "code",
   "execution_count": 19,
   "id": "91c44d54-a8e4-4737-92bb-f1ae094b9979",
   "metadata": {},
   "outputs": [
    {
     "data": {
      "text/plain": [
       "'0b10100'"
      ]
     },
     "execution_count": 19,
     "metadata": {},
     "output_type": "execute_result"
    }
   ],
   "source": [
    "bin(20)"
   ]
  },
  {
   "cell_type": "code",
   "execution_count": null,
   "id": "4988e34b-644f-45fe-9d49-ab5cc126b6cb",
   "metadata": {},
   "outputs": [],
   "source": []
  }
 ],
 "metadata": {
  "kernelspec": {
   "display_name": "Python 3 (ipykernel)",
   "language": "python",
   "name": "python3"
  },
  "language_info": {
   "codemirror_mode": {
    "name": "ipython",
    "version": 3
   },
   "file_extension": ".py",
   "mimetype": "text/x-python",
   "name": "python",
   "nbconvert_exporter": "python",
   "pygments_lexer": "ipython3",
   "version": "3.11.7"
  }
 },
 "nbformat": 4,
 "nbformat_minor": 5
}

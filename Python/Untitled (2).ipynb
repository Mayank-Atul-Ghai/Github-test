{
 "cells": [
  {
   "cell_type": "markdown",
   "id": "6d7a2005-a03f-42bc-8ff6-7c363b582d70",
   "metadata": {},
   "source": [
    "### Conditional Statements or Control Statements \n",
    "\n",
    "- They are used when we want some piece of code to get executed only if a particular condition is either True or False\n",
    "- __if__ keyword is used to write a conditional statement\n",
    "\n",
    "#### Different types of conditional statements \n",
    "\n",
    "- if condition\n",
    "- if...else condition\n",
    "- multiple if condition\n",
    "- if...elif..else condition \n",
    "- Nested if...else condition or Nested if...elif...else condition "
   ]
  },
  {
   "cell_type": "markdown",
   "id": "cb06fc2c-0ff9-4892-8c51-f5d0df0cc788",
   "metadata": {},
   "source": [
    "### Identations \n",
    "\n",
    "- __Suite:__ - A group of statements written together in python\n",
    "- Identation refers to the space that are used in the beginning of a statement, the statements with same indentations belong to the same suite\n",
    "- By default, python provides 4 spaces but it can be increased or decreased by the programmer "
   ]
  },
  {
   "cell_type": "code",
   "execution_count": 2,
   "id": "280cb5c2-de3d-4523-bb5c-c47eb25ab60e",
   "metadata": {},
   "outputs": [
    {
     "name": "stdout",
     "output_type": "stream",
     "text": [
      "10\n"
     ]
    }
   ],
   "source": [
    "a = 10\n",
    "\n",
    "if a>0:\n",
    "    print(a)"
   ]
  },
  {
   "cell_type": "code",
   "execution_count": 5,
   "id": "931d8653-d400-4c73-bcd7-007f12e5865d",
   "metadata": {},
   "outputs": [
    {
     "ename": "IndentationError",
     "evalue": "expected an indented block after 'if' statement on line 3 (3035349587.py, line 4)",
     "output_type": "error",
     "traceback": [
      "\u001b[1;36m  Cell \u001b[1;32mIn[5], line 4\u001b[1;36m\u001b[0m\n\u001b[1;33m    print(a)\u001b[0m\n\u001b[1;37m    ^\u001b[0m\n\u001b[1;31mIndentationError\u001b[0m\u001b[1;31m:\u001b[0m expected an indented block after 'if' statement on line 3\n"
     ]
    }
   ],
   "source": [
    "a = 10\n",
    "\n",
    "if a>0:\n",
    "print(a)"
   ]
  },
  {
   "cell_type": "code",
   "execution_count": 10,
   "id": "ef238f9a-82fa-42bf-8049-63ad95e813a5",
   "metadata": {},
   "outputs": [
    {
     "name": "stdout",
     "output_type": "stream",
     "text": [
      "Welcome Everyone!!!\n",
      "To Python classes of 15th March\n",
      "The value of a is 10\n"
     ]
    }
   ],
   "source": [
    "a = 10\n",
    "\n",
    "if a>0:\n",
    "    # suite\n",
    "    print('Welcome Everyone!!!')\n",
    "    print('To Python classes of 15th March')\n",
    "    print(f'The value of a is {a}')"
   ]
  },
  {
   "cell_type": "markdown",
   "id": "632bc673-7ec1-47e4-ad22-89d4f0fd83f5",
   "metadata": {},
   "source": [
    "#### 1. if condition statement \n",
    "\n",
    "__Syntax:__\n",
    "\n",
    "        if condition:\n",
    "            code-1\n",
    "            code-2\n",
    "            code-3\n",
    "\n",
    "- When the condition in the if statement is True then the block of code written inside the if block will be executed "
   ]
  },
  {
   "cell_type": "code",
   "execution_count": 11,
   "id": "8a331b74-6b5e-4f7d-8801-0bed68122b59",
   "metadata": {},
   "outputs": [
    {
     "name": "stdin",
     "output_type": "stream",
     "text": [
      "Enter either a Yes or No:  Yes\n"
     ]
    },
    {
     "name": "stdout",
     "output_type": "stream",
     "text": [
      "Yes\n",
      "That is what I said\n",
      "Your response is Good\n"
     ]
    }
   ],
   "source": [
    "# I want to take an input from the user: Yes or No and i want to print some statement when the input is Yes\n",
    "\n",
    "# Input that I am taking from the user \n",
    "my_str = input('Enter either a Yes or No: ')\n",
    "\n",
    "# Conditional statement \n",
    "if my_str == 'Yes':\n",
    "    print('Yes')\n",
    "    print('That is what I said')\n",
    "    print('Your response is Good')"
   ]
  },
  {
   "cell_type": "code",
   "execution_count": 13,
   "id": "18d461e6-3e15-475f-9dee-511ddf9bcf18",
   "metadata": {},
   "outputs": [
    {
     "name": "stdin",
     "output_type": "stream",
     "text": [
      "Enter either a Yes or No:  No\n"
     ]
    },
    {
     "name": "stdout",
     "output_type": "stream",
     "text": [
      "No\n",
      "That is what I said\n",
      "Your response is Good\n"
     ]
    }
   ],
   "source": [
    "# I want to take an input from the user: Yes or No and i want to print some statement when the input is Yes\n",
    "\n",
    "# Input that I am taking from the user \n",
    "my_str = input('Enter either a Yes or No: ')\n",
    "\n",
    "# Conditional statement \n",
    "if my_str == 'No':\n",
    "    print('No')\n",
    "    print('That is what I said')\n",
    "    print('Your response is Good')"
   ]
  },
  {
   "cell_type": "markdown",
   "id": "caddcc5d-6a2e-4e2c-9a7f-70be8c274e24",
   "metadata": {},
   "source": [
    "2. Multiple if statement \n",
    "\n",
    "__Syntax:__\n",
    "\n",
    "                if condition-1:\n",
    "                    code-1\n",
    "                \n",
    "                if condition-2:\n",
    "                    code-2\n",
    "                \n",
    "                if condition-3:\n",
    "                    code-3\n",
    "                \n",
    "                .\n",
    "                .\n",
    "                .\n",
    "                .\n",
    "                .\n",
    "                .\n",
    "                \n",
    "                if condition-n:\n",
    "                    code-n"
   ]
  },
  {
   "cell_type": "code",
   "execution_count": 16,
   "id": "17e2a81c-2b32-4b5f-bc77-842078875271",
   "metadata": {},
   "outputs": [
    {
     "name": "stdin",
     "output_type": "stream",
     "text": [
      "Enter a number:  6\n"
     ]
    },
    {
     "name": "stdout",
     "output_type": "stream",
     "text": [
      "6 is divisble by 2\n",
      "6 is divisble by 3\n"
     ]
    }
   ],
   "source": [
    "# WAP to tell a number is divisible by 2, divisible by 3, divisible by 5 and divisible by 2,3,5\n",
    "\n",
    "# Input from the user \n",
    "num = int(input('Enter a number: '))\n",
    "\n",
    "if num%2 == 0:\n",
    "    print(f'{num} is divisble by 2')\n",
    "\n",
    "if num%3 == 0:\n",
    "    print(f'{num} is divisble by 3')\n",
    "\n",
    "if num%5 == 0:\n",
    "    print(f'{num} is divisble by 5')\n",
    "\n",
    "if num%2 == 0 and num%3 == 0 and num%5 == 0:\n",
    "    print(f'{num} is divisble by 2,3,5')"
   ]
  },
  {
   "cell_type": "code",
   "execution_count": 21,
   "id": "6e3803fb-9a40-4f67-a3af-e098360dc4bc",
   "metadata": {},
   "outputs": [
    {
     "name": "stdin",
     "output_type": "stream",
     "text": [
      "Enter a number:  17\n"
     ]
    }
   ],
   "source": [
    "# WAP to tell a number is divisible by 2, divisible by 3, divisible by 5 and divisible by 2,3,5\n",
    "\n",
    "# Input from the user \n",
    "num = int(input('Enter a number: '))\n",
    "\n",
    "if num%2 == 0:\n",
    "    print(f'{num} is divisble by 2')\n",
    "\n",
    "if num%3 == 0:\n",
    "    print(f'{num} is divisble by 3')\n",
    "\n",
    "if num%5 == 0:\n",
    "    print(f'{num} is divisble by 5')\n",
    "\n",
    "if num%2 == 0 and num%3 == 0 and num%5 == 0:\n",
    "    print(f'{num} is divisble by 2,3,5')"
   ]
  },
  {
   "cell_type": "markdown",
   "id": "6f32dffc-a6de-4bb4-ab70-a89091ec16a8",
   "metadata": {},
   "source": [
    "### 3. if...else condition \n",
    "\n",
    "__Syntax:__\n",
    "\n",
    "            if condition:\n",
    "                code-1\n",
    "                code-2\n",
    "            else:\n",
    "                code-3\n",
    "                code-4\n",
    "\n",
    "- When the condition in the if statement is True, the code written inside the if block will get executed\n",
    "- When the condition in the if statement is False, the code written inside the else block will get executed"
   ]
  },
  {
   "cell_type": "code",
   "execution_count": 19,
   "id": "a8b9cf2c-a7c4-4c0b-ad0c-ff0f58da3e3f",
   "metadata": {},
   "outputs": [
    {
     "name": "stdin",
     "output_type": "stream",
     "text": [
      "Enter a number:  16\n"
     ]
    },
    {
     "name": "stdout",
     "output_type": "stream",
     "text": [
      "The number 16 is even\n"
     ]
    }
   ],
   "source": [
    "# WAP to check whether a number taken from the user is an even number or an odd number\n",
    "\n",
    "num = int(input('Enter a number: '))\n",
    "\n",
    "if num % 2 == 0 :\n",
    "    print(f'The number {num} is even')\n",
    "else:\n",
    "    print(f'The number {num} is odd')"
   ]
  },
  {
   "cell_type": "code",
   "execution_count": 20,
   "id": "55d9d6f2-2669-48d2-8283-53df2c7c832e",
   "metadata": {},
   "outputs": [
    {
     "name": "stdin",
     "output_type": "stream",
     "text": [
      "Enter a number:  17\n"
     ]
    },
    {
     "name": "stdout",
     "output_type": "stream",
     "text": [
      "The number 17 is odd\n"
     ]
    }
   ],
   "source": [
    "# WAP to check whether a number taken from the user is an even number or an odd number\n",
    "\n",
    "num = int(input('Enter a number: '))\n",
    "\n",
    "if num % 2 == 0 :\n",
    "    print(f'The number {num} is even')\n",
    "else:\n",
    "    print(f'The number {num} is odd')"
   ]
  },
  {
   "cell_type": "markdown",
   "id": "666492aa-5e78-4e40-b8f7-ce94dac29cc1",
   "metadata": {},
   "source": [
    "#### 4. if.....elif....else statement \n",
    "\n",
    "__Syntax:__\n",
    "\n",
    "        if condition-1:\n",
    "            code-1\n",
    "        elif condition-2:\n",
    "            code-2\n",
    "        elif condition-3:\n",
    "            code-3\n",
    "        elif condition-4:\n",
    "            code-4\n",
    "        else: \n",
    "            code-5"
   ]
  },
  {
   "cell_type": "markdown",
   "id": "75b50d1a-84e2-4fa4-93e2-1ff2929b6b80",
   "metadata": {},
   "source": [
    "#### Multiple if statement "
   ]
  },
  {
   "cell_type": "code",
   "execution_count": 22,
   "id": "8e2658c2-43e2-4871-a7df-3174ffd722f9",
   "metadata": {},
   "outputs": [
    {
     "name": "stdin",
     "output_type": "stream",
     "text": [
      "Enter a number:  10\n"
     ]
    },
    {
     "name": "stdout",
     "output_type": "stream",
     "text": [
      "10 is divisble by 2\n",
      "10 is divisble by 5\n",
      "The number is not divisible by any of them\n"
     ]
    }
   ],
   "source": [
    "# WAP to tell a number is divisible by 2, divisible by 3, divisible by 5 and divisible by 2,3,5\n",
    "\n",
    "# Input from the user \n",
    "num = int(input('Enter a number: '))\n",
    "\n",
    "if num%2 == 0:\n",
    "    print(f'{num} is divisble by 2')\n",
    "\n",
    "if num%3 == 0:\n",
    "    print(f'{num} is divisble by 3')\n",
    "\n",
    "if num%5 == 0:\n",
    "    print(f'{num} is divisble by 5')\n",
    "\n",
    "if num%2 == 0 and num%3 == 0 and num%5 == 0:\n",
    "    print(f'{num} is divisble by 2,3,5')\n",
    "else:\n",
    "    print('The number is not divisible by any of them')"
   ]
  },
  {
   "cell_type": "code",
   "execution_count": 25,
   "id": "06b600f2-344f-4b24-9ef5-e14821bb4897",
   "metadata": {},
   "outputs": [
    {
     "name": "stdin",
     "output_type": "stream",
     "text": [
      "Enter a number:  60\n"
     ]
    },
    {
     "name": "stdout",
     "output_type": "stream",
     "text": [
      "60 is divisble by 2,3,5\n",
      " The pointer is here\n"
     ]
    }
   ],
   "source": [
    "# WAP to tell a number is divisible by 2, divisible by 3, divisible by 5 and divisible by 2,3,5\n",
    "\n",
    "# Input from the user \n",
    "num = int(input('Enter a number: '))\n",
    "\n",
    "if num%2 == 0 and num%3 == 0 and num%5 == 0:\n",
    "    print(f'{num} is divisble by 2,3,5')\n",
    "    \n",
    "elif num%2 == 0:\n",
    "    print(f'{num} is divisble by 2')\n",
    "\n",
    "elif num%3 == 0:\n",
    "    print(f'{num} is divisble by 3')\n",
    "\n",
    "elif num%5 == 0:\n",
    "    print(f'{num} is divisble by 5')\n",
    "else:\n",
    "    print('The number is not divisible by any of them')\n",
    "\n",
    "print(' The pointer is here')"
   ]
  },
  {
   "cell_type": "code",
   "execution_count": 27,
   "id": "5b0d61ef-fb5f-4394-be1f-6310886ae3b8",
   "metadata": {},
   "outputs": [
    {
     "name": "stdin",
     "output_type": "stream",
     "text": [
      "Enter a number:  50\n"
     ]
    },
    {
     "name": "stdout",
     "output_type": "stream",
     "text": [
      "50 is divisble by 2\n",
      " The pointer is here\n"
     ]
    }
   ],
   "source": [
    "# WAP to tell a number is divisible by 2, divisible by 3, divisible by 5 and divisible by 2,3,5\n",
    "\n",
    "# Input from the user \n",
    "num = int(input('Enter a number: '))\n",
    "\n",
    "if num%2 == 0 and num%3 == 0 and num%5 == 0:\n",
    "    print(f'{num} is divisble by 2,3,5')\n",
    "    \n",
    "elif num%2 == 0:\n",
    "    print(f'{num} is divisble by 2')\n",
    "\n",
    "elif num%3 == 0:\n",
    "    print(f'{num} is divisble by 3')\n",
    "\n",
    "elif num%5 == 0:\n",
    "    print(f'{num} is divisble by 5')\n",
    "else:\n",
    "    print('The number is not divisible by any of them')\n",
    "\n",
    "print(' The pointer is here')"
   ]
  },
  {
   "cell_type": "markdown",
   "id": "caf2aad1-0cb1-4f47-91c3-9eddea3d83d8",
   "metadata": {},
   "source": [
    "#### 5. Nested if...else statement or Nested if..elif..else stataemnt\n",
    "\n",
    "\n",
    "__Syntax for nested if....else :__\n",
    "\n",
    "            if condition:\n",
    "                code\n",
    "                if condition-2:\n",
    "                    code\n",
    "                    if conditon-3\n",
    "                        code\n",
    "                    else:\n",
    "                        code\n",
    "                else:\n",
    "                    code\n",
    "            else:\n",
    "                code\n",
    "\n",
    "__Syntax for nested if..elif...else :__\n",
    "\n",
    "            if condition:\n",
    "                code\n",
    "                if condition:\n",
    "                    code\n",
    "                elif condition:\n",
    "                    code\n",
    "                else:\n",
    "                    code\n",
    "            elif condition:\n",
    "                code\n",
    "                if condition:\n",
    "                    code\n",
    "                elif condition\n",
    "                    code\n",
    "                else:\n",
    "                    code \n",
    "            else:\n",
    "                code"
   ]
  },
  {
   "cell_type": "code",
   "execution_count": 29,
   "id": "4c9771f1-b5b1-4838-8156-f28491ce4c76",
   "metadata": {},
   "outputs": [
    {
     "name": "stdin",
     "output_type": "stream",
     "text": [
      "Enter a number:  10\n"
     ]
    },
    {
     "name": "stdout",
     "output_type": "stream",
     "text": [
      "The number 10 is even\n"
     ]
    }
   ],
   "source": [
    "# WAP to check a number is even or odd\n",
    "\n",
    "num = int(input('Enter a number: '))\n",
    "\n",
    "if num % 2 == 0 :\n",
    "    print(f'The number {num} is even')\n",
    "else:\n",
    "    print(f'The number {num} is odd')"
   ]
  },
  {
   "cell_type": "code",
   "execution_count": 32,
   "id": "0cf7d159-3bf9-4e72-8114-d22fed8ff956",
   "metadata": {},
   "outputs": [
    {
     "name": "stdin",
     "output_type": "stream",
     "text": [
      "Enter a number:  jhdjf\n"
     ]
    },
    {
     "name": "stdout",
     "output_type": "stream",
     "text": [
      "Invalid Input\n"
     ]
    }
   ],
   "source": [
    "num = input('Enter a number: ')\n",
    "\n",
    "if num.isdecimal(): # checking the input is a number or not\n",
    "\n",
    "    if int(num)%2 == 0:\n",
    "        print(f'The number {num} is even')\n",
    "    else:\n",
    "        print(f'The number {num} is odd')\n",
    "else:\n",
    "    print('Invalid Input')"
   ]
  },
  {
   "cell_type": "markdown",
   "id": "7d52a83e-f41a-4af5-b82b-517df7c392b6",
   "metadata": {},
   "source": [
    "#### WAP that takes an input from the user, if the input is a character then it will tell whether the character is a consonant or a vowel and if the input is a number then whether it is even or odd"
   ]
  },
  {
   "cell_type": "code",
   "execution_count": 33,
   "id": "ec261cac-fa72-45d9-9d8d-f13b5aa6e37f",
   "metadata": {},
   "outputs": [
    {
     "name": "stdin",
     "output_type": "stream",
     "text": [
      "Enter a number or a charcter:  l\n"
     ]
    },
    {
     "name": "stdout",
     "output_type": "stream",
     "text": [
      "l is a Consonant\n"
     ]
    }
   ],
   "source": [
    "my_input = input('Enter a number or a charcter: ')\n",
    "\n",
    "if my_input.isalpha():\n",
    "\n",
    "    if my_input in 'aeiouAEIOU':\n",
    "        print(f'{my_input} is a Vowel')\n",
    "    else:\n",
    "        print(f'{my_input} is a Consonant')\n",
    "        \n",
    "elif my_input.isdecimal():\n",
    "    \n",
    "    if int(my_input)%2 == 0:\n",
    "        print(f'{my_input} is a Even Number')\n",
    "    else:\n",
    "        print(f'{my_input} is a Odd Number')\n",
    "\n",
    "else:\n",
    "    print(f'{my_input} is an Invalid Input')"
   ]
  },
  {
   "cell_type": "code",
   "execution_count": 34,
   "id": "34c4ac78-ae7f-4c44-a516-dffb3d47099e",
   "metadata": {},
   "outputs": [
    {
     "name": "stdin",
     "output_type": "stream",
     "text": [
      "Enter a number or a charcter:  25\n"
     ]
    },
    {
     "name": "stdout",
     "output_type": "stream",
     "text": [
      "25 is a Odd Number\n"
     ]
    }
   ],
   "source": [
    "my_input = input('Enter a number or a charcter: ')\n",
    "\n",
    "if my_input.isalpha():\n",
    "\n",
    "    if my_input in 'aeiouAEIOU':\n",
    "        print(f'{my_input} is a Vowel')\n",
    "    else:\n",
    "        print(f'{my_input} is a Consonant')\n",
    "        \n",
    "elif my_input.isdecimal():\n",
    "    \n",
    "    if int(my_input)%2 == 0:\n",
    "        print(f'{my_input} is a Even Number')\n",
    "    else:\n",
    "        print(f'{my_input} is a Odd Number')\n",
    "\n",
    "else:\n",
    "    print(f'{my_input} is an Invalid Input')"
   ]
  },
  {
   "cell_type": "code",
   "execution_count": 38,
   "id": "a600af7c-8344-410c-a9ea-94dd9690bae6",
   "metadata": {},
   "outputs": [
    {
     "name": "stdin",
     "output_type": "stream",
     "text": [
      "Enter a number or a charcter:  l\n"
     ]
    },
    {
     "name": "stdout",
     "output_type": "stream",
     "text": [
      "l is a Consonant\n"
     ]
    }
   ],
   "source": [
    "my_input = input('Enter a number or a charcter: ')\n",
    "\n",
    "if my_input.isalpha():\n",
    "\n",
    "    if my_input in 'aeiouAEIOU':\n",
    "        print(f'{my_input} is a Vowel')\n",
    "    else:\n",
    "        print(f'{my_input} is a Consonant')\n",
    "        \n",
    "elif my_input.isdecimal():\n",
    "    \n",
    "    if int(my_input)%2 == 0:\n",
    "        print(f'{my_input} is a Even Number')\n",
    "    else:\n",
    "        print(f'{my_input} is a Odd Number')\n",
    "\n",
    "else:\n",
    "    print(f'{my_input} is an Invalid Input')"
   ]
  },
  {
   "cell_type": "markdown",
   "id": "fad3b520-8fa9-469e-88b5-94f8df523494",
   "metadata": {},
   "source": [
    "Here are 25 coding questions on conditional statements in Python with a medium difficulty level:\n",
    "\n",
    "1. Write a Python program that takes an integer input from the user and prints \"Even\" if the number is even, and \"Odd\" if it is odd.\n",
    "2. Write a Python program that takes three numbers as input and prints the largest among them.\n",
    "3. Write a Python program to check if a year entered by the user is a leap year or not.\n",
    "4. Write a Python program that takes two numbers as input and prints \"Equal\" if they are equal, otherwise prints \"Not Equal\".\n",
    "5. Write a Python program that takes a character as input and prints \"Vowel\" if it is a vowel, otherwise prints \"Consonant\".\n",
    "6. Write a Python program that checks if a number is positive, negative, or zero, and prints the result accordingly.\n",
    "7. Write a Python program that takes a string input and prints \"Palindrome\" if it is a palindrome, otherwise prints \"Not Palindrome\".\n",
    "8. Write a Python program that takes an age as input and determines if a person is eligible to vote (age >= 18) or not.\n",
    "9. Write a Python program that takes a number as input and checks if it is a prime number or not.\n",
    "10. Write a Python program that takes three sides of a triangle as input and determines if it is an equilateral, isosceles, or scalene triangle.\n",
    "11. Write a Python program that takes a temperature in Celsius as input and converts it to Fahrenheit if the temperature is above 0, otherwise prints \"Invalid input\".\n",
    "12. Write a Python program that checks if a given number is a perfect square or not.\n",
    "13. Write a Python program that takes two numbers as input and calculates their sum, difference, product, and quotient based on user input (+, -, *, /).\n",
    "14. Write a Python program that takes a number as input and prints \"Positive\" if it is positive, \"Negative\" if it is negative, and \"Zero\" if it is zero.\n",
    "15. Write a Python program that takes a string input and checks if it contains any digits.\n",
    "16. Write a Python program that calculates the factorial of a number using a recursive function.\n",
    "17. Write a Python program that takes a number as input and checks if it is a Fibonacci number or not.\n",
    "18. Write a Python program that takes a number as input and checks if it is an Armstrong number or not.\n",
    "19. Write a Python program that takes a list of numbers as input and prints the sum of all positive numbers in the list.\n",
    "20. Write a Python program that takes two strings as input and checks if they are anagrams of each other.\n",
    "21. Write a Python program that takes a number as input and prints its square root if it is positive, otherwise prints \"Invalid input\".\n",
    "22. Write a Python program that takes a list of integers as input and prints the count of even and odd numbers in the list.\n",
    "23. Write a Python program that takes a number as input and checks if it is a perfect number or not.\n",
    "24. Write a Python program that takes a list of integers as input and prints the maximum and minimum values in the list.\n",
    "25. Write a Python program that takes a string input and checks if it is a valid email address format (contains \"@\" and \".\")."
   ]
  },
  {
   "cell_type": "code",
   "execution_count": null,
   "id": "b4d6253e-b767-489d-91cc-4f614fa8ed0b",
   "metadata": {},
   "outputs": [],
   "source": []
  }
 ],
 "metadata": {
  "kernelspec": {
   "display_name": "Python 3 (ipykernel)",
   "language": "python",
   "name": "python3"
  },
  "language_info": {
   "codemirror_mode": {
    "name": "ipython",
    "version": 3
   },
   "file_extension": ".py",
   "mimetype": "text/x-python",
   "name": "python",
   "nbconvert_exporter": "python",
   "pygments_lexer": "ipython3",
   "version": "3.11.7"
  }
 },
 "nbformat": 4,
 "nbformat_minor": 5
}

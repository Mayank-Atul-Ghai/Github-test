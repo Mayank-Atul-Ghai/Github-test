{
 "cells": [
  {
   "cell_type": "markdown",
   "id": "51b8d403-607e-44e5-be91-c1f4fc368719",
   "metadata": {},
   "source": [
    "### List Methods "
   ]
  },
  {
   "cell_type": "code",
   "execution_count": 1,
   "id": "0f793b13-6557-42ab-aba5-9af988a20e98",
   "metadata": {},
   "outputs": [
    {
     "name": "stdout",
     "output_type": "stream",
     "text": [
      "[1, 2, 3, 4, 5] <class 'list'>\n"
     ]
    }
   ],
   "source": [
    "lst = [1,2,3,4,5]\n",
    "print(lst, type(lst))"
   ]
  },
  {
   "cell_type": "code",
   "execution_count": 2,
   "id": "d5266c29-1572-4894-80af-0e196ec23f86",
   "metadata": {},
   "outputs": [
    {
     "name": "stdout",
     "output_type": "stream",
     "text": [
      "['__add__', '__class__', '__class_getitem__', '__contains__', '__delattr__', '__delitem__', '__dir__', '__doc__', '__eq__', '__format__', '__ge__', '__getattribute__', '__getitem__', '__getstate__', '__gt__', '__hash__', '__iadd__', '__imul__', '__init__', '__init_subclass__', '__iter__', '__le__', '__len__', '__lt__', '__mul__', '__ne__', '__new__', '__reduce__', '__reduce_ex__', '__repr__', '__reversed__', '__rmul__', '__setattr__', '__setitem__', '__sizeof__', '__str__', '__subclasshook__', 'append', 'clear', 'copy', 'count', 'extend', 'index', 'insert', 'pop', 'remove', 'reverse', 'sort']\n"
     ]
    }
   ],
   "source": [
    "print(dir(list))"
   ]
  },
  {
   "cell_type": "code",
   "execution_count": 3,
   "id": "c3de48df-7835-4e54-856b-451664f45f42",
   "metadata": {},
   "outputs": [
    {
     "name": "stdout",
     "output_type": "stream",
     "text": [
      "['__add__', '__class__', '__contains__', '__delattr__', '__dir__', '__doc__', '__eq__', '__format__', '__ge__', '__getattribute__', '__getitem__', '__getnewargs__', '__getstate__', '__gt__', '__hash__', '__init__', '__init_subclass__', '__iter__', '__le__', '__len__', '__lt__', '__mod__', '__mul__', '__ne__', '__new__', '__reduce__', '__reduce_ex__', '__repr__', '__rmod__', '__rmul__', '__setattr__', '__sizeof__', '__str__', '__subclasshook__', 'capitalize', 'casefold', 'center', 'count', 'encode', 'endswith', 'expandtabs', 'find', 'format', 'format_map', 'index', 'isalnum', 'isalpha', 'isascii', 'isdecimal', 'isdigit', 'isidentifier', 'islower', 'isnumeric', 'isprintable', 'isspace', 'istitle', 'isupper', 'join', 'ljust', 'lower', 'lstrip', 'maketrans', 'partition', 'removeprefix', 'removesuffix', 'replace', 'rfind', 'rindex', 'rjust', 'rpartition', 'rsplit', 'rstrip', 'split', 'splitlines', 'startswith', 'strip', 'swapcase', 'title', 'translate', 'upper', 'zfill']\n"
     ]
    }
   ],
   "source": [
    "print(dir(str))"
   ]
  },
  {
   "cell_type": "markdown",
   "id": "cc657655-cc91-4d8e-951f-23b4e5c6cc1f",
   "metadata": {},
   "source": [
    "### 1. append()\n",
    "\n",
    "- It adds the element at the end of the list\n",
    "- The addition of an element inside the list will not create a new object "
   ]
  },
  {
   "cell_type": "code",
   "execution_count": 4,
   "id": "27b2e87a-0b70-4171-ae05-1e3c08249a5c",
   "metadata": {},
   "outputs": [
    {
     "data": {
      "text/plain": [
       "[1, 2, 3, 4, 5]"
      ]
     },
     "execution_count": 4,
     "metadata": {},
     "output_type": "execute_result"
    }
   ],
   "source": [
    "lst"
   ]
  },
  {
   "cell_type": "code",
   "execution_count": 5,
   "id": "1fe0f80a-756e-4654-9fb3-8dfd95a19d14",
   "metadata": {},
   "outputs": [],
   "source": [
    "lst.append(6)"
   ]
  },
  {
   "cell_type": "code",
   "execution_count": 6,
   "id": "4c99edde-2b67-4b70-b285-721aaa5fc38d",
   "metadata": {},
   "outputs": [
    {
     "data": {
      "text/plain": [
       "[1, 2, 3, 4, 5, 6]"
      ]
     },
     "execution_count": 6,
     "metadata": {},
     "output_type": "execute_result"
    }
   ],
   "source": [
    "lst"
   ]
  },
  {
   "cell_type": "code",
   "execution_count": 7,
   "id": "fdf9f664-09e8-4ffa-a5a2-3e3d5443ba3a",
   "metadata": {},
   "outputs": [
    {
     "data": {
      "text/plain": [
       "2313395206912"
      ]
     },
     "execution_count": 7,
     "metadata": {},
     "output_type": "execute_result"
    }
   ],
   "source": [
    "id(lst)"
   ]
  },
  {
   "cell_type": "code",
   "execution_count": 8,
   "id": "ddfe0554-56df-4159-bc65-5a970118fc26",
   "metadata": {},
   "outputs": [],
   "source": [
    "lst.append(123)"
   ]
  },
  {
   "cell_type": "code",
   "execution_count": 9,
   "id": "8537c6f5-4f72-4547-9434-0a1402d5edb0",
   "metadata": {},
   "outputs": [
    {
     "name": "stdout",
     "output_type": "stream",
     "text": [
      "[1, 2, 3, 4, 5, 6, 123] 2313395206912\n"
     ]
    }
   ],
   "source": [
    "print(lst, id(lst))"
   ]
  },
  {
   "cell_type": "code",
   "execution_count": 10,
   "id": "16a6530f-1772-41d5-9fc9-8c4769207e98",
   "metadata": {},
   "outputs": [
    {
     "ename": "TypeError",
     "evalue": "list.append() takes exactly one argument (5 given)",
     "output_type": "error",
     "traceback": [
      "\u001b[1;31m---------------------------------------------------------------------------\u001b[0m",
      "\u001b[1;31mTypeError\u001b[0m                                 Traceback (most recent call last)",
      "Cell \u001b[1;32mIn[10], line 1\u001b[0m\n\u001b[1;32m----> 1\u001b[0m lst\u001b[38;5;241m.\u001b[39mappend(\u001b[38;5;241m1\u001b[39m,\u001b[38;5;241m2\u001b[39m,\u001b[38;5;241m3\u001b[39m,\u001b[38;5;241m4\u001b[39m,\u001b[38;5;241m5\u001b[39m)\n",
      "\u001b[1;31mTypeError\u001b[0m: list.append() takes exactly one argument (5 given)"
     ]
    }
   ],
   "source": [
    "lst.append(1,2,3,4,5)"
   ]
  },
  {
   "cell_type": "code",
   "execution_count": 11,
   "id": "e20a2998-db0f-4b06-a5e8-ccb675ae38d0",
   "metadata": {},
   "outputs": [
    {
     "name": "stdout",
     "output_type": "stream",
     "text": [
      "[1, 2, 3, 4, 5, 6, 123, [1, 2, 3, 4]]\n"
     ]
    }
   ],
   "source": [
    "lst.append([1,2,3,4])\n",
    "print(lst)"
   ]
  },
  {
   "cell_type": "code",
   "execution_count": 12,
   "id": "f0627bac-96a0-49a2-b9de-bd81d91b69d9",
   "metadata": {},
   "outputs": [],
   "source": [
    "lst.append('mayank')"
   ]
  },
  {
   "cell_type": "code",
   "execution_count": 13,
   "id": "9fbdcd7d-8b91-42bc-beb2-2a737e9a027c",
   "metadata": {},
   "outputs": [
    {
     "data": {
      "text/plain": [
       "[1, 2, 3, 4, 5, 6, 123, [1, 2, 3, 4], 'mayank']"
      ]
     },
     "execution_count": 13,
     "metadata": {},
     "output_type": "execute_result"
    }
   ],
   "source": [
    "lst"
   ]
  },
  {
   "cell_type": "code",
   "execution_count": 14,
   "id": "bedd3989-b804-4a99-ad2b-0c6c9e4cb439",
   "metadata": {},
   "outputs": [
    {
     "name": "stdout",
     "output_type": "stream",
     "text": [
      "[1, 2, 3, 4, 5, 6, 123, [1, 2, 3, 4], 'mayank', (1, 2)]\n"
     ]
    }
   ],
   "source": [
    "lst.append((1,2))\n",
    "print(lst)"
   ]
  },
  {
   "cell_type": "markdown",
   "id": "5b13a257-34a9-4f1a-877b-984988cf8c38",
   "metadata": {},
   "source": [
    "### 2. extend()\n",
    "\n",
    "- Unlike append() method, extend() method can take an iterable object as an argumnet\n",
    "- It adds the elements of the iterable object to a list one by one"
   ]
  },
  {
   "cell_type": "code",
   "execution_count": 21,
   "id": "479da25a-3155-4123-91eb-5cc0084814e5",
   "metadata": {},
   "outputs": [
    {
     "data": {
      "text/plain": [
       "[2, 4, 6, 8, 10, 1, 2, 3]"
      ]
     },
     "execution_count": 21,
     "metadata": {},
     "output_type": "execute_result"
    }
   ],
   "source": [
    "lst = [2,4,6,8,10]\n",
    "lst.extend([1,2,3])\n",
    "lst"
   ]
  },
  {
   "cell_type": "code",
   "execution_count": 22,
   "id": "70123b32-2aa0-46db-ac6c-e57d44d99709",
   "metadata": {},
   "outputs": [
    {
     "data": {
      "text/plain": [
       "[2, 4, 6, 8, 10, 1, 2, 3, '1', '2', '3', '4']"
      ]
     },
     "execution_count": 22,
     "metadata": {},
     "output_type": "execute_result"
    }
   ],
   "source": [
    "lst.extend('1234')\n",
    "lst"
   ]
  },
  {
   "cell_type": "code",
   "execution_count": 23,
   "id": "64e81bd1-e609-4a9c-b09c-54510a25fa66",
   "metadata": {},
   "outputs": [
    {
     "ename": "TypeError",
     "evalue": "'int' object is not iterable",
     "output_type": "error",
     "traceback": [
      "\u001b[1;31m---------------------------------------------------------------------------\u001b[0m",
      "\u001b[1;31mTypeError\u001b[0m                                 Traceback (most recent call last)",
      "Cell \u001b[1;32mIn[23], line 1\u001b[0m\n\u001b[1;32m----> 1\u001b[0m lst\u001b[38;5;241m.\u001b[39mextend(\u001b[38;5;241m12\u001b[39m)\n",
      "\u001b[1;31mTypeError\u001b[0m: 'int' object is not iterable"
     ]
    }
   ],
   "source": [
    "lst.extend(12)"
   ]
  },
  {
   "cell_type": "code",
   "execution_count": 24,
   "id": "d0814bb1-c9a5-4410-bc79-a94c8abf86a6",
   "metadata": {},
   "outputs": [
    {
     "data": {
      "text/plain": [
       "[2, 4, 6, 8, 10, 1, 2, 3, '1', '2', '3', '4']"
      ]
     },
     "execution_count": 24,
     "metadata": {},
     "output_type": "execute_result"
    }
   ],
   "source": [
    "lst"
   ]
  },
  {
   "cell_type": "code",
   "execution_count": 25,
   "id": "e07b793b-4ce4-44b9-8445-51bf0f696f80",
   "metadata": {},
   "outputs": [
    {
     "name": "stdout",
     "output_type": "stream",
     "text": [
      "[2, 4, 6, 8, 10, 1, 2, 3, '1', '2', '3', '4', 1.0, (3+5j), 'python', range(0, 5), True, None]\n"
     ]
    }
   ],
   "source": [
    "lst.extend((1.0, 3+5j, 'python', range(5), True, None))\n",
    "print(lst)"
   ]
  },
  {
   "cell_type": "markdown",
   "id": "fe18216d-409e-46f3-a3c1-0843bd19d013",
   "metadata": {},
   "source": [
    "### index()\n",
    "\n",
    "- It returns the index of the first occurrence of an element from left to right\n",
    "- If the element is not found, then it will return a __value error__\n",
    "\n",
    "__Syntax:__\n",
    "\n",
    "        lst.index(element, starting index)\n",
    "        lst.index(element, starting index, ending index)"
   ]
  },
  {
   "cell_type": "code",
   "execution_count": 26,
   "id": "764b37e0-804e-4ff2-9113-516620625d0c",
   "metadata": {},
   "outputs": [
    {
     "name": "stdout",
     "output_type": "stream",
     "text": [
      "[2, 4, 6, 8, 10, 1, 2, 3, '1', '2', '3', '4', 1.0, (3+5j), 'python', range(0, 5), True, None]\n"
     ]
    }
   ],
   "source": [
    "print(lst)"
   ]
  },
  {
   "cell_type": "code",
   "execution_count": 27,
   "id": "7084d4b0-bee4-4528-ad77-585379b601a8",
   "metadata": {},
   "outputs": [
    {
     "data": {
      "text/plain": [
       "5"
      ]
     },
     "execution_count": 27,
     "metadata": {},
     "output_type": "execute_result"
    }
   ],
   "source": [
    "lst.index(1.0)"
   ]
  },
  {
   "cell_type": "code",
   "execution_count": 28,
   "id": "a0ed9f5f-65c0-4932-9fb9-cf52db36d0e4",
   "metadata": {},
   "outputs": [
    {
     "data": {
      "text/plain": [
       "True"
      ]
     },
     "execution_count": 28,
     "metadata": {},
     "output_type": "execute_result"
    }
   ],
   "source": [
    "1 == 1.0"
   ]
  },
  {
   "cell_type": "code",
   "execution_count": 29,
   "id": "585f76a8-a9b6-403c-a258-8bc2951be918",
   "metadata": {},
   "outputs": [
    {
     "data": {
      "text/plain": [
       "True"
      ]
     },
     "execution_count": 29,
     "metadata": {},
     "output_type": "execute_result"
    }
   ],
   "source": [
    "1 == True"
   ]
  },
  {
   "cell_type": "code",
   "execution_count": 30,
   "id": "cc611b05-cb4f-440a-b167-1fe697414f85",
   "metadata": {},
   "outputs": [
    {
     "data": {
      "text/plain": [
       "False"
      ]
     },
     "execution_count": 30,
     "metadata": {},
     "output_type": "execute_result"
    }
   ],
   "source": [
    "1 == '1'"
   ]
  },
  {
   "cell_type": "code",
   "execution_count": 31,
   "id": "10ba4157-e0a0-46b3-917a-817ba5999085",
   "metadata": {},
   "outputs": [
    {
     "data": {
      "text/plain": [
       "True"
      ]
     },
     "execution_count": 31,
     "metadata": {},
     "output_type": "execute_result"
    }
   ],
   "source": [
    "1 == 1+0j"
   ]
  },
  {
   "cell_type": "code",
   "execution_count": 32,
   "id": "3dd5152f-c607-4dc7-9188-a5e3c10cdfb0",
   "metadata": {},
   "outputs": [
    {
     "ename": "ValueError",
     "evalue": "1.1 is not in list",
     "output_type": "error",
     "traceback": [
      "\u001b[1;31m---------------------------------------------------------------------------\u001b[0m",
      "\u001b[1;31mValueError\u001b[0m                                Traceback (most recent call last)",
      "Cell \u001b[1;32mIn[32], line 1\u001b[0m\n\u001b[1;32m----> 1\u001b[0m lst\u001b[38;5;241m.\u001b[39mindex(\u001b[38;5;241m1.1\u001b[39m)\n",
      "\u001b[1;31mValueError\u001b[0m: 1.1 is not in list"
     ]
    }
   ],
   "source": [
    "lst.index(1.1)"
   ]
  },
  {
   "cell_type": "code",
   "execution_count": 33,
   "id": "f78a1c57-5415-44fa-9053-45fde9558031",
   "metadata": {},
   "outputs": [
    {
     "data": {
      "text/plain": [
       "5"
      ]
     },
     "execution_count": 33,
     "metadata": {},
     "output_type": "execute_result"
    }
   ],
   "source": [
    "lst.index(True)"
   ]
  },
  {
   "cell_type": "code",
   "execution_count": 36,
   "id": "4d8f4d75-2d8b-4a5d-a3a0-578e7b64496c",
   "metadata": {},
   "outputs": [],
   "source": [
    "lst.append(0)\n",
    "lst.append(False)"
   ]
  },
  {
   "cell_type": "code",
   "execution_count": 37,
   "id": "06bb646e-3638-492b-80f1-b17e343111e7",
   "metadata": {},
   "outputs": [
    {
     "name": "stdout",
     "output_type": "stream",
     "text": [
      "[2, 4, 6, 8, 10, 1, 2, 3, '1', '2', '3', '4', 1.0, (3+5j), 'python', range(0, 5), True, None, 0, 0, False]\n"
     ]
    }
   ],
   "source": [
    "print(lst)"
   ]
  },
  {
   "cell_type": "code",
   "execution_count": 39,
   "id": "29f7221e-f359-4940-974f-0b605e240781",
   "metadata": {},
   "outputs": [
    {
     "data": {
      "text/plain": [
       "18"
      ]
     },
     "execution_count": 39,
     "metadata": {},
     "output_type": "execute_result"
    }
   ],
   "source": [
    "lst.index(0)"
   ]
  },
  {
   "cell_type": "code",
   "execution_count": 40,
   "id": "b58213b5-97d3-4d43-98de-f0591bf46f9e",
   "metadata": {},
   "outputs": [
    {
     "data": {
      "text/plain": [
       "12"
      ]
     },
     "execution_count": 40,
     "metadata": {},
     "output_type": "execute_result"
    }
   ],
   "source": [
    "lst.index(1, 6)"
   ]
  },
  {
   "cell_type": "code",
   "execution_count": 45,
   "id": "180d5446-efc5-49ec-b099-f75ccc38fcb4",
   "metadata": {},
   "outputs": [
    {
     "name": "stdout",
     "output_type": "stream",
     "text": [
      "16\n"
     ]
    }
   ],
   "source": [
    "for i in range(len(lst)):\n",
    "    if type(lst[i]) == bool :\n",
    "        if lst[i] == True:\n",
    "             print(i)"
   ]
  },
  {
   "cell_type": "code",
   "execution_count": 47,
   "id": "28c84c7d-396c-4c45-85fa-5ce247186bbf",
   "metadata": {},
   "outputs": [
    {
     "name": "stdout",
     "output_type": "stream",
     "text": [
      "16\n"
     ]
    }
   ],
   "source": [
    "for i in range(len(lst)):\n",
    "    if type(lst[i]) == bool and lst[i] == True:\n",
    "        print(i)"
   ]
  },
  {
   "cell_type": "code",
   "execution_count": 50,
   "id": "81731f9c-c12c-4a22-b8cb-9e126f6b9177",
   "metadata": {},
   "outputs": [
    {
     "data": {
      "text/plain": [
       "16"
      ]
     },
     "execution_count": 50,
     "metadata": {},
     "output_type": "execute_result"
    }
   ],
   "source": [
    "lst.index(1, 13)"
   ]
  },
  {
   "cell_type": "markdown",
   "id": "e67c4ad9-7fad-4a58-b4bc-66df278a8d94",
   "metadata": {},
   "source": [
    "4. Count()\n",
    "\n",
    "- It will count the number of occurrence of the element inside a list"
   ]
  },
  {
   "cell_type": "code",
   "execution_count": 53,
   "id": "9da020ed-aa0f-48f7-b883-1d929ba1f396",
   "metadata": {},
   "outputs": [
    {
     "name": "stdout",
     "output_type": "stream",
     "text": [
      "[2, 4, 6, 8, 10, 1, 2, 3, '1', '2', '3', '4', 1.0, (3+5j), 'python', range(0, 5), True, None, 0, 0, False]\n"
     ]
    }
   ],
   "source": [
    "print(lst)"
   ]
  },
  {
   "cell_type": "code",
   "execution_count": 54,
   "id": "e5d093f9-d955-4038-8f86-2483dbbdbbe0",
   "metadata": {},
   "outputs": [
    {
     "data": {
      "text/plain": [
       "3"
      ]
     },
     "execution_count": 54,
     "metadata": {},
     "output_type": "execute_result"
    }
   ],
   "source": [
    "lst.count(1)"
   ]
  },
  {
   "cell_type": "code",
   "execution_count": 55,
   "id": "67d0fabe-d8b2-4abb-a969-e90ba5d36a2a",
   "metadata": {},
   "outputs": [
    {
     "data": {
      "text/plain": [
       "False"
      ]
     },
     "execution_count": 55,
     "metadata": {},
     "output_type": "execute_result"
    }
   ],
   "source": [
    "1 == '1'"
   ]
  },
  {
   "cell_type": "code",
   "execution_count": 56,
   "id": "147827a7-aa8e-45cc-89a9-ef97417ab12f",
   "metadata": {},
   "outputs": [
    {
     "data": {
      "text/plain": [
       "0"
      ]
     },
     "execution_count": 56,
     "metadata": {},
     "output_type": "execute_result"
    }
   ],
   "source": [
    "lst.count('Python')"
   ]
  },
  {
   "cell_type": "markdown",
   "id": "e545e607-e7e6-4785-a71a-70a3fbcd3e6b",
   "metadata": {},
   "source": [
    "### 5. pop()\n",
    "\n",
    "- It returns the element available at a particular index and removes the element from the list\n",
    "- By default, it returns and removes the last element of the list\n",
    "- For an invalid index, it returns an index error\n",
    "\n",
    "__Syntax:__\n",
    "\n",
    "            lst.pop(index)"
   ]
  },
  {
   "cell_type": "code",
   "execution_count": 57,
   "id": "a42ce1c2-2eb9-479b-b6c2-3ba301ee4420",
   "metadata": {},
   "outputs": [
    {
     "data": {
      "text/plain": [
       "[True, 'hello', 'python', False, (5-9j), {1: 100, 2: 200, 3: 300}]"
      ]
     },
     "execution_count": 57,
     "metadata": {},
     "output_type": "execute_result"
    }
   ],
   "source": [
    "lst = [True, 'hello', 'python', False, 5-9j, {1:100, 2:200, 3:300}]\n",
    "lst"
   ]
  },
  {
   "cell_type": "code",
   "execution_count": 58,
   "id": "cf0fd500-009e-42b5-a5bb-5c368c8fa684",
   "metadata": {},
   "outputs": [
    {
     "data": {
      "text/plain": [
       "{1: 100, 2: 200, 3: 300}"
      ]
     },
     "execution_count": 58,
     "metadata": {},
     "output_type": "execute_result"
    }
   ],
   "source": [
    "x = lst.pop()\n",
    "x"
   ]
  },
  {
   "cell_type": "code",
   "execution_count": 59,
   "id": "cd0a887e-5248-4c08-8de2-8d4e44f417c8",
   "metadata": {},
   "outputs": [
    {
     "data": {
      "text/plain": [
       "[True, 'hello', 'python', False, (5-9j)]"
      ]
     },
     "execution_count": 59,
     "metadata": {},
     "output_type": "execute_result"
    }
   ],
   "source": [
    "lst"
   ]
  },
  {
   "cell_type": "code",
   "execution_count": 60,
   "id": "b40195fd-1292-405c-a093-2c7b1869b281",
   "metadata": {},
   "outputs": [
    {
     "name": "stdout",
     "output_type": "stream",
     "text": [
      "hello [True, 'python', False, (5-9j)]\n"
     ]
    }
   ],
   "source": [
    "y = lst.pop(1)\n",
    "print(y, lst)"
   ]
  },
  {
   "cell_type": "markdown",
   "id": "0d3e00ef-e8c2-4ed8-ba9c-31d69875b237",
   "metadata": {},
   "source": [
    "#### remove()\n",
    "\n",
    "- It removes the first occurrence of the specified element from list in the direction from left to right\n",
    "- If the element is not found, then it will throw an __value error__"
   ]
  },
  {
   "cell_type": "code",
   "execution_count": 61,
   "id": "5354b062-c1d5-49c5-a39a-160843a51a09",
   "metadata": {},
   "outputs": [
    {
     "data": {
      "text/plain": [
       "[True, 'hello', 'python', False, (5-9j), {1: 100, 2: 200, 3: 300}]"
      ]
     },
     "execution_count": 61,
     "metadata": {},
     "output_type": "execute_result"
    }
   ],
   "source": [
    "lst = [True, 'hello', 'python', False, 5-9j, {1:100, 2:200, 3:300}]\n",
    "lst"
   ]
  },
  {
   "cell_type": "code",
   "execution_count": 62,
   "id": "3d100a43-4322-4b91-b2c9-97de76e21f77",
   "metadata": {},
   "outputs": [],
   "source": [
    "lst.remove('python')"
   ]
  },
  {
   "cell_type": "code",
   "execution_count": 63,
   "id": "6a058f64-719d-4bd0-b0cd-782864e4d305",
   "metadata": {},
   "outputs": [
    {
     "data": {
      "text/plain": [
       "[True, 'hello', False, (5-9j), {1: 100, 2: 200, 3: 300}]"
      ]
     },
     "execution_count": 63,
     "metadata": {},
     "output_type": "execute_result"
    }
   ],
   "source": [
    "lst"
   ]
  },
  {
   "cell_type": "code",
   "execution_count": 64,
   "id": "bfd83a2e-3cba-4f72-b95f-fd401cd7975e",
   "metadata": {},
   "outputs": [
    {
     "name": "stdout",
     "output_type": "stream",
     "text": [
      "[2, 4, 6, 8, 10, 1, 2, 3, '1', '2', '3', '4', 1.0, (3+5j), 'python', range(0, 5), True, None]\n"
     ]
    }
   ],
   "source": [
    "lst1 = [2, 4, 6, 8, 10, 1, 2, 3, '1', '2', '3', '4', 1.0, (3+5j), 'python', range(0, 5), True, None]\n",
    "print(lst1)"
   ]
  },
  {
   "cell_type": "code",
   "execution_count": 66,
   "id": "0397185e-60c1-4b59-9970-451632afd518",
   "metadata": {},
   "outputs": [
    {
     "data": {
      "text/plain": [
       "[2,\n",
       " 4,\n",
       " 6,\n",
       " 8,\n",
       " 10,\n",
       " 2,\n",
       " 3,\n",
       " '1',\n",
       " '2',\n",
       " '3',\n",
       " '4',\n",
       " 1.0,\n",
       " (3+5j),\n",
       " 'python',\n",
       " range(0, 5),\n",
       " True,\n",
       " None]"
      ]
     },
     "execution_count": 66,
     "metadata": {},
     "output_type": "execute_result"
    }
   ],
   "source": [
    "lst1.remove(True)\n",
    "lst1"
   ]
  },
  {
   "cell_type": "code",
   "execution_count": 67,
   "id": "4c4f1cdc-fab1-4d2b-9892-e05a17435003",
   "metadata": {},
   "outputs": [
    {
     "name": "stdout",
     "output_type": "stream",
     "text": [
      "[2, 4, 6, 8, 10, 2, 3, '1', '2', '3', '4', 1.0, (3+5j), 'python', range(0, 5), True, None]\n"
     ]
    }
   ],
   "source": [
    "print(lst1)"
   ]
  },
  {
   "cell_type": "code",
   "execution_count": 68,
   "id": "987f535b-ce7f-42b1-9c1f-5d267787722e",
   "metadata": {},
   "outputs": [
    {
     "name": "stdout",
     "output_type": "stream",
     "text": [
      "[2, 4, 6, 8, 10, 2, 3, '1', '2', '3', '4', (3+5j), 'python', range(0, 5), True, None]\n"
     ]
    }
   ],
   "source": [
    "lst1.remove(True)\n",
    "print(lst1)"
   ]
  },
  {
   "cell_type": "markdown",
   "id": "202cc08c-5741-4b73-bdc7-9daeb60fa497",
   "metadata": {},
   "source": [
    "### reverse()\n",
    "\n",
    "- It will reverse the list\n",
    "- It makes the changes in the existing list"
   ]
  },
  {
   "cell_type": "code",
   "execution_count": 70,
   "id": "098fcfda-0bce-4e01-bd78-2c7d7a42987a",
   "metadata": {},
   "outputs": [
    {
     "name": "stdout",
     "output_type": "stream",
     "text": [
      "['hello', False, (5-9j), {1: 100, 2: 200, 3: 300}] 2313409354944\n"
     ]
    }
   ],
   "source": [
    "print(lst, id(lst))"
   ]
  },
  {
   "cell_type": "code",
   "execution_count": 71,
   "id": "1ef259d9-a68b-4e31-b97c-c42e30153559",
   "metadata": {},
   "outputs": [
    {
     "name": "stdout",
     "output_type": "stream",
     "text": [
      "[{1: 100, 2: 200, 3: 300}, (5-9j), False, 'hello'] 2313409354944\n"
     ]
    }
   ],
   "source": [
    "lst.reverse()\n",
    "print(lst, id(lst))"
   ]
  },
  {
   "cell_type": "markdown",
   "id": "d740f09c-9a40-4bb6-8150-f7a773cc8e4c",
   "metadata": {},
   "source": [
    "### sort()\n",
    "\n",
    "- It will sort the list in the ascending order or descending order\n",
    "- By default, it will sort the list in the ascending order\n",
    "- It will make the changes in the existing list only "
   ]
  },
  {
   "cell_type": "code",
   "execution_count": 82,
   "id": "88aaf45d-5329-4652-b1b3-ddc21808ca31",
   "metadata": {},
   "outputs": [
    {
     "data": {
      "text/plain": [
       "[10, 16, 65, 29, 90, 94, 30, 9, 74, 1, 41, 37]"
      ]
     },
     "execution_count": 82,
     "metadata": {},
     "output_type": "execute_result"
    }
   ],
   "source": [
    "# Ascending order\n",
    "\n",
    "import numpy as np\n",
    "\n",
    "# this code is used to create 12 random values between 1-100\n",
    "np.random.seed(10) # it will fix the state \n",
    "arr = np.random.randint(1, 100, 12)\n",
    "arr = list(arr)\n",
    "arr"
   ]
  },
  {
   "cell_type": "code",
   "execution_count": 81,
   "id": "adae78e3-ac31-4117-b135-9900c786f600",
   "metadata": {},
   "outputs": [],
   "source": [
    "arr.sort()"
   ]
  },
  {
   "cell_type": "code",
   "execution_count": 77,
   "id": "3a1e68c5-4925-441f-a53d-7127bc81f247",
   "metadata": {},
   "outputs": [
    {
     "data": {
      "text/plain": [
       "[1, 9, 10, 16, 29, 30, 37, 41, 65, 74, 90, 94]"
      ]
     },
     "execution_count": 77,
     "metadata": {},
     "output_type": "execute_result"
    }
   ],
   "source": [
    "arr"
   ]
  },
  {
   "cell_type": "code",
   "execution_count": 78,
   "id": "28e10d23-4c90-4149-8a9f-400458c808f3",
   "metadata": {},
   "outputs": [],
   "source": [
    "# Descending order\n",
    "\n",
    "arr.sort(reverse = True)"
   ]
  },
  {
   "cell_type": "code",
   "execution_count": 79,
   "id": "54ef17ca-f32d-4463-813b-965245863147",
   "metadata": {},
   "outputs": [
    {
     "data": {
      "text/plain": [
       "[94, 90, 74, 65, 41, 37, 30, 29, 16, 10, 9, 1]"
      ]
     },
     "execution_count": 79,
     "metadata": {},
     "output_type": "execute_result"
    }
   ],
   "source": [
    "arr"
   ]
  },
  {
   "cell_type": "markdown",
   "id": "0a35b5f1-941e-42cc-b6ba-7e6d6967db5c",
   "metadata": {},
   "source": [
    "##### If the list contains duplicated values in it "
   ]
  },
  {
   "cell_type": "code",
   "execution_count": 83,
   "id": "f937d45a-e61f-4e55-b32b-3395cf5f4f7e",
   "metadata": {},
   "outputs": [
    {
     "data": {
      "text/plain": [
       "[1, 1, 1, 2, 2, 2, 3, 3, 4, 5]"
      ]
     },
     "execution_count": 83,
     "metadata": {},
     "output_type": "execute_result"
    }
   ],
   "source": [
    "lst = [1,2,3,4,5,1,2,3,2,1]\n",
    "lst.sort()\n",
    "lst"
   ]
  },
  {
   "cell_type": "code",
   "execution_count": 84,
   "id": "b6d95084-1c97-4367-a066-eb42d7d5d288",
   "metadata": {},
   "outputs": [
    {
     "name": "stdout",
     "output_type": "stream",
     "text": [
      "['M', 'a', 'y', 'a', 'n', 'k', ' ', 'A', 't', 'u', 'l', ' ', 'G', 'h', 'a', 'i']\n"
     ]
    }
   ],
   "source": [
    "a = 'Mayank Atul Ghai'\n",
    "b = list(a)\n",
    "print(b)"
   ]
  },
  {
   "cell_type": "code",
   "execution_count": 85,
   "id": "396d8908-e3de-4435-814a-cb1f5e631ab2",
   "metadata": {},
   "outputs": [
    {
     "name": "stdout",
     "output_type": "stream",
     "text": [
      "[' ', ' ', 'A', 'G', 'M', 'a', 'a', 'a', 'h', 'i', 'k', 'l', 'n', 't', 'u', 'y']\n"
     ]
    }
   ],
   "source": [
    "b.sort()\n",
    "print(b)"
   ]
  },
  {
   "cell_type": "code",
   "execution_count": 86,
   "id": "d6154711-5562-4b51-b2f2-93198da7f6dd",
   "metadata": {},
   "outputs": [
    {
     "data": {
      "text/plain": [
       "32"
      ]
     },
     "execution_count": 86,
     "metadata": {},
     "output_type": "execute_result"
    }
   ],
   "source": [
    "ord(' ')"
   ]
  },
  {
   "cell_type": "code",
   "execution_count": 87,
   "id": "9bd609c0-77c0-4dcc-9f7e-51a29cc414f1",
   "metadata": {},
   "outputs": [
    {
     "data": {
      "text/plain": [
       "65"
      ]
     },
     "execution_count": 87,
     "metadata": {},
     "output_type": "execute_result"
    }
   ],
   "source": [
    "ord('A')"
   ]
  },
  {
   "cell_type": "code",
   "execution_count": 88,
   "id": "4d36cae4-c558-4e0d-9224-64779925058b",
   "metadata": {},
   "outputs": [
    {
     "ename": "TypeError",
     "evalue": "'<' not supported between instances of 'str' and 'bool'",
     "output_type": "error",
     "traceback": [
      "\u001b[1;31m---------------------------------------------------------------------------\u001b[0m",
      "\u001b[1;31mTypeError\u001b[0m                                 Traceback (most recent call last)",
      "Cell \u001b[1;32mIn[88], line 2\u001b[0m\n\u001b[0;32m      1\u001b[0m lst \u001b[38;5;241m=\u001b[39m [\u001b[38;5;28;01mTrue\u001b[39;00m, \u001b[38;5;124m'\u001b[39m\u001b[38;5;124mhello\u001b[39m\u001b[38;5;124m'\u001b[39m, \u001b[38;5;124m'\u001b[39m\u001b[38;5;124mpython\u001b[39m\u001b[38;5;124m'\u001b[39m, \u001b[38;5;28;01mFalse\u001b[39;00m, \u001b[38;5;241m5\u001b[39m\u001b[38;5;241m-\u001b[39m\u001b[38;5;241m9\u001b[39mj, {\u001b[38;5;241m1\u001b[39m:\u001b[38;5;241m100\u001b[39m, \u001b[38;5;241m2\u001b[39m:\u001b[38;5;241m200\u001b[39m, \u001b[38;5;241m3\u001b[39m:\u001b[38;5;241m300\u001b[39m}]\n\u001b[1;32m----> 2\u001b[0m lst\u001b[38;5;241m.\u001b[39msort()\n\u001b[0;32m      3\u001b[0m lst\n",
      "\u001b[1;31mTypeError\u001b[0m: '<' not supported between instances of 'str' and 'bool'"
     ]
    }
   ],
   "source": [
    "lst = [True, 'hello', 'python', False, 5-9j, {1:100, 2:200, 3:300}]\n",
    "lst.sort()\n",
    "lst"
   ]
  },
  {
   "cell_type": "markdown",
   "id": "862d6791-52b9-4188-ac93-f43cff68c4a6",
   "metadata": {},
   "source": [
    "### insert()\n",
    "\n",
    "- It is used to insert an element at a particular index\n",
    "- The previous element at that particular index will be shifted to the right hand side\n",
    "\n",
    "__Syntax:__\n",
    "\n",
    "        lst.insert(index, element)"
   ]
  },
  {
   "cell_type": "code",
   "execution_count": 89,
   "id": "eaa1cacc-2976-41e9-b0cd-ce5bbf06801f",
   "metadata": {},
   "outputs": [
    {
     "data": {
      "text/plain": [
       "[True, 'hello', 'python', False, (5-9j), {1: 100, 2: 200, 3: 300}]"
      ]
     },
     "execution_count": 89,
     "metadata": {},
     "output_type": "execute_result"
    }
   ],
   "source": [
    "lst"
   ]
  },
  {
   "cell_type": "code",
   "execution_count": 90,
   "id": "fcb57c25-d4d0-4c65-8681-26f05214e06a",
   "metadata": {},
   "outputs": [
    {
     "name": "stdout",
     "output_type": "stream",
     "text": [
      "[True, 'hello', 'mayank', 'python', False, (5-9j), {1: 100, 2: 200, 3: 300}]\n"
     ]
    }
   ],
   "source": [
    "lst.insert(2, 'mayank')\n",
    "print(lst)"
   ]
  },
  {
   "cell_type": "code",
   "execution_count": 91,
   "id": "ee30b1a5-a8dc-47c8-a226-a6558afd2e6b",
   "metadata": {},
   "outputs": [
    {
     "name": "stdout",
     "output_type": "stream",
     "text": [
      "[True, 'hello', 'mayank', 'python', False, (5-9j), 'learnbay', {1: 100, 2: 200, 3: 300}]\n"
     ]
    }
   ],
   "source": [
    "lst.insert(-1, 'learnbay')\n",
    "print(lst)"
   ]
  },
  {
   "cell_type": "code",
   "execution_count": 93,
   "id": "9963a80f-b7a6-4116-b7f4-c2681db61a7c",
   "metadata": {},
   "outputs": [
    {
     "name": "stdout",
     "output_type": "stream",
     "text": [
      "[True, 'hello', 'mayank', 'python', False, (5-9j), 'learnbay', {1: 100, 2: 200, 3: 300}, 'Data']\n"
     ]
    }
   ],
   "source": [
    "lst.insert(len(lst), 'Data')\n",
    "print(lst)"
   ]
  },
  {
   "cell_type": "code",
   "execution_count": 95,
   "id": "bd01d793-7534-4433-b9ee-7963995e68e7",
   "metadata": {},
   "outputs": [
    {
     "name": "stdout",
     "output_type": "stream",
     "text": [
      "[True, 'hello', 'mayank', 'python', False, (5-9j), 'learnbay', {1: 100, 2: 200, 3: 300}, 'Data', 'Science']\n"
     ]
    }
   ],
   "source": [
    "lst = [True, 'hello', 'mayank', 'python', False, (5-9j), 'learnbay', {1: 100, 2: 200, 3: 300}]\n",
    "lst.insert(50, 'Data')\n",
    "lst.insert(20, 'Science')\n",
    "print(lst)"
   ]
  },
  {
   "cell_type": "markdown",
   "id": "98216630-5ff4-4ff0-ac9f-fa001d3180d0",
   "metadata": {},
   "source": [
    "### copy()\n",
    "\n",
    "- It copies all the element from the list and return a new lisr with all the same elements of the previous list"
   ]
  },
  {
   "cell_type": "code",
   "execution_count": 98,
   "id": "8ba07825-115b-4e7f-9942-eb2af41298ca",
   "metadata": {},
   "outputs": [
    {
     "name": "stdout",
     "output_type": "stream",
     "text": [
      "[True, 'hello', 'mayank', 'python', False, (5-9j), 'learnbay', {1: 100, 2: 200, 3: 300}, 'Data', 'Science'] 2313409555776\n"
     ]
    }
   ],
   "source": [
    "print(lst, id(lst))"
   ]
  },
  {
   "cell_type": "code",
   "execution_count": 99,
   "id": "b2bd3066-3e94-44fc-974f-af809f0691e1",
   "metadata": {},
   "outputs": [
    {
     "name": "stdout",
     "output_type": "stream",
     "text": [
      "[True, 'hello', 'mayank', 'python', False, (5-9j), 'learnbay', {1: 100, 2: 200, 3: 300}, 'Data', 'Science'] 2313409548992\n"
     ]
    }
   ],
   "source": [
    "lst2 = lst.copy()\n",
    "print(lst2, id(lst2))"
   ]
  },
  {
   "cell_type": "code",
   "execution_count": 100,
   "id": "b14a17af-8ca6-4ee9-b12f-048d15f5768d",
   "metadata": {},
   "outputs": [
    {
     "name": "stdout",
     "output_type": "stream",
     "text": [
      "[50, 'hello', 'mayank', 'python', False, (5-9j), 'learnbay', {1: 100, 2: 200, 3: 300}, 'Data', 'Science'] [True, 'hello', 'mayank', 'python', False, (5-9j), 'learnbay', {1: 100, 2: 200, 3: 300}, 'Data', 'Science']\n"
     ]
    }
   ],
   "source": [
    "lst[0] = 50\n",
    "print(lst)"
   ]
  },
  {
   "cell_type": "code",
   "execution_count": 101,
   "id": "726bcd63-4df1-4d9f-94c2-cbf15c16fd6d",
   "metadata": {},
   "outputs": [
    {
     "name": "stdout",
     "output_type": "stream",
     "text": [
      "[50, 'hello', 'mayank', 'python', False, (5-9j), 'learnbay', {1: 100, 2: 200, 3: 300}, 'Data', 'Science']\n",
      "[True, 'hello', 'mayank', 'python', False, (5-9j), 'learnbay', {1: 100, 2: 200, 3: 300}, 'Data', 'Science']\n"
     ]
    }
   ],
   "source": [
    "print(lst)\n",
    "print(lst2)"
   ]
  },
  {
   "cell_type": "markdown",
   "id": "c2ce34cc-5cf9-42aa-b667-7a79413d5371",
   "metadata": {},
   "source": [
    "### Aliasing"
   ]
  },
  {
   "cell_type": "code",
   "execution_count": 102,
   "id": "6d2e8f4c-a6b9-4356-b71c-ec83adbbba11",
   "metadata": {},
   "outputs": [
    {
     "name": "stdout",
     "output_type": "stream",
     "text": [
      "[50, 'hello', 'mayank', 'python', False, (5-9j), 'learnbay', {1: 100, 2: 200, 3: 300}, 'Data', 'Science'] 2313409555776\n",
      "[50, 'hello', 'mayank', 'python', False, (5-9j), 'learnbay', {1: 100, 2: 200, 3: 300}, 'Data', 'Science'] 2313409555776\n"
     ]
    }
   ],
   "source": [
    "lst1 = lst\n",
    "print(lst, id(lst))\n",
    "print(lst1, id(lst1))"
   ]
  },
  {
   "cell_type": "markdown",
   "id": "25fcdb05-dd38-4bc2-b3a9-4c0f82389484",
   "metadata": {},
   "source": [
    "### List are Mutable in nature \n",
    "\n",
    "- We can modify the values after the declaration of the object\n",
    "- Item re-assignment is also possible here\n",
    "- The address remains the same before and after the modification"
   ]
  },
  {
   "cell_type": "markdown",
   "id": "c82d48a8-0060-40a7-ae6a-9ae47bc34ced",
   "metadata": {},
   "source": [
    "### Tuples \n",
    "\n",
    "- Anything written inside the round paranthese or round brackets() is a tuple\n",
    "- Just like the list, here the elements are seperated by a comma from each other\n",
    "- A tuple is also container datatype, that means it can have multiple elements in it\n",
    "- A tuple can contain hetergenous (different types) element in it\n",
    "- A tuple can contain duplicated element as well\n",
    "- The only exception here is that tuples are immutable, i.e. we cannot modify them i.e. we cannot remove an element, insert and element and we cannot do item re-assign at any index"
   ]
  },
  {
   "cell_type": "code",
   "execution_count": 103,
   "id": "6fdd3c7d-c6f7-4756-8773-2f6dc116ba4c",
   "metadata": {},
   "outputs": [
    {
     "name": "stdout",
     "output_type": "stream",
     "text": [
      "(1, 2, 3, 4, 5) <class 'tuple'>\n"
     ]
    }
   ],
   "source": [
    "t = (1,2,3,4,5)\n",
    "print(t, type(t))"
   ]
  },
  {
   "cell_type": "code",
   "execution_count": 104,
   "id": "070904d2-7326-4205-829e-5880784796bc",
   "metadata": {},
   "outputs": [
    {
     "name": "stdout",
     "output_type": "stream",
     "text": [
      "1 <class 'int'>\n"
     ]
    }
   ],
   "source": [
    "t = (1)\n",
    "print(t, type(t))"
   ]
  },
  {
   "cell_type": "code",
   "execution_count": 105,
   "id": "910c7bd8-6697-4817-80c3-783be1c48365",
   "metadata": {},
   "outputs": [
    {
     "name": "stdout",
     "output_type": "stream",
     "text": [
      "(1,) <class 'tuple'>\n"
     ]
    }
   ],
   "source": [
    "t = (1,)\n",
    "print(t, type(t))"
   ]
  },
  {
   "cell_type": "code",
   "execution_count": 106,
   "id": "f8eceb26-89d9-4a16-a510-2bafa2aadf5b",
   "metadata": {},
   "outputs": [
    {
     "name": "stdout",
     "output_type": "stream",
     "text": [
      "(1, 2.0, (3+6j), True, None, 'Python', range(0, 5), [1, 2, 3], (1, 2, 3), {1: 100, 2: 200}) <class 'tuple'>\n"
     ]
    }
   ],
   "source": [
    "t = (1,2.0,3+6j, True, None, 'Python', range(5), [1,2,3], (1,2,3), {1:100, 2:200})\n",
    "print(t, type(t))"
   ]
  },
  {
   "cell_type": "code",
   "execution_count": 107,
   "id": "ce72379d-1746-4288-bbec-ecee7b63fb9d",
   "metadata": {},
   "outputs": [
    {
     "ename": "AttributeError",
     "evalue": "'tuple' object has no attribute 'append'",
     "output_type": "error",
     "traceback": [
      "\u001b[1;31m---------------------------------------------------------------------------\u001b[0m",
      "\u001b[1;31mAttributeError\u001b[0m                            Traceback (most recent call last)",
      "Cell \u001b[1;32mIn[107], line 1\u001b[0m\n\u001b[1;32m----> 1\u001b[0m t\u001b[38;5;241m.\u001b[39mappend(\u001b[38;5;241m7\u001b[39m)\n",
      "\u001b[1;31mAttributeError\u001b[0m: 'tuple' object has no attribute 'append'"
     ]
    }
   ],
   "source": [
    "t.append(7)"
   ]
  },
  {
   "cell_type": "code",
   "execution_count": 108,
   "id": "a935ca80-b937-4efb-ad13-0f504de704cd",
   "metadata": {},
   "outputs": [
    {
     "ename": "AttributeError",
     "evalue": "'tuple' object has no attribute 'remove'",
     "output_type": "error",
     "traceback": [
      "\u001b[1;31m---------------------------------------------------------------------------\u001b[0m",
      "\u001b[1;31mAttributeError\u001b[0m                            Traceback (most recent call last)",
      "Cell \u001b[1;32mIn[108], line 1\u001b[0m\n\u001b[1;32m----> 1\u001b[0m t\u001b[38;5;241m.\u001b[39mremove()\n",
      "\u001b[1;31mAttributeError\u001b[0m: 'tuple' object has no attribute 'remove'"
     ]
    }
   ],
   "source": [
    "t.remove()"
   ]
  },
  {
   "cell_type": "code",
   "execution_count": 109,
   "id": "512ad580-15ec-4f9e-9e26-e304d0440aba",
   "metadata": {},
   "outputs": [
    {
     "ename": "TypeError",
     "evalue": "'tuple' object does not support item assignment",
     "output_type": "error",
     "traceback": [
      "\u001b[1;31m---------------------------------------------------------------------------\u001b[0m",
      "\u001b[1;31mTypeError\u001b[0m                                 Traceback (most recent call last)",
      "Cell \u001b[1;32mIn[109], line 1\u001b[0m\n\u001b[1;32m----> 1\u001b[0m t[\u001b[38;5;241m0\u001b[39m] \u001b[38;5;241m=\u001b[39m \u001b[38;5;241m100\u001b[39m\n",
      "\u001b[1;31mTypeError\u001b[0m: 'tuple' object does not support item assignment"
     ]
    }
   ],
   "source": [
    "t[0] = 100"
   ]
  },
  {
   "cell_type": "code",
   "execution_count": 110,
   "id": "9abd5859-dce5-45a4-9d42-69a7968c0de5",
   "metadata": {},
   "outputs": [
    {
     "ename": "TypeError",
     "evalue": "can only concatenate tuple (not \"int\") to tuple",
     "output_type": "error",
     "traceback": [
      "\u001b[1;31m---------------------------------------------------------------------------\u001b[0m",
      "\u001b[1;31mTypeError\u001b[0m                                 Traceback (most recent call last)",
      "Cell \u001b[1;32mIn[110], line 1\u001b[0m\n\u001b[1;32m----> 1\u001b[0m t1 \u001b[38;5;241m=\u001b[39m t \u001b[38;5;241m+\u001b[39m (\u001b[38;5;241m18\u001b[39m)\n\u001b[0;32m      2\u001b[0m \u001b[38;5;28mprint\u001b[39m(t1)\n",
      "\u001b[1;31mTypeError\u001b[0m: can only concatenate tuple (not \"int\") to tuple"
     ]
    }
   ],
   "source": [
    "t1 = t + (18)\n",
    "print(t1)"
   ]
  },
  {
   "cell_type": "code",
   "execution_count": 111,
   "id": "d894ec40-a77a-4a62-8a40-7ddd28e84ecc",
   "metadata": {},
   "outputs": [
    {
     "name": "stdout",
     "output_type": "stream",
     "text": [
      "(1, 2.0, (3+6j), True, None, 'Python', range(0, 5), [1, 2, 3], (1, 2, 3), {1: 100, 2: 200}) 2313409488704\n"
     ]
    }
   ],
   "source": [
    "print(t, id(t))\n"
   ]
  },
  {
   "cell_type": "code",
   "execution_count": 112,
   "id": "aebc7fc0-1f07-41fb-8a6f-01831ac422b6",
   "metadata": {},
   "outputs": [
    {
     "name": "stdout",
     "output_type": "stream",
     "text": [
      "(1, 2.0, (3+6j), True, None, 'Python', range(0, 5), [1, 2, 3], (1, 2, 3), {1: 100, 2: 200}, 18) 2313397359936\n"
     ]
    }
   ],
   "source": [
    "t1 = t + (18,)\n",
    "print(t1, id(t1))"
   ]
  },
  {
   "cell_type": "markdown",
   "id": "7e6b10b5-e480-4880-a573-07b07a6be511",
   "metadata": {},
   "source": [
    "### Tuples are immutable \n",
    "\n",
    "- We cannot modify the values one declared\n",
    "- Item reassignment is not possible\n",
    "- Addresses are going to be different after modification "
   ]
  },
  {
   "cell_type": "code",
   "execution_count": 113,
   "id": "c4bb502a-33d1-4c51-b6c2-fcec9512f6fe",
   "metadata": {},
   "outputs": [
    {
     "ename": "AttributeError",
     "evalue": "'tuple' object has no attribute 'extend'",
     "output_type": "error",
     "traceback": [
      "\u001b[1;31m---------------------------------------------------------------------------\u001b[0m",
      "\u001b[1;31mAttributeError\u001b[0m                            Traceback (most recent call last)",
      "Cell \u001b[1;32mIn[113], line 1\u001b[0m\n\u001b[1;32m----> 1\u001b[0m t\u001b[38;5;241m.\u001b[39mextend([\u001b[38;5;241m1\u001b[39m,\u001b[38;5;241m2\u001b[39m,\u001b[38;5;241m3\u001b[39m])\n",
      "\u001b[1;31mAttributeError\u001b[0m: 'tuple' object has no attribute 'extend'"
     ]
    }
   ],
   "source": [
    "t.extend([1,2,3])"
   ]
  },
  {
   "cell_type": "code",
   "execution_count": 114,
   "id": "c3af51f6-a01b-4921-8bf7-54eeab400575",
   "metadata": {},
   "outputs": [
    {
     "ename": "AttributeError",
     "evalue": "'tuple' object has no attribute 'insert'",
     "output_type": "error",
     "traceback": [
      "\u001b[1;31m---------------------------------------------------------------------------\u001b[0m",
      "\u001b[1;31mAttributeError\u001b[0m                            Traceback (most recent call last)",
      "Cell \u001b[1;32mIn[114], line 1\u001b[0m\n\u001b[1;32m----> 1\u001b[0m t\u001b[38;5;241m.\u001b[39minsert(\u001b[38;5;241m1\u001b[39m, \u001b[38;5;241m60\u001b[39m)\n",
      "\u001b[1;31mAttributeError\u001b[0m: 'tuple' object has no attribute 'insert'"
     ]
    }
   ],
   "source": [
    "t.insert(1, 60)"
   ]
  },
  {
   "cell_type": "markdown",
   "id": "70659e20-a519-4cbd-ba82-b71e203472ec",
   "metadata": {},
   "source": [
    "### Operations on the Tuple \n",
    "\n",
    "- length\n",
    "- conatenation\n",
    "- repeitition\n",
    "- Indexing and Slicing "
   ]
  },
  {
   "cell_type": "markdown",
   "id": "57b1ab75-d911-4734-ade8-5ea0a7aed720",
   "metadata": {},
   "source": [
    "#### Length\n",
    "\n",
    "- It tells us about the number of elements a tuple contains\n",
    "- __len()__ function is used "
   ]
  },
  {
   "cell_type": "code",
   "execution_count": 115,
   "id": "5eea314f-3fd0-460f-9890-977cb0444505",
   "metadata": {},
   "outputs": [
    {
     "name": "stdout",
     "output_type": "stream",
     "text": [
      "5\n"
     ]
    }
   ],
   "source": [
    "t = (1,2,3,4,5)\n",
    "print(len(t))"
   ]
  },
  {
   "cell_type": "markdown",
   "id": "49e71c0a-3122-42d9-b342-f0c51b0fcea9",
   "metadata": {},
   "source": [
    "### Concatenation\n",
    "\n",
    "- Joining or adding  two or more tuple together is known as concatenation"
   ]
  },
  {
   "cell_type": "code",
   "execution_count": 116,
   "id": "134e1197-e805-4573-8a59-d462fe53035f",
   "metadata": {},
   "outputs": [
    {
     "data": {
      "text/plain": [
       "(1, 2, 3, 4, 5)"
      ]
     },
     "execution_count": 116,
     "metadata": {},
     "output_type": "execute_result"
    }
   ],
   "source": [
    "t "
   ]
  },
  {
   "cell_type": "code",
   "execution_count": 117,
   "id": "10c2a888-3c8e-419c-b447-134c8defc521",
   "metadata": {},
   "outputs": [
    {
     "data": {
      "text/plain": [
       "(1, 2, 3, 4, 5, 18, 19, 20)"
      ]
     },
     "execution_count": 117,
     "metadata": {},
     "output_type": "execute_result"
    }
   ],
   "source": [
    "t+(18,19,20)"
   ]
  },
  {
   "cell_type": "code",
   "execution_count": 118,
   "id": "a3c1d23f-f92a-42df-8487-4f930ccbcd61",
   "metadata": {},
   "outputs": [
    {
     "data": {
      "text/plain": [
       "(1, 2, 3, 4, 5)"
      ]
     },
     "execution_count": 118,
     "metadata": {},
     "output_type": "execute_result"
    }
   ],
   "source": [
    "t"
   ]
  },
  {
   "cell_type": "markdown",
   "id": "99120f7b-72d5-427d-84b7-972189e33c7e",
   "metadata": {},
   "source": [
    "### Repetition \n",
    "\n",
    "- (*) operator is used to perform the repetition on a tuple "
   ]
  },
  {
   "cell_type": "code",
   "execution_count": 121,
   "id": "145f6f13-79d5-4f1d-894c-200d6820e07c",
   "metadata": {},
   "outputs": [],
   "source": [
    "t = (1,2,3)\n"
   ]
  },
  {
   "cell_type": "code",
   "execution_count": 122,
   "id": "1905534c-ed38-4abe-a0c6-424c72960f25",
   "metadata": {},
   "outputs": [
    {
     "data": {
      "text/plain": [
       "(1, 2, 3, 1, 2, 3, 1, 2, 3, 1, 2, 3, 1, 2, 3)"
      ]
     },
     "execution_count": 122,
     "metadata": {},
     "output_type": "execute_result"
    }
   ],
   "source": [
    "t*5"
   ]
  },
  {
   "cell_type": "markdown",
   "id": "891785b6-e88f-45d5-bbec-83c2b20f25af",
   "metadata": {},
   "source": [
    "### Indexing and Slicing\n",
    "\n",
    "- A tuple is an container datatype because it can have multiple element in it\n",
    "- A tuple is a sequential datatype because it retains the index of each element in the order we have pass them means it follows indexing\n",
    "- A tuple supports both positive indexing and negative indexing "
   ]
  },
  {
   "cell_type": "code",
   "execution_count": 124,
   "id": "f0524f3d-2bdb-4159-9467-08e6ec5ae584",
   "metadata": {},
   "outputs": [],
   "source": [
    "t = (1,2,3,4,5)"
   ]
  },
  {
   "cell_type": "markdown",
   "id": "29797ad2-6657-49e5-9d6d-71b4ba742abb",
   "metadata": {},
   "source": [
    "#### Positive indexing \n",
    "\n",
    "- The direction in which it moves is from left to right\n",
    "- By default, the indexing starts from 0\n",
    "- The index of the last element is len(tuple)-1\n",
    "\n",
    "#### Negative Indexing \n",
    "\n",
    "- The direction in which it moves is from right to left\n",
    "- By default, the indexing will start from -1\n",
    "- The index of the last element is -len(tuple)"
   ]
  },
  {
   "cell_type": "markdown",
   "id": "471d5ef1-e847-4af3-96df-18e3ccb0c4d4",
   "metadata": {},
   "source": [
    "                                             0  1  2  3  4 ----> Positive indexing\n",
    "                                            (1, 2, 3, 4, 5)\n",
    "                                            -5 -4 -3 -2 -1 ----> Negative indexing"
   ]
  },
  {
   "cell_type": "markdown",
   "id": "0285662f-37c8-4a55-af8a-0564d8c15f1f",
   "metadata": {},
   "source": [
    "### Slicing \n",
    "\n",
    "\n",
    "__Syntax:__\n",
    "\n",
    "                tuple_variable[starting_index : ending_index : step-size]\n",
    "                "
   ]
  },
  {
   "cell_type": "code",
   "execution_count": 126,
   "id": "fd6a8ffd-264d-4bbd-9a28-5154dcd49bbe",
   "metadata": {},
   "outputs": [],
   "source": [
    "t = (10,20,30,40,50)"
   ]
  },
  {
   "cell_type": "code",
   "execution_count": 127,
   "id": "62803ca2-ebf1-4ced-8430-2bc119955c12",
   "metadata": {},
   "outputs": [
    {
     "data": {
      "text/plain": [
       "(20, 30, 40, 50)"
      ]
     },
     "execution_count": 127,
     "metadata": {},
     "output_type": "execute_result"
    }
   ],
   "source": [
    "t[1:]"
   ]
  },
  {
   "cell_type": "code",
   "execution_count": 128,
   "id": "5051c358-b69b-47e8-a9bc-100c77f9f994",
   "metadata": {},
   "outputs": [
    {
     "data": {
      "text/plain": [
       "(50, 40, 30, 20, 10)"
      ]
     },
     "execution_count": 128,
     "metadata": {},
     "output_type": "execute_result"
    }
   ],
   "source": [
    "t[::-1]"
   ]
  },
  {
   "cell_type": "code",
   "execution_count": 129,
   "id": "a5ee37a7-ae0b-4704-86bf-1a359aae742e",
   "metadata": {},
   "outputs": [
    {
     "data": {
      "text/plain": [
       "(10, 20, 30, 40, 50)"
      ]
     },
     "execution_count": 129,
     "metadata": {},
     "output_type": "execute_result"
    }
   ],
   "source": [
    "t"
   ]
  },
  {
   "cell_type": "code",
   "execution_count": 130,
   "id": "869e32ee-3937-44e1-b269-358548b4e3f1",
   "metadata": {},
   "outputs": [
    {
     "data": {
      "text/plain": [
       "(50, 40, 30, 20, 10)"
      ]
     },
     "execution_count": 130,
     "metadata": {},
     "output_type": "execute_result"
    }
   ],
   "source": [
    "t[-1::-1]"
   ]
  },
  {
   "cell_type": "code",
   "execution_count": 131,
   "id": "6948efd5-2b2a-4eb5-a32d-0d6246248747",
   "metadata": {},
   "outputs": [
    {
     "data": {
      "text/plain": [
       "(50, 30, 10)"
      ]
     },
     "execution_count": 131,
     "metadata": {},
     "output_type": "execute_result"
    }
   ],
   "source": [
    "t[-1::-2]"
   ]
  },
  {
   "cell_type": "markdown",
   "id": "feb951b2-3d3a-41da-906f-2c06a4928977",
   "metadata": {},
   "source": [
    "### How to create a tuple "
   ]
  },
  {
   "cell_type": "markdown",
   "id": "6dcd968e-d811-40d4-8b0e-db47ca79ef8b",
   "metadata": {},
   "source": [
    "#### Case-1 \n",
    "\n",
    "- When we already know the element "
   ]
  },
  {
   "cell_type": "code",
   "execution_count": 132,
   "id": "698807da-9579-4dd1-bc35-0939decdd962",
   "metadata": {},
   "outputs": [
    {
     "name": "stdout",
     "output_type": "stream",
     "text": [
      "(True, False, 'hello', 'python', (1, 2, 3), [1, 2, 3]) <class 'tuple'>\n"
     ]
    }
   ],
   "source": [
    "t = (True, False, 'hello', 'python', (1,2,3), [1,2,3])\n",
    "print(t, type(t))"
   ]
  },
  {
   "cell_type": "markdown",
   "id": "87db329b-48b2-4ddc-8f1b-94ed53fda12d",
   "metadata": {},
   "source": [
    "#### Case-2 \n",
    "\n",
    "- We can use typcasting to create a tuple\n",
    "- We can typecast any iterable object (range, string, list, dictionary, set and frozenset)"
   ]
  },
  {
   "cell_type": "code",
   "execution_count": 133,
   "id": "5ddd723a-528b-41cb-b3fe-2917166fd3eb",
   "metadata": {},
   "outputs": [
    {
     "data": {
      "text/plain": [
       "(0, 1, 2, 3, 4, 5, 6, 7, 8, 9)"
      ]
     },
     "execution_count": 133,
     "metadata": {},
     "output_type": "execute_result"
    }
   ],
   "source": [
    "a = range(10)\n",
    "b = tuple(a)\n",
    "b"
   ]
  },
  {
   "cell_type": "code",
   "execution_count": 134,
   "id": "79754bdb-d19f-4848-bda4-d9e1c2121c8d",
   "metadata": {},
   "outputs": [
    {
     "name": "stdout",
     "output_type": "stream",
     "text": [
      "('M', 'a', 'y', 'a', 'n', 'k')\n"
     ]
    }
   ],
   "source": [
    "a = 'Mayank'\n",
    "b = tuple(a)\n",
    "print(b)"
   ]
  },
  {
   "cell_type": "code",
   "execution_count": 135,
   "id": "32790192-6729-4df7-906d-81067dab607d",
   "metadata": {},
   "outputs": [
    {
     "name": "stdout",
     "output_type": "stream",
     "text": [
      "(1, 2, 3, 4, 5)\n"
     ]
    }
   ],
   "source": [
    "a = [1,2,3,4,5]\n",
    "b = tuple(a)\n",
    "print(b)"
   ]
  },
  {
   "cell_type": "code",
   "execution_count": 136,
   "id": "3c24e0ff-1dbc-4935-8c7e-7438ccb8bbad",
   "metadata": {},
   "outputs": [
    {
     "name": "stdout",
     "output_type": "stream",
     "text": [
      "(1, 2, 3)\n"
     ]
    }
   ],
   "source": [
    "a = {1:100, 2:200, 3:300}\n",
    "b = tuple(a)\n",
    "print(b)"
   ]
  },
  {
   "cell_type": "code",
   "execution_count": 137,
   "id": "4cffe67a-bf5e-4ab2-bcf4-b32c95207adb",
   "metadata": {},
   "outputs": [
    {
     "ename": "TypeError",
     "evalue": "'int' object is not iterable",
     "output_type": "error",
     "traceback": [
      "\u001b[1;31m---------------------------------------------------------------------------\u001b[0m",
      "\u001b[1;31mTypeError\u001b[0m                                 Traceback (most recent call last)",
      "Cell \u001b[1;32mIn[137], line 1\u001b[0m\n\u001b[1;32m----> 1\u001b[0m \u001b[38;5;28mtuple\u001b[39m(\u001b[38;5;241m12\u001b[39m)\n",
      "\u001b[1;31mTypeError\u001b[0m: 'int' object is not iterable"
     ]
    }
   ],
   "source": [
    "tuple(12)"
   ]
  },
  {
   "cell_type": "markdown",
   "id": "bf1137e9-7076-46b5-a153-0bfaca78a7f9",
   "metadata": {},
   "source": [
    "### Case-3 \n",
    "\n",
    "- Tuple comprehension\n",
    "- It is the easiest way to create a generator object"
   ]
  },
  {
   "cell_type": "code",
   "execution_count": 139,
   "id": "986e80f5-5b09-4b7b-8ae3-db45212ea21f",
   "metadata": {},
   "outputs": [
    {
     "name": "stdout",
     "output_type": "stream",
     "text": [
      "[2, 4, 6, 8, 10, 12, 14, 16, 18, 20, 22, 24, 26, 28, 30, 32, 34, 36, 38, 40, 42, 44, 46, 48, 50, 52, 54, 56, 58, 60, 62, 64, 66, 68, 70, 72, 74, 76, 78, 80, 82, 84, 86, 88, 90, 92, 94, 96, 98, 100]\n"
     ]
    }
   ],
   "source": [
    "# WAP to have even number in a list between 1-100 using list comprehension \n",
    "\n",
    "even_num = [i for i in range(1,101) if i%2 == 0]\n",
    "print(even_num)"
   ]
  },
  {
   "cell_type": "code",
   "execution_count": 140,
   "id": "b2a67714-d1b5-4a8e-80da-f8dbfc391402",
   "metadata": {},
   "outputs": [
    {
     "name": "stdout",
     "output_type": "stream",
     "text": [
      "<generator object <genexpr> at 0x0000021AA1FE93C0>\n"
     ]
    }
   ],
   "source": [
    "# WAP to have even number in a list between 1-100 using tuple comprehension \n",
    "\n",
    "even_num1 = (i for i in range(1,101) if i%2 == 0)\n",
    "print(even_num1)"
   ]
  },
  {
   "cell_type": "markdown",
   "id": "2cea0504-0664-481c-9e5a-3016f2f38b91",
   "metadata": {},
   "source": [
    "### Case-4 \n",
    "\n",
    "- Using loops "
   ]
  },
  {
   "cell_type": "code",
   "execution_count": 144,
   "id": "417474b2-a952-403e-b76b-3044382aca02",
   "metadata": {},
   "outputs": [
    {
     "name": "stdout",
     "output_type": "stream",
     "text": [
      "(5, 10, 15, 20, 25)\n"
     ]
    },
    {
     "data": {
      "text/plain": [
       "(5, 10, 15, 20, 25)"
      ]
     },
     "execution_count": 144,
     "metadata": {},
     "output_type": "execute_result"
    }
   ],
   "source": [
    "# WAP to create a tuple having the element from a lst = [1,2,3,4,5] multiplied by 5 \n",
    "\n",
    "# Convential way \n",
    "lst = [1,2,3,4,5]\n",
    "tup = ()\n",
    "for i in lst:\n",
    "    tup = tup + (i*5,)\n",
    "\n",
    "print(tup)\n",
    "\n",
    "\n",
    "# List comprehension and typecasting \n",
    "\n",
    "tup = tuple([i*5 for i in lst])\n",
    "tup"
   ]
  },
  {
   "cell_type": "markdown",
   "id": "86ea03b7-d22f-47cf-a4c3-8b0770a433a1",
   "metadata": {},
   "source": [
    "### Case-5\n",
    "\n",
    "- we can create a tuple using round bracket ()"
   ]
  },
  {
   "cell_type": "code",
   "execution_count": 145,
   "id": "7c6e2948-bce5-446b-802f-0aa3c938450e",
   "metadata": {},
   "outputs": [
    {
     "data": {
      "text/plain": [
       "(10, 20, 30)"
      ]
     },
     "execution_count": 145,
     "metadata": {},
     "output_type": "execute_result"
    }
   ],
   "source": [
    "a = (10,20,30)\n",
    "a"
   ]
  },
  {
   "cell_type": "markdown",
   "id": "70818e19-aec4-4e47-b93b-1dc684f63b8b",
   "metadata": {},
   "source": [
    "### Case-6 \n",
    "\n",
    "- Packing: We are assigning multiple values to a single variable, by default, python will store them as tuples "
   ]
  },
  {
   "cell_type": "code",
   "execution_count": 148,
   "id": "fe0496a0-b12b-42f6-a9f4-4d8f8f5c78ba",
   "metadata": {},
   "outputs": [
    {
     "name": "stdout",
     "output_type": "stream",
     "text": [
      "(10, 20, 30, 40, 50) <class 'tuple'>\n"
     ]
    }
   ],
   "source": [
    "a = 10,20,30,40,50\n",
    "print(a, type(a))"
   ]
  },
  {
   "cell_type": "markdown",
   "id": "1a1d94c1-575a-4f0d-8617-ab7357f53c4a",
   "metadata": {},
   "source": [
    "- unpacking: Assigning values to multiple variable from a single variable is knowns as unpacking"
   ]
  },
  {
   "cell_type": "code",
   "execution_count": 150,
   "id": "587c7841-60b1-41c1-a9e9-4c9afd35b9ab",
   "metadata": {},
   "outputs": [
    {
     "name": "stdout",
     "output_type": "stream",
     "text": [
      "('Mayank Ghai', 29, 'Bengaluru', '100000')\n"
     ]
    }
   ],
   "source": [
    "emp_detail = 'Mayank Ghai', 29, 'Bengaluru', '100000'\n",
    "print(emp_detail)"
   ]
  },
  {
   "cell_type": "code",
   "execution_count": 151,
   "id": "b2cd083d-8ecb-4c0e-aadc-cce2049ec16c",
   "metadata": {},
   "outputs": [],
   "source": [
    "name, age, city, salary = emp_detail"
   ]
  },
  {
   "cell_type": "code",
   "execution_count": 152,
   "id": "8b42960f-4597-4d6f-b4dc-92f9c7e3bd62",
   "metadata": {},
   "outputs": [
    {
     "data": {
      "text/plain": [
       "'Mayank Ghai'"
      ]
     },
     "execution_count": 152,
     "metadata": {},
     "output_type": "execute_result"
    }
   ],
   "source": [
    "name"
   ]
  },
  {
   "cell_type": "code",
   "execution_count": 153,
   "id": "5a2abc50-1f69-4b83-a695-154605226eea",
   "metadata": {},
   "outputs": [
    {
     "data": {
      "text/plain": [
       "29"
      ]
     },
     "execution_count": 153,
     "metadata": {},
     "output_type": "execute_result"
    }
   ],
   "source": [
    "age"
   ]
  },
  {
   "cell_type": "code",
   "execution_count": 154,
   "id": "95c3c335-a39c-47b5-9f3d-4c3f80344b33",
   "metadata": {},
   "outputs": [
    {
     "data": {
      "text/plain": [
       "'Bengaluru'"
      ]
     },
     "execution_count": 154,
     "metadata": {},
     "output_type": "execute_result"
    }
   ],
   "source": [
    "city"
   ]
  },
  {
   "cell_type": "code",
   "execution_count": 155,
   "id": "1c5550ff-c910-46e3-81d5-7f81eb23ab2f",
   "metadata": {},
   "outputs": [
    {
     "data": {
      "text/plain": [
       "'100000'"
      ]
     },
     "execution_count": 155,
     "metadata": {},
     "output_type": "execute_result"
    }
   ],
   "source": [
    "salary"
   ]
  },
  {
   "cell_type": "code",
   "execution_count": 156,
   "id": "42a2014f-e7e3-4b2e-b330-f00836a0f872",
   "metadata": {},
   "outputs": [],
   "source": [
    "name, city,age, salary = emp_detail"
   ]
  },
  {
   "cell_type": "code",
   "execution_count": 157,
   "id": "1abeed71-76f6-416a-8b9d-67273ea6a6de",
   "metadata": {},
   "outputs": [
    {
     "data": {
      "text/plain": [
       "'Mayank Ghai'"
      ]
     },
     "execution_count": 157,
     "metadata": {},
     "output_type": "execute_result"
    }
   ],
   "source": [
    "name"
   ]
  },
  {
   "cell_type": "code",
   "execution_count": 158,
   "id": "c1b52b54-d7dd-4914-8889-6e86e4a26f7d",
   "metadata": {},
   "outputs": [
    {
     "data": {
      "text/plain": [
       "'Bengaluru'"
      ]
     },
     "execution_count": 158,
     "metadata": {},
     "output_type": "execute_result"
    }
   ],
   "source": [
    "age"
   ]
  },
  {
   "cell_type": "code",
   "execution_count": 159,
   "id": "b980b9b3-5246-4999-85e3-9bb61aaa1be7",
   "metadata": {},
   "outputs": [
    {
     "data": {
      "text/plain": [
       "29"
      ]
     },
     "execution_count": 159,
     "metadata": {},
     "output_type": "execute_result"
    }
   ],
   "source": [
    "city"
   ]
  },
  {
   "cell_type": "markdown",
   "id": "e350414b-3244-441a-811c-9fe21e6eafac",
   "metadata": {},
   "source": [
    "### Methods "
   ]
  },
  {
   "cell_type": "code",
   "execution_count": 161,
   "id": "19ae7016-36f7-4a00-ab26-89e6263a222e",
   "metadata": {},
   "outputs": [
    {
     "name": "stdout",
     "output_type": "stream",
     "text": [
      "['__add__', '__class__', '__class_getitem__', '__contains__', '__delattr__', '__dir__', '__doc__', '__eq__', '__format__', '__ge__', '__getattribute__', '__getitem__', '__getnewargs__', '__getstate__', '__gt__', '__hash__', '__init__', '__init_subclass__', '__iter__', '__le__', '__len__', '__lt__', '__mul__', '__ne__', '__new__', '__reduce__', '__reduce_ex__', '__repr__', '__rmul__', '__setattr__', '__sizeof__', '__str__', '__subclasshook__', 'count', 'index']\n"
     ]
    }
   ],
   "source": [
    "print(dir(tuple))"
   ]
  },
  {
   "cell_type": "markdown",
   "id": "284119dd-a710-46c2-8774-2a8175dc3725",
   "metadata": {},
   "source": [
    "### Count\n",
    "\n",
    "- It counts the number of occurrences of an element inside a tuple\n",
    "- By default, if the element is not found, it will return a zero"
   ]
  },
  {
   "cell_type": "code",
   "execution_count": 163,
   "id": "405fc713-245f-4458-8783-a7d005320081",
   "metadata": {},
   "outputs": [
    {
     "data": {
      "text/plain": [
       "(2, 2, 1, 4, 1, 2, 4, 1, 2, 2, 1, 2)"
      ]
     },
     "execution_count": 163,
     "metadata": {},
     "output_type": "execute_result"
    }
   ],
   "source": [
    "np.random.seed(10) # it will fix the state \n",
    "arr = np.random.randint(1, 5, 12)\n",
    "arr = tuple(arr)\n",
    "arr"
   ]
  },
  {
   "cell_type": "code",
   "execution_count": 165,
   "id": "3202007c-d672-4424-aca5-d68ed842c843",
   "metadata": {},
   "outputs": [
    {
     "data": {
      "text/plain": [
       "6"
      ]
     },
     "execution_count": 165,
     "metadata": {},
     "output_type": "execute_result"
    }
   ],
   "source": [
    "arr.count(2)"
   ]
  },
  {
   "cell_type": "code",
   "execution_count": 166,
   "id": "17c1b4cd-8da2-4260-b650-b873862750ab",
   "metadata": {},
   "outputs": [
    {
     "data": {
      "text/plain": [
       "0"
      ]
     },
     "execution_count": 166,
     "metadata": {},
     "output_type": "execute_result"
    }
   ],
   "source": [
    "arr.count(10)"
   ]
  },
  {
   "cell_type": "markdown",
   "id": "3e6e1d0f-9062-42d8-a3c3-1499eaccf3a7",
   "metadata": {},
   "source": [
    "### index()\n",
    "\n",
    "- It returns the index of the first occurrence of an element from left to right\n",
    "- if the element is not found inside the tuple, it will throw a __value error__"
   ]
  },
  {
   "cell_type": "code",
   "execution_count": 167,
   "id": "4e32f257-a6b2-4bf7-a012-00ec4930561f",
   "metadata": {},
   "outputs": [],
   "source": [
    "t = (1,9,8,7,6,3,5,1,6,1)"
   ]
  },
  {
   "cell_type": "code",
   "execution_count": 168,
   "id": "e25c2c6e-e1c4-47e8-82e2-633e39a87c26",
   "metadata": {},
   "outputs": [
    {
     "ename": "ValueError",
     "evalue": "tuple.index(x): x not in tuple",
     "output_type": "error",
     "traceback": [
      "\u001b[1;31m---------------------------------------------------------------------------\u001b[0m",
      "\u001b[1;31mValueError\u001b[0m                                Traceback (most recent call last)",
      "Cell \u001b[1;32mIn[168], line 1\u001b[0m\n\u001b[1;32m----> 1\u001b[0m t\u001b[38;5;241m.\u001b[39mindex(\u001b[38;5;241m4\u001b[39m)\n",
      "\u001b[1;31mValueError\u001b[0m: tuple.index(x): x not in tuple"
     ]
    }
   ],
   "source": [
    "t.index(4)"
   ]
  },
  {
   "cell_type": "code",
   "execution_count": 169,
   "id": "dc41d0ed-aa3a-4ac1-bac7-9abeb5e17a0d",
   "metadata": {},
   "outputs": [
    {
     "data": {
      "text/plain": [
       "0"
      ]
     },
     "execution_count": 169,
     "metadata": {},
     "output_type": "execute_result"
    }
   ],
   "source": [
    "t.index(1)"
   ]
  },
  {
   "cell_type": "code",
   "execution_count": 170,
   "id": "a9b114da-101a-4a46-887d-d70316afe604",
   "metadata": {},
   "outputs": [
    {
     "data": {
      "text/plain": [
       "7"
      ]
     },
     "execution_count": 170,
     "metadata": {},
     "output_type": "execute_result"
    }
   ],
   "source": [
    "t.index(1,1)"
   ]
  },
  {
   "cell_type": "code",
   "execution_count": 176,
   "id": "71d2a3d8-3665-49fa-9842-ed7798d60c41",
   "metadata": {},
   "outputs": [
    {
     "name": "stdout",
     "output_type": "stream",
     "text": [
      "(2, 4, 6, 8, 10, 12, 14, 16, 18, 20, 22, 24, 26, 28, 30, 32, 34, 36, 38, 40, 42, 44, 46, 48, 50, 52, 54, 56, 58, 60, 62, 64, 66, 68, 70, 72, 74, 76, 78, 80, 82, 84, 86, 88, 90, 92, 94, 96, 98, 100)\n",
      "----------\n",
      "(1, 3, 5, 7, 9, 11, 13, 15, 17, 19, 21, 23, 25, 27, 29, 31, 33, 35, 37, 39, 41, 43, 45, 47, 49, 51, 53, 55, 57, 59, 61, 63, 65, 67, 69, 71, 73, 75, 77, 79, 81, 83, 85, 87, 89, 91, 93, 95, 97, 99)\n"
     ]
    }
   ],
   "source": [
    "even=()\n",
    "odd=()\n",
    "for i in range(1,101):\n",
    "    if i%2==0:\n",
    "        even=even+(i,)\n",
    "    else:\n",
    "        odd=odd+(i,)\n",
    "        \n",
    "print(even)\n",
    "print('----------')\n",
    "print(odd)\n"
   ]
  },
  {
   "cell_type": "code",
   "execution_count": 180,
   "id": "ee2ebabd-d60f-4655-823d-e114344af3f6",
   "metadata": {},
   "outputs": [
    {
     "name": "stdout",
     "output_type": "stream",
     "text": [
      "('2', '4', '6', '8', '1', '0', '1', '2', '1', '4', '1', '6', '1', '8', '2', '0', '2', '2', '2', '4', '2', '6', '2', '8', '3', '0', '3', '2', '3', '4', '3', '6', '3', '8', '4', '0', '4', '2', '4', '4', '4', '6', '4', '8', '5', '0', '5', '2', '5', '4', '5', '6', '5', '8', '6', '0', '6', '2', '6', '4', '6', '6', '6', '8', '7', '0', '7', '2', '7', '4', '7', '6', '7', '8', '8', '0', '8', '2', '8', '4', '8', '6', '8', '8', '9', '0', '9', '2', '9', '4', '9', '6', '9', '8', '1', '0', '0')\n",
      "----------\n",
      "('1', '3', '5', '7', '9', '1', '1', '1', '3', '1', '5', '1', '7', '1', '9', '2', '1', '2', '3', '2', '5', '2', '7', '2', '9', '3', '1', '3', '3', '3', '5', '3', '7', '3', '9', '4', '1', '4', '3', '4', '5', '4', '7', '4', '9', '5', '1', '5', '3', '5', '5', '5', '7', '5', '9', '6', '1', '6', '3', '6', '5', '6', '7', '6', '9', '7', '1', '7', '3', '7', '5', '7', '7', '7', '9', '8', '1', '8', '3', '8', '5', '8', '7', '8', '9', '9', '1', '9', '3', '9', '5', '9', '7', '9', '9')\n"
     ]
    }
   ],
   "source": [
    "even=()\n",
    "odd=()\n",
    "for i in range(1,101):\n",
    "    if i%2==0:\n",
    "        even=even+ tuple(str(i))\n",
    "    else:\n",
    "        odd=odd+ tuple(str(i))\n",
    "        \n",
    "print(even)\n",
    "print('----------')\n",
    "print(odd)"
   ]
  },
  {
   "cell_type": "code",
   "execution_count": 181,
   "id": "bb8fcaaf-dcad-43fb-a821-8c53b4248ecc",
   "metadata": {},
   "outputs": [
    {
     "ename": "TypeError",
     "evalue": "'int' object is not iterable",
     "output_type": "error",
     "traceback": [
      "\u001b[1;31m---------------------------------------------------------------------------\u001b[0m",
      "\u001b[1;31mTypeError\u001b[0m                                 Traceback (most recent call last)",
      "Cell \u001b[1;32mIn[181], line 2\u001b[0m\n\u001b[0;32m      1\u001b[0m a \u001b[38;5;241m=\u001b[39m \u001b[38;5;241m1\u001b[39m\n\u001b[1;32m----> 2\u001b[0m \u001b[38;5;28mlist\u001b[39m(a)\n",
      "\u001b[1;31mTypeError\u001b[0m: 'int' object is not iterable"
     ]
    }
   ],
   "source": [
    "a = (1)\n"
   ]
  },
  {
   "cell_type": "code",
   "execution_count": 182,
   "id": "0c9d3bed-e592-44e7-9453-ecd9fe0347ed",
   "metadata": {},
   "outputs": [],
   "source": [
    "a = ['Sudhir', 'Mayank', 'Anjani'],[23, 29, 28]"
   ]
  },
  {
   "cell_type": "code",
   "execution_count": 183,
   "id": "9c2816f9-9664-4e9a-9c2e-36c48ffe4919",
   "metadata": {},
   "outputs": [],
   "source": [
    "names, ages = a"
   ]
  },
  {
   "cell_type": "code",
   "execution_count": 184,
   "id": "df3cecdb-8fd0-418b-bca4-8b9bce7ca12f",
   "metadata": {},
   "outputs": [
    {
     "data": {
      "text/plain": [
       "['Sudhir', 'Mayank', 'Anjani']"
      ]
     },
     "execution_count": 184,
     "metadata": {},
     "output_type": "execute_result"
    }
   ],
   "source": [
    "names"
   ]
  },
  {
   "cell_type": "code",
   "execution_count": 185,
   "id": "96f13c64-22ab-4da9-b2de-f80fbec5114a",
   "metadata": {},
   "outputs": [
    {
     "data": {
      "text/plain": [
       "[23, 29, 28]"
      ]
     },
     "execution_count": 185,
     "metadata": {},
     "output_type": "execute_result"
    }
   ],
   "source": [
    "ages"
   ]
  },
  {
   "cell_type": "code",
   "execution_count": null,
   "id": "e891281f-3f98-4db9-a94c-109e91c800da",
   "metadata": {},
   "outputs": [],
   "source": []
  }
 ],
 "metadata": {
  "kernelspec": {
   "display_name": "Python 3 (ipykernel)",
   "language": "python",
   "name": "python3"
  },
  "language_info": {
   "codemirror_mode": {
    "name": "ipython",
    "version": 3
   },
   "file_extension": ".py",
   "mimetype": "text/x-python",
   "name": "python",
   "nbconvert_exporter": "python",
   "pygments_lexer": "ipython3",
   "version": "3.11.7"
  }
 },
 "nbformat": 4,
 "nbformat_minor": 5
}

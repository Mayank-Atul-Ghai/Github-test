{
 "cells": [
  {
   "cell_type": "markdown",
   "id": "9f7965c7-7dfb-4f2e-8ba8-a5460afebe7f",
   "metadata": {},
   "source": [
    "### Dictionary Methods"
   ]
  },
  {
   "cell_type": "code",
   "execution_count": 4,
   "id": "13d37d87-53bb-45e9-b788-ccf68ba07f2d",
   "metadata": {},
   "outputs": [
    {
     "name": "stdout",
     "output_type": "stream",
     "text": [
      "['__class__', '__class_getitem__', '__contains__', '__delattr__', '__delitem__', '__dir__', '__doc__', '__eq__', '__format__', '__ge__', '__getattribute__', '__getitem__', '__getstate__', '__gt__', '__hash__', '__init__', '__init_subclass__', '__ior__', '__iter__', '__le__', '__len__', '__lt__', '__ne__', '__new__', '__or__', '__reduce__', '__reduce_ex__', '__repr__', '__reversed__', '__ror__', '__setattr__', '__setitem__', '__sizeof__', '__str__', '__subclasshook__', 'clear', 'copy', 'fromkeys', 'get', 'items', 'keys', 'pop', 'popitem', 'setdefault', 'update', 'values']\n"
     ]
    }
   ],
   "source": [
    "print(dir(dict))"
   ]
  },
  {
   "cell_type": "markdown",
   "id": "385ea1a7-22e5-46ad-a5dc-b28025702fb5",
   "metadata": {},
   "source": [
    "### keys()\n",
    "\n",
    "- It returns a key inside a dictionary object containing a list from the dictionary"
   ]
  },
  {
   "cell_type": "code",
   "execution_count": 5,
   "id": "b37e9e7e-911a-45c8-ae21-9fc9f4b16d50",
   "metadata": {},
   "outputs": [
    {
     "data": {
      "text/plain": [
       "{1: 1, 2: 4, 3: 9, 4: 16, 5: 25, 6: 36, 7: 49, 8: 64, 9: 81, 10: 100}"
      ]
     },
     "execution_count": 5,
     "metadata": {},
     "output_type": "execute_result"
    }
   ],
   "source": [
    "d = {i:i**2 for i in range(1,11)}\n",
    "d"
   ]
  },
  {
   "cell_type": "code",
   "execution_count": 6,
   "id": "f78efa91-cb9d-419e-87e0-3b0eb98bfb14",
   "metadata": {},
   "outputs": [
    {
     "data": {
      "text/plain": [
       "dict_keys([1, 2, 3, 4, 5, 6, 7, 8, 9, 10])"
      ]
     },
     "execution_count": 6,
     "metadata": {},
     "output_type": "execute_result"
    }
   ],
   "source": [
    "d.keys()"
   ]
  },
  {
   "cell_type": "code",
   "execution_count": 7,
   "id": "3c41c847-fd27-48cf-a989-b8e95c020d46",
   "metadata": {
    "scrolled": true
   },
   "outputs": [
    {
     "data": {
      "text/plain": [
       "{'emp1_detail': {'name': 'Rajesh',\n",
       "  'age': 22,\n",
       "  'ID': 101,\n",
       "  'salary': 45000,\n",
       "  'city': 'Bengaluru'},\n",
       " 'emp2_detail': {'name': 'Priya',\n",
       "  'age': 27,\n",
       "  'ID': 102,\n",
       "  'salary': 55000,\n",
       "  'city': 'Surat'},\n",
       " 'emp3_detail': {'name': 'Abha',\n",
       "  'age': 29,\n",
       "  'ID': 103,\n",
       "  'salary': 75000,\n",
       "  'city': 'Panchkula'}}"
      ]
     },
     "execution_count": 7,
     "metadata": {},
     "output_type": "execute_result"
    }
   ],
   "source": [
    "emp_1 = {'name':'Rajesh', 'age':22, 'ID':101, 'salary':45000, 'city' : 'Bengaluru'}\n",
    "emp_2 = {'name':'Priya', 'age':27, 'ID':102, 'salary':55000, 'city' : 'Surat'}\n",
    "emp_3 = {'name':'Abha', 'age':29, 'ID':103, 'salary':75000, 'city' : 'Panchkula'}\n",
    "\n",
    "emp_detail = {'emp1_detail':emp_1, 'emp2_detail':emp_2, 'emp3_detail':emp_3}\n",
    "emp_detail"
   ]
  },
  {
   "cell_type": "code",
   "execution_count": 8,
   "id": "4e619110-93b1-44ba-8b0b-ab39b6e23d5f",
   "metadata": {},
   "outputs": [
    {
     "data": {
      "text/plain": [
       "dict_keys(['emp1_detail', 'emp2_detail', 'emp3_detail'])"
      ]
     },
     "execution_count": 8,
     "metadata": {},
     "output_type": "execute_result"
    }
   ],
   "source": [
    "emp_detail.keys()"
   ]
  },
  {
   "cell_type": "markdown",
   "id": "f534e695-ccb6-4cef-9669-0a7818e5703b",
   "metadata": {},
   "source": [
    "#### Inner Keys"
   ]
  },
  {
   "cell_type": "code",
   "execution_count": 9,
   "id": "a2c13168-6356-4ce0-b329-34c1007b05ed",
   "metadata": {},
   "outputs": [
    {
     "name": "stdout",
     "output_type": "stream",
     "text": [
      "emp1_detail dict_keys(['name', 'age', 'ID', 'salary', 'city'])\n",
      "emp2_detail dict_keys(['name', 'age', 'ID', 'salary', 'city'])\n",
      "emp3_detail dict_keys(['name', 'age', 'ID', 'salary', 'city'])\n"
     ]
    }
   ],
   "source": [
    "for i in emp_detail:\n",
    "    print(i, emp_detail[i].keys())"
   ]
  },
  {
   "cell_type": "code",
   "execution_count": null,
   "id": "48d779df-03e8-4842-bb08-273490d9847a",
   "metadata": {},
   "outputs": [],
   "source": []
  },
  {
   "cell_type": "markdown",
   "id": "48688f0f-7798-4825-ad36-f41aea8aec3b",
   "metadata": {},
   "source": [
    "### Values \n",
    "\n",
    "- It returns a dictionary object, containing a list of the values from the dictionary "
   ]
  },
  {
   "cell_type": "code",
   "execution_count": 10,
   "id": "671965ea-309e-4e57-b697-a29006832ffa",
   "metadata": {},
   "outputs": [
    {
     "data": {
      "text/plain": [
       "{1: 1, 2: 4, 3: 9, 4: 16, 5: 25, 6: 36, 7: 49, 8: 64, 9: 81, 10: 100}"
      ]
     },
     "execution_count": 10,
     "metadata": {},
     "output_type": "execute_result"
    }
   ],
   "source": [
    "d"
   ]
  },
  {
   "cell_type": "code",
   "execution_count": 11,
   "id": "75c90dd9-2d52-4f18-bbb1-cdc326e5806a",
   "metadata": {},
   "outputs": [
    {
     "data": {
      "text/plain": [
       "dict_values([1, 4, 9, 16, 25, 36, 49, 64, 81, 100])"
      ]
     },
     "execution_count": 11,
     "metadata": {},
     "output_type": "execute_result"
    }
   ],
   "source": [
    "d.values()"
   ]
  },
  {
   "cell_type": "code",
   "execution_count": 12,
   "id": "db009a49-02ce-4518-ac0d-89058144d3fa",
   "metadata": {
    "scrolled": true
   },
   "outputs": [
    {
     "data": {
      "text/plain": [
       "{'emp1_detail': {'name': 'Rajesh',\n",
       "  'age': 22,\n",
       "  'ID': 101,\n",
       "  'salary': 45000,\n",
       "  'city': 'Bengaluru'},\n",
       " 'emp2_detail': {'name': 'Priya',\n",
       "  'age': 27,\n",
       "  'ID': 102,\n",
       "  'salary': 55000,\n",
       "  'city': 'Surat'},\n",
       " 'emp3_detail': {'name': 'Abha',\n",
       "  'age': 29,\n",
       "  'ID': 103,\n",
       "  'salary': 75000,\n",
       "  'city': 'Panchkula'}}"
      ]
     },
     "execution_count": 12,
     "metadata": {},
     "output_type": "execute_result"
    }
   ],
   "source": [
    "emp_detail"
   ]
  },
  {
   "cell_type": "code",
   "execution_count": 13,
   "id": "00f56970-e6ea-49a1-8a7f-42dea0f64ed1",
   "metadata": {},
   "outputs": [
    {
     "data": {
      "text/plain": [
       "dict_values([{'name': 'Rajesh', 'age': 22, 'ID': 101, 'salary': 45000, 'city': 'Bengaluru'}, {'name': 'Priya', 'age': 27, 'ID': 102, 'salary': 55000, 'city': 'Surat'}, {'name': 'Abha', 'age': 29, 'ID': 103, 'salary': 75000, 'city': 'Panchkula'}])"
      ]
     },
     "execution_count": 13,
     "metadata": {},
     "output_type": "execute_result"
    }
   ],
   "source": [
    "emp_detail.values()"
   ]
  },
  {
   "cell_type": "markdown",
   "id": "3fba561e-c930-44aa-ac14-c6bbb5659a7e",
   "metadata": {},
   "source": [
    "#### Inner values "
   ]
  },
  {
   "cell_type": "code",
   "execution_count": 14,
   "id": "9ce93ee9-6471-41ce-b4e8-de4161c5c477",
   "metadata": {},
   "outputs": [
    {
     "name": "stdout",
     "output_type": "stream",
     "text": [
      "emp1_detail dict_values(['Rajesh', 22, 101, 45000, 'Bengaluru'])\n",
      "emp2_detail dict_values(['Priya', 27, 102, 55000, 'Surat'])\n",
      "emp3_detail dict_values(['Abha', 29, 103, 75000, 'Panchkula'])\n"
     ]
    }
   ],
   "source": [
    "for i in emp_detail:\n",
    "    print(i, emp_detail[i].values())"
   ]
  },
  {
   "cell_type": "code",
   "execution_count": null,
   "id": "124a8f00-15ef-4408-a5f6-27881c9432a4",
   "metadata": {},
   "outputs": [],
   "source": []
  },
  {
   "cell_type": "markdown",
   "id": "726f53a3-5d9e-43de-b286-39890151c5a2",
   "metadata": {},
   "source": [
    "### items()\n",
    "\n",
    "- It returns a dictionary object, that contains a list of tuples where every tuple has two values in it.\n",
    "- The first element of the tuple is the key and the second element of the tuple is the value associated to that key"
   ]
  },
  {
   "cell_type": "code",
   "execution_count": 15,
   "id": "fd91b449-215e-4811-a844-2dec65f19e92",
   "metadata": {},
   "outputs": [
    {
     "data": {
      "text/plain": [
       "{1: 1, 2: 4, 3: 9, 4: 16, 5: 25, 6: 36, 7: 49, 8: 64, 9: 81, 10: 100}"
      ]
     },
     "execution_count": 15,
     "metadata": {},
     "output_type": "execute_result"
    }
   ],
   "source": [
    "d"
   ]
  },
  {
   "cell_type": "code",
   "execution_count": 16,
   "id": "f9aefd53-1b9a-438a-ae0d-42106dee383c",
   "metadata": {},
   "outputs": [
    {
     "data": {
      "text/plain": [
       "dict_items([(1, 1), (2, 4), (3, 9), (4, 16), (5, 25), (6, 36), (7, 49), (8, 64), (9, 81), (10, 100)])"
      ]
     },
     "execution_count": 16,
     "metadata": {},
     "output_type": "execute_result"
    }
   ],
   "source": [
    "d.items()"
   ]
  },
  {
   "cell_type": "code",
   "execution_count": 17,
   "id": "be4e9ea4-4915-4525-bc9b-9ee7ad598f51",
   "metadata": {
    "scrolled": true
   },
   "outputs": [
    {
     "data": {
      "text/plain": [
       "{'emp1_detail': {'name': 'Rajesh',\n",
       "  'age': 22,\n",
       "  'ID': 101,\n",
       "  'salary': 45000,\n",
       "  'city': 'Bengaluru'},\n",
       " 'emp2_detail': {'name': 'Priya',\n",
       "  'age': 27,\n",
       "  'ID': 102,\n",
       "  'salary': 55000,\n",
       "  'city': 'Surat'},\n",
       " 'emp3_detail': {'name': 'Abha',\n",
       "  'age': 29,\n",
       "  'ID': 103,\n",
       "  'salary': 75000,\n",
       "  'city': 'Panchkula'}}"
      ]
     },
     "execution_count": 17,
     "metadata": {},
     "output_type": "execute_result"
    }
   ],
   "source": [
    "emp_detail"
   ]
  },
  {
   "cell_type": "code",
   "execution_count": 18,
   "id": "6b3b6d9e-d4ec-4da1-8d06-f6ebac7da80b",
   "metadata": {},
   "outputs": [
    {
     "data": {
      "text/plain": [
       "dict_items([('emp1_detail', {'name': 'Rajesh', 'age': 22, 'ID': 101, 'salary': 45000, 'city': 'Bengaluru'}), ('emp2_detail', {'name': 'Priya', 'age': 27, 'ID': 102, 'salary': 55000, 'city': 'Surat'}), ('emp3_detail', {'name': 'Abha', 'age': 29, 'ID': 103, 'salary': 75000, 'city': 'Panchkula'})])"
      ]
     },
     "execution_count": 18,
     "metadata": {},
     "output_type": "execute_result"
    }
   ],
   "source": [
    "emp_detail.items()"
   ]
  },
  {
   "cell_type": "markdown",
   "id": "94910e0d-9e14-481b-98df-01e22d10fa22",
   "metadata": {},
   "source": [
    "#### Inner items "
   ]
  },
  {
   "cell_type": "code",
   "execution_count": 19,
   "id": "b5c909a9-db1e-4bb7-bfb5-63723fc5872f",
   "metadata": {},
   "outputs": [
    {
     "name": "stdout",
     "output_type": "stream",
     "text": [
      "emp1_detail dict_items([('name', 'Rajesh'), ('age', 22), ('ID', 101), ('salary', 45000), ('city', 'Bengaluru')])\n",
      "emp2_detail dict_items([('name', 'Priya'), ('age', 27), ('ID', 102), ('salary', 55000), ('city', 'Surat')])\n",
      "emp3_detail dict_items([('name', 'Abha'), ('age', 29), ('ID', 103), ('salary', 75000), ('city', 'Panchkula')])\n"
     ]
    }
   ],
   "source": [
    "for i in emp_detail:\n",
    "    print(i, emp_detail[i].items())"
   ]
  },
  {
   "cell_type": "code",
   "execution_count": 20,
   "id": "5581f373-de4d-4a3e-9578-f5aa33b8b459",
   "metadata": {
    "scrolled": true
   },
   "outputs": [
    {
     "name": "stdout",
     "output_type": "stream",
     "text": [
      "('emp1_detail', {'name': 'Rajesh', 'age': 22, 'ID': 101, 'salary': 45000, 'city': 'Bengaluru'})\n",
      "('emp2_detail', {'name': 'Priya', 'age': 27, 'ID': 102, 'salary': 55000, 'city': 'Surat'})\n",
      "('emp3_detail', {'name': 'Abha', 'age': 29, 'ID': 103, 'salary': 75000, 'city': 'Panchkula'})\n"
     ]
    }
   ],
   "source": [
    "for i in emp_detail.items():\n",
    "    print(i)"
   ]
  },
  {
   "cell_type": "code",
   "execution_count": 23,
   "id": "71a3bc71-ab17-49cd-842d-17f7fdedf561",
   "metadata": {},
   "outputs": [
    {
     "name": "stdout",
     "output_type": "stream",
     "text": [
      "emp1_detail\n",
      "{'name': 'Rajesh', 'age': 22, 'ID': 101, 'salary': 45000, 'city': 'Bengaluru'}\n",
      "--------------------------\n",
      "('name', 'Rajesh')\n",
      "('age', 22)\n",
      "('ID', 101)\n",
      "('salary', 45000)\n",
      "('city', 'Bengaluru')\n",
      "\n",
      "emp2_detail\n",
      "{'name': 'Priya', 'age': 27, 'ID': 102, 'salary': 55000, 'city': 'Surat'}\n",
      "--------------------------\n",
      "('name', 'Priya')\n",
      "('age', 27)\n",
      "('ID', 102)\n",
      "('salary', 55000)\n",
      "('city', 'Surat')\n",
      "\n",
      "emp3_detail\n",
      "{'name': 'Abha', 'age': 29, 'ID': 103, 'salary': 75000, 'city': 'Panchkula'}\n",
      "--------------------------\n",
      "('name', 'Abha')\n",
      "('age', 29)\n",
      "('ID', 103)\n",
      "('salary', 75000)\n",
      "('city', 'Panchkula')\n",
      "\n"
     ]
    }
   ],
   "source": [
    "for i , j in emp_detail.items():\n",
    "    print(i)\n",
    "    print(j)\n",
    "    print('--------------------------')\n",
    "\n",
    "    for x in j.items():\n",
    "        print(x)\n",
    "    print()"
   ]
  },
  {
   "cell_type": "markdown",
   "id": "acbe3687-8285-4a6e-b5a4-8b70ffb092f7",
   "metadata": {},
   "source": [
    "### update()\n",
    "\n",
    "- It is used to update the elements of one dictionary to another dictionary \n",
    "- It is used to combine two dictionary \n",
    "\n",
    "__Syntax:__\n",
    "        \n",
    "        dict_1.update(dict_2)\n",
    "        \n",
    "__Note:__ \n",
    "\n",
    "- update() method takes a dictionary as an argument or input\n",
    "- The elements of the dictionary 2 will be updated in dictionary 1\n",
    "\n",
    "        "
   ]
  },
  {
   "cell_type": "code",
   "execution_count": 24,
   "id": "409f08e5-68b1-41be-adc9-29f65dd5bb9d",
   "metadata": {},
   "outputs": [
    {
     "data": {
      "text/plain": [
       "{2: 4, 4: 16, 6: 36, 8: 64, 10: 100}"
      ]
     },
     "execution_count": 24,
     "metadata": {},
     "output_type": "execute_result"
    }
   ],
   "source": [
    "d = {i:i**2 for i in range(1,11) if i%2 == 0}\n",
    "d"
   ]
  },
  {
   "cell_type": "code",
   "execution_count": 25,
   "id": "e760d1a2-e803-4d6e-bd31-1f7ca0464789",
   "metadata": {},
   "outputs": [
    {
     "data": {
      "text/plain": [
       "{1: 1, 3: 27, 5: 125, 7: 343, 9: 729}"
      ]
     },
     "execution_count": 25,
     "metadata": {},
     "output_type": "execute_result"
    }
   ],
   "source": [
    "d2 = {i:i**3 for i in range(1,11) if i%2 != 0}\n",
    "d2"
   ]
  },
  {
   "cell_type": "code",
   "execution_count": 26,
   "id": "ef40ef91-0046-4145-b57b-1ad31609837f",
   "metadata": {},
   "outputs": [],
   "source": [
    "d.update(d2)"
   ]
  },
  {
   "cell_type": "code",
   "execution_count": 27,
   "id": "ef5ca553-6677-4dc4-8236-8cdd0081d19e",
   "metadata": {},
   "outputs": [
    {
     "data": {
      "text/plain": [
       "{2: 4, 4: 16, 6: 36, 8: 64, 10: 100, 1: 1, 3: 27, 5: 125, 7: 343, 9: 729}"
      ]
     },
     "execution_count": 27,
     "metadata": {},
     "output_type": "execute_result"
    }
   ],
   "source": [
    "d"
   ]
  },
  {
   "cell_type": "code",
   "execution_count": 28,
   "id": "ff74a4bb-c561-44b2-8cf5-4ca4cbe6aacd",
   "metadata": {},
   "outputs": [
    {
     "data": {
      "text/plain": [
       "{2: 4, 4: 16, 6: 36, 8: 64, 10: 100}"
      ]
     },
     "execution_count": 28,
     "metadata": {},
     "output_type": "execute_result"
    }
   ],
   "source": [
    "d = {i:i**2 for i in range(1,11) if i%2 == 0}\n",
    "d"
   ]
  },
  {
   "cell_type": "code",
   "execution_count": 29,
   "id": "bd372aaa-3874-476a-aebb-34f7825af683",
   "metadata": {},
   "outputs": [
    {
     "data": {
      "text/plain": [
       "{1: 1, 3: 27, 5: 125, 7: 343, 9: 729, 2: 4, 4: 16, 6: 36, 8: 64, 10: 100}"
      ]
     },
     "execution_count": 29,
     "metadata": {},
     "output_type": "execute_result"
    }
   ],
   "source": [
    "d2.update(d)\n",
    "d2"
   ]
  },
  {
   "cell_type": "code",
   "execution_count": 35,
   "id": "5d93e3d9-1fdb-40dc-94de-b3c623d0c77a",
   "metadata": {
    "scrolled": true
   },
   "outputs": [
    {
     "ename": "TypeError",
     "evalue": "'int' object is not iterable",
     "output_type": "error",
     "traceback": [
      "\u001b[1;31m---------------------------------------------------------------------------\u001b[0m",
      "\u001b[1;31mTypeError\u001b[0m                                 Traceback (most recent call last)",
      "Cell \u001b[1;32mIn[35], line 1\u001b[0m\n\u001b[1;32m----> 1\u001b[0m d\u001b[38;5;241m.\u001b[39mupdate(\u001b[38;5;241m1\u001b[39m)\n",
      "\u001b[1;31mTypeError\u001b[0m: 'int' object is not iterable"
     ]
    }
   ],
   "source": [
    "d.update(1)"
   ]
  },
  {
   "cell_type": "code",
   "execution_count": 36,
   "id": "8f950819-e6ab-4ed3-a8f2-1a8899fd5feb",
   "metadata": {},
   "outputs": [
    {
     "ename": "TypeError",
     "evalue": "cannot convert dictionary update sequence element #0 to a sequence",
     "output_type": "error",
     "traceback": [
      "\u001b[1;31m---------------------------------------------------------------------------\u001b[0m",
      "\u001b[1;31mTypeError\u001b[0m                                 Traceback (most recent call last)",
      "Cell \u001b[1;32mIn[36], line 1\u001b[0m\n\u001b[1;32m----> 1\u001b[0m d\u001b[38;5;241m.\u001b[39mupdate([\u001b[38;5;241m1\u001b[39m,\u001b[38;5;241m2\u001b[39m,\u001b[38;5;241m3\u001b[39m])\n",
      "\u001b[1;31mTypeError\u001b[0m: cannot convert dictionary update sequence element #0 to a sequence"
     ]
    }
   ],
   "source": [
    "d.update([1,2,3])"
   ]
  },
  {
   "cell_type": "code",
   "execution_count": 34,
   "id": "c6ffa0ca-f70b-424d-88ed-05c2a9975280",
   "metadata": {},
   "outputs": [
    {
     "data": {
      "text/plain": [
       "{1: 100, 3: 27, 5: 125, 7: 343, 9: 729, 2: 4, 4: 16, 6: 36, 8: 64, 10: 100}"
      ]
     },
     "execution_count": 34,
     "metadata": {},
     "output_type": "execute_result"
    }
   ],
   "source": [
    "d2.update({1:100})\n",
    "d2"
   ]
  },
  {
   "cell_type": "markdown",
   "id": "f6da03b1-da4a-4305-adfc-7fd17c89622f",
   "metadata": {},
   "source": [
    "### pop()\n",
    "\n",
    "- It returns the value at a specified key from the dictionary and removes the element at that particular key from the dictionary \n",
    "- For an invalid key it will raise an error"
   ]
  },
  {
   "cell_type": "code",
   "execution_count": 39,
   "id": "2c967492-f5ed-45da-bab3-c33aefad875f",
   "metadata": {},
   "outputs": [
    {
     "data": {
      "text/plain": [
       "{1: 1, 2: 4, 3: 27, 4: 16, 5: 125, 6: 36, 7: 343, 8: 64, 9: 729, 10: 100}"
      ]
     },
     "execution_count": 39,
     "metadata": {},
     "output_type": "execute_result"
    }
   ],
   "source": [
    "d = {i:i**2 if i%2 == 0 else i**3 for i in range(1,11)}\n",
    "d"
   ]
  },
  {
   "cell_type": "code",
   "execution_count": 40,
   "id": "d6675412-b2b6-4d0f-9d2c-51f3dc2b5276",
   "metadata": {},
   "outputs": [
    {
     "data": {
      "text/plain": [
       "343"
      ]
     },
     "execution_count": 40,
     "metadata": {},
     "output_type": "execute_result"
    }
   ],
   "source": [
    "d.pop(7)"
   ]
  },
  {
   "cell_type": "code",
   "execution_count": 41,
   "id": "e64a5cf9-5d49-4c5b-b5cf-c4ee9bde75af",
   "metadata": {},
   "outputs": [
    {
     "data": {
      "text/plain": [
       "{1: 1, 2: 4, 3: 27, 4: 16, 5: 125, 6: 36, 8: 64, 9: 729, 10: 100}"
      ]
     },
     "execution_count": 41,
     "metadata": {},
     "output_type": "execute_result"
    }
   ],
   "source": [
    "d"
   ]
  },
  {
   "cell_type": "code",
   "execution_count": 42,
   "id": "a4e72875-eaa9-460b-a76b-83b4d6bd3383",
   "metadata": {},
   "outputs": [
    {
     "ename": "KeyError",
     "evalue": "100",
     "output_type": "error",
     "traceback": [
      "\u001b[1;31m---------------------------------------------------------------------------\u001b[0m",
      "\u001b[1;31mKeyError\u001b[0m                                  Traceback (most recent call last)",
      "Cell \u001b[1;32mIn[42], line 1\u001b[0m\n\u001b[1;32m----> 1\u001b[0m d\u001b[38;5;241m.\u001b[39mpop(\u001b[38;5;241m100\u001b[39m)\n",
      "\u001b[1;31mKeyError\u001b[0m: 100"
     ]
    }
   ],
   "source": [
    "d.pop(100)"
   ]
  },
  {
   "cell_type": "markdown",
   "id": "2adcf0db-6e91-4e6a-a2c4-280400e536e9",
   "metadata": {},
   "source": [
    "### popitem()\n",
    "\n",
    "- It returns the last element and removes the element from the dictionary\n",
    "- It will not take an kind of arguments in it"
   ]
  },
  {
   "cell_type": "code",
   "execution_count": 43,
   "id": "6d7a31c7-e844-4233-b96e-d7afece9053c",
   "metadata": {},
   "outputs": [
    {
     "data": {
      "text/plain": [
       "{1: 1, 2: 8, 3: 27, 4: 64, 5: 125, 6: 216, 7: 343, 8: 512, 9: 729, 10: 1000}"
      ]
     },
     "execution_count": 43,
     "metadata": {},
     "output_type": "execute_result"
    }
   ],
   "source": [
    "d = {i:i**3 for i in range(1,11)}\n",
    "d"
   ]
  },
  {
   "cell_type": "code",
   "execution_count": 44,
   "id": "62bbd1b6-abae-4e58-a724-9f65900eb253",
   "metadata": {},
   "outputs": [
    {
     "data": {
      "text/plain": [
       "(10, 1000)"
      ]
     },
     "execution_count": 44,
     "metadata": {},
     "output_type": "execute_result"
    }
   ],
   "source": [
    "d.popitem()"
   ]
  },
  {
   "cell_type": "code",
   "execution_count": 45,
   "id": "78d981ee-5bb9-4eaf-8943-e3273129551b",
   "metadata": {
    "scrolled": true
   },
   "outputs": [
    {
     "data": {
      "text/plain": [
       "{1: 1, 2: 8, 3: 27, 4: 64, 5: 125, 6: 216, 7: 343, 8: 512, 9: 729}"
      ]
     },
     "execution_count": 45,
     "metadata": {},
     "output_type": "execute_result"
    }
   ],
   "source": [
    "d"
   ]
  },
  {
   "cell_type": "code",
   "execution_count": 46,
   "id": "dc64e7c9-50c7-4b47-a57e-749482aebe5c",
   "metadata": {},
   "outputs": [
    {
     "ename": "TypeError",
     "evalue": "dict.popitem() takes no arguments (1 given)",
     "output_type": "error",
     "traceback": [
      "\u001b[1;31m---------------------------------------------------------------------------\u001b[0m",
      "\u001b[1;31mTypeError\u001b[0m                                 Traceback (most recent call last)",
      "Cell \u001b[1;32mIn[46], line 1\u001b[0m\n\u001b[1;32m----> 1\u001b[0m d\u001b[38;5;241m.\u001b[39mpopitem(\u001b[38;5;241m2\u001b[39m)\n",
      "\u001b[1;31mTypeError\u001b[0m: dict.popitem() takes no arguments (1 given)"
     ]
    }
   ],
   "source": [
    "d.popitem(2)\n"
   ]
  },
  {
   "cell_type": "markdown",
   "id": "6980591d-cd9e-4317-bef0-1a6458a54ffc",
   "metadata": {},
   "source": [
    "### fromkeys()\n",
    "\n",
    "- It is used to assign the same value to multiple keys\n",
    "\n",
    "    __Syntax:__\n",
    "        \n",
    "        dict.from_keys(iterable, value)\n",
    "  \n",
    "__Note:__ The iterable should have keys"
   ]
  },
  {
   "cell_type": "code",
   "execution_count": 48,
   "id": "9de355bf-2484-4d61-b7cc-706ee16eb683",
   "metadata": {},
   "outputs": [],
   "source": [
    "name = ('Rajesh', 'Karan', 'Aman', 'Priya', 'Abha')\n",
    "\n",
    "# {'Rajesh':'Learnbay', 'Karan':'Learnbay', 'Aman':'Learnbay,......}"
   ]
  },
  {
   "cell_type": "code",
   "execution_count": 49,
   "id": "8857fb23-3206-4fb8-8bda-8c395f975b36",
   "metadata": {},
   "outputs": [
    {
     "data": {
      "text/plain": [
       "{'Rajesh': 'Learnbay',\n",
       " 'Karan': 'Learnbay',\n",
       " 'Aman': 'Learnbay',\n",
       " 'Priya': 'Learnbay',\n",
       " 'Abha': 'Learnbay'}"
      ]
     },
     "execution_count": 49,
     "metadata": {},
     "output_type": "execute_result"
    }
   ],
   "source": [
    "dict.fromkeys(name, 'Learnbay')"
   ]
  },
  {
   "cell_type": "code",
   "execution_count": 50,
   "id": "9844cf60-37e8-4bb7-bfa8-cbd91062bbf0",
   "metadata": {},
   "outputs": [],
   "source": [
    "name = ['Rajesh', 'Karan', 'Aman', 'Priya', 'Abha']\n",
    "\n",
    "# {'Rajesh':'Learnbay', 'Karan':'Learnbay', 'Aman':'Learnbay,......}"
   ]
  },
  {
   "cell_type": "code",
   "execution_count": 51,
   "id": "9ac43137-2058-47d0-83b2-28e3025bf125",
   "metadata": {
    "scrolled": true
   },
   "outputs": [
    {
     "data": {
      "text/plain": [
       "{'Rajesh': 'Benagluru',\n",
       " 'Karan': 'Benagluru',\n",
       " 'Aman': 'Benagluru',\n",
       " 'Priya': 'Benagluru',\n",
       " 'Abha': 'Benagluru'}"
      ]
     },
     "execution_count": 51,
     "metadata": {},
     "output_type": "execute_result"
    }
   ],
   "source": [
    "dict.fromkeys(name, 'Benagluru')"
   ]
  },
  {
   "cell_type": "code",
   "execution_count": 52,
   "id": "8fea75f7-1592-44e4-8041-bd0c17a69835",
   "metadata": {},
   "outputs": [
    {
     "data": {
      "text/plain": [
       "{1: 'real_number',\n",
       " 2: 'real_number',\n",
       " 3: 'real_number',\n",
       " 4: 'real_number',\n",
       " 5: 'real_number',\n",
       " 6: 'real_number',\n",
       " 7: 'real_number',\n",
       " 8: 'real_number',\n",
       " 9: 'real_number',\n",
       " 10: 'real_number'}"
      ]
     },
     "execution_count": 52,
     "metadata": {},
     "output_type": "execute_result"
    }
   ],
   "source": [
    "num = [i for i in range(1,11)]\n",
    "\n",
    "dict.fromkeys(num, 'real_number')"
   ]
  },
  {
   "cell_type": "markdown",
   "id": "1d4cc032-515b-421d-8518-f91922bcc3f1",
   "metadata": {},
   "source": [
    "### get()\n",
    "\n",
    "- It takes a key as an argument and returns the value associated to that key \n",
    "- For any invalid key, it will return a None"
   ]
  },
  {
   "cell_type": "code",
   "execution_count": 53,
   "id": "9d11a2f5-3b62-47f9-88c3-5156c79b32d4",
   "metadata": {},
   "outputs": [
    {
     "data": {
      "text/plain": [
       "{1: 1, 2: 8, 3: 27, 4: 64, 5: 125, 6: 216, 7: 343, 8: 512, 9: 729, 10: 1000}"
      ]
     },
     "execution_count": 53,
     "metadata": {},
     "output_type": "execute_result"
    }
   ],
   "source": [
    "d = {i:i**3 for i in range(1,11)}\n",
    "d"
   ]
  },
  {
   "cell_type": "code",
   "execution_count": 54,
   "id": "71969f13-fc56-4305-9fc7-b37a2702140b",
   "metadata": {},
   "outputs": [
    {
     "data": {
      "text/plain": [
       "1"
      ]
     },
     "execution_count": 54,
     "metadata": {},
     "output_type": "execute_result"
    }
   ],
   "source": [
    "d.get(1)"
   ]
  },
  {
   "cell_type": "code",
   "execution_count": 55,
   "id": "d050e18d-a055-4025-9299-6e6aebfe865f",
   "metadata": {},
   "outputs": [
    {
     "data": {
      "text/plain": [
       "729"
      ]
     },
     "execution_count": 55,
     "metadata": {},
     "output_type": "execute_result"
    }
   ],
   "source": [
    "d.get(9)"
   ]
  },
  {
   "cell_type": "code",
   "execution_count": 57,
   "id": "448a9233-3231-4276-9153-84af67b5980d",
   "metadata": {},
   "outputs": [
    {
     "name": "stdout",
     "output_type": "stream",
     "text": [
      "None\n"
     ]
    }
   ],
   "source": [
    "print(d.get(11))"
   ]
  },
  {
   "cell_type": "markdown",
   "id": "6caf3c53-f152-4a20-a66e-155da1e120b4",
   "metadata": {},
   "source": [
    "### setdefault()\n",
    "\n",
    "- It takes a key as an argument\n",
    "- If the key already exist, then it will return the value at that particular key\n",
    "- If the key doesn't exist, then it creates one and assign a None value to it\n",
    "- We can pass key and values both"
   ]
  },
  {
   "cell_type": "code",
   "execution_count": 58,
   "id": "c4c4525d-ef99-4927-8614-fb9b6d2b382e",
   "metadata": {},
   "outputs": [
    {
     "data": {
      "text/plain": [
       "['Rajesh', 'Karan', 'Aman', 'Priya', 'Abha']"
      ]
     },
     "execution_count": 58,
     "metadata": {},
     "output_type": "execute_result"
    }
   ],
   "source": [
    "name"
   ]
  },
  {
   "cell_type": "code",
   "execution_count": 59,
   "id": "1e2dc941-9e79-4728-8db3-41ea18446dd2",
   "metadata": {},
   "outputs": [],
   "source": [
    "cities = ['chennai', 'bengaluru', 'mumbai', 'Chandigarh', 'mohali']"
   ]
  },
  {
   "cell_type": "code",
   "execution_count": 60,
   "id": "6b1525a5-123c-4869-9ef7-f65b9317c4ef",
   "metadata": {},
   "outputs": [
    {
     "data": {
      "text/plain": [
       "{'Rajesh': 'chennai',\n",
       " 'Karan': 'bengaluru',\n",
       " 'Aman': 'mumbai',\n",
       " 'Priya': 'Chandigarh',\n",
       " 'Abha': 'mohali'}"
      ]
     },
     "execution_count": 60,
     "metadata": {},
     "output_type": "execute_result"
    }
   ],
   "source": [
    "emp = dict(zip(name, cities))\n",
    "emp"
   ]
  },
  {
   "cell_type": "code",
   "execution_count": 61,
   "id": "583df5fa-9fac-461c-9c55-5982ed12cbdb",
   "metadata": {},
   "outputs": [
    {
     "data": {
      "text/plain": [
       "'Chandigarh'"
      ]
     },
     "execution_count": 61,
     "metadata": {},
     "output_type": "execute_result"
    }
   ],
   "source": [
    "emp.setdefault('Priya')"
   ]
  },
  {
   "cell_type": "code",
   "execution_count": 62,
   "id": "41f133fb-5cc9-4b38-a758-c9d1b1a2b1be",
   "metadata": {},
   "outputs": [],
   "source": [
    "emp.setdefault('Mayank')"
   ]
  },
  {
   "cell_type": "code",
   "execution_count": 63,
   "id": "aaed9c1b-cfe4-4172-81bf-b5f42b4d7e31",
   "metadata": {},
   "outputs": [
    {
     "data": {
      "text/plain": [
       "{'Rajesh': 'chennai',\n",
       " 'Karan': 'bengaluru',\n",
       " 'Aman': 'mumbai',\n",
       " 'Priya': 'Chandigarh',\n",
       " 'Abha': 'mohali',\n",
       " 'Mayank': None}"
      ]
     },
     "execution_count": 63,
     "metadata": {},
     "output_type": "execute_result"
    }
   ],
   "source": [
    "emp"
   ]
  },
  {
   "cell_type": "markdown",
   "id": "a9e89960-69cd-422e-a0bf-c963a00b5f97",
   "metadata": {},
   "source": [
    "#### we can pass both keys and values also in the setdefault method"
   ]
  },
  {
   "cell_type": "code",
   "execution_count": 66,
   "id": "3c755500-44e8-4898-82a0-cd2eecd1c102",
   "metadata": {},
   "outputs": [
    {
     "data": {
      "text/plain": [
       "'amritsar'"
      ]
     },
     "execution_count": 66,
     "metadata": {},
     "output_type": "execute_result"
    }
   ],
   "source": [
    "emp.setdefault('Chandni', 'amritsar')"
   ]
  },
  {
   "cell_type": "code",
   "execution_count": 67,
   "id": "9a315293-7685-4c4a-aaae-5fa4ba72a39c",
   "metadata": {},
   "outputs": [
    {
     "data": {
      "text/plain": [
       "{'Rajesh': 'chennai',\n",
       " 'Karan': 'bengaluru',\n",
       " 'Aman': 'mumbai',\n",
       " 'Priya': 'Chandigarh',\n",
       " 'Abha': 'mohali',\n",
       " 'Mayank': None,\n",
       " 'Chandni': 'amritsar'}"
      ]
     },
     "execution_count": 67,
     "metadata": {},
     "output_type": "execute_result"
    }
   ],
   "source": [
    "emp"
   ]
  },
  {
   "cell_type": "code",
   "execution_count": null,
   "id": "ecd72ebf-caa3-4703-af9d-9a2ddda2f575",
   "metadata": {},
   "outputs": [],
   "source": []
  },
  {
   "cell_type": "markdown",
   "id": "90caff39-d51f-4198-aa70-dcc5f216458a",
   "metadata": {},
   "source": [
    "### clear()\n",
    "\n",
    "- It removes all the elements from the dictionary and makes the dictioanry empty"
   ]
  },
  {
   "cell_type": "code",
   "execution_count": 68,
   "id": "78881b10-d980-420d-89b9-78050c10810e",
   "metadata": {},
   "outputs": [
    {
     "data": {
      "text/plain": [
       "{'Rajesh': 'chennai',\n",
       " 'Karan': 'bengaluru',\n",
       " 'Aman': 'mumbai',\n",
       " 'Priya': 'Chandigarh',\n",
       " 'Abha': 'mohali',\n",
       " 'Mayank': None,\n",
       " 'Chandni': 'amritsar'}"
      ]
     },
     "execution_count": 68,
     "metadata": {},
     "output_type": "execute_result"
    }
   ],
   "source": [
    "emp"
   ]
  },
  {
   "cell_type": "code",
   "execution_count": 69,
   "id": "5c7878d4-3473-4256-a720-f486eca3def6",
   "metadata": {},
   "outputs": [],
   "source": [
    "emp.clear()"
   ]
  },
  {
   "cell_type": "code",
   "execution_count": 70,
   "id": "442f2014-8873-4e73-961e-57f729e327a0",
   "metadata": {},
   "outputs": [
    {
     "data": {
      "text/plain": [
       "{}"
      ]
     },
     "execution_count": 70,
     "metadata": {},
     "output_type": "execute_result"
    }
   ],
   "source": [
    "emp"
   ]
  },
  {
   "cell_type": "markdown",
   "id": "09f82edd-7c97-4f35-86cd-9f055996f426",
   "metadata": {},
   "source": [
    "### copy()\n",
    "\n",
    "- It copies all the element of the dictionary and creates a new dictionary "
   ]
  },
  {
   "cell_type": "code",
   "execution_count": 71,
   "id": "f8be1a10-e7ac-41f6-a16f-a592c43f5db9",
   "metadata": {},
   "outputs": [
    {
     "data": {
      "text/plain": [
       "{1: 1, 2: 4, 3: 9, 4: 16, 5: 25, 6: 36, 7: 49, 8: 64, 9: 81, 10: 100}"
      ]
     },
     "execution_count": 71,
     "metadata": {},
     "output_type": "execute_result"
    }
   ],
   "source": [
    "d = {i:i**2 for i in range(1,11)}\n",
    "d"
   ]
  },
  {
   "cell_type": "code",
   "execution_count": 72,
   "id": "e62ecca1-a129-4d43-a23f-d8021ca163b3",
   "metadata": {},
   "outputs": [
    {
     "data": {
      "text/plain": [
       "{1: 1, 2: 4, 3: 9, 4: 16, 5: 25, 6: 36, 7: 49, 8: 64, 9: 81, 10: 100}"
      ]
     },
     "execution_count": 72,
     "metadata": {},
     "output_type": "execute_result"
    }
   ],
   "source": [
    "d1 = d.copy()\n",
    "d1"
   ]
  },
  {
   "cell_type": "code",
   "execution_count": 73,
   "id": "456551a8-f9d0-40a1-9fc9-00ed323ad0a5",
   "metadata": {},
   "outputs": [
    {
     "name": "stdout",
     "output_type": "stream",
     "text": [
      "2180744523264 2180745566656\n"
     ]
    }
   ],
   "source": [
    "print(id(d), id(d1))"
   ]
  },
  {
   "cell_type": "markdown",
   "id": "379f3cbf-14d0-4877-813f-16d7d7c58a27",
   "metadata": {},
   "source": [
    "### Functions\n",
    "\n",
    "- A function is a block of code that gets executed as and when it is called\n",
    "- A function is used to reuse a code \n",
    "- By using function, we write the code once and we use it n number of times in the same program\n",
    "- A function helps us to reduce the lines of the code in a program\n",
    "\n",
    "\n",
    "__Syntax:__\n",
    "                \n",
    "                # Function declaration  \n",
    "            \n",
    "                          def function_name(): \n",
    "                              code \n",
    "                              code \n",
    "                              return some value \n",
    "                              \n",
    "                # Function calling\n",
    "                            \n",
    "                            function_name()"
   ]
  },
  {
   "cell_type": "code",
   "execution_count": 75,
   "id": "69dd850c-57ab-4538-b5f1-fbd0588a2dfd",
   "metadata": {},
   "outputs": [
    {
     "name": "stdout",
     "output_type": "stream",
     "text": [
      "30\n"
     ]
    }
   ],
   "source": [
    "a = 10\n",
    "b = 20\n",
    "c = a+b\n",
    "print(c)"
   ]
  },
  {
   "cell_type": "code",
   "execution_count": 76,
   "id": "076ced02-41fa-4a2b-ac20-69d2081f6f72",
   "metadata": {},
   "outputs": [],
   "source": [
    "# define a function which gives me the addition of two numbers\n",
    "\n",
    "def add(x,y):\n",
    "    c = x+y\n",
    "    return c"
   ]
  },
  {
   "cell_type": "code",
   "execution_count": 77,
   "id": "f461a289-91d1-420a-9d73-c9f0cfc18f60",
   "metadata": {},
   "outputs": [
    {
     "data": {
      "text/plain": [
       "15"
      ]
     },
     "execution_count": 77,
     "metadata": {},
     "output_type": "execute_result"
    }
   ],
   "source": [
    "add(7,8) # x = 7, y = 8"
   ]
  },
  {
   "cell_type": "code",
   "execution_count": 78,
   "id": "6960c6b1-8c35-415c-9237-65f4d2f953fc",
   "metadata": {},
   "outputs": [
    {
     "data": {
      "text/plain": [
       "19"
      ]
     },
     "execution_count": 78,
     "metadata": {},
     "output_type": "execute_result"
    }
   ],
   "source": [
    "add(9,10) # x = 9, y = 10"
   ]
  },
  {
   "cell_type": "code",
   "execution_count": 79,
   "id": "bf7385c4-6d99-4331-b0d0-6b850091db3d",
   "metadata": {},
   "outputs": [
    {
     "data": {
      "text/plain": [
       "-4"
      ]
     },
     "execution_count": 79,
     "metadata": {},
     "output_type": "execute_result"
    }
   ],
   "source": [
    "add(-1,-3) # x = -1, y = -9"
   ]
  },
  {
   "cell_type": "code",
   "execution_count": null,
   "id": "53a1b9c2-e3ac-4977-b7bc-1c493774b791",
   "metadata": {},
   "outputs": [],
   "source": []
  },
  {
   "cell_type": "markdown",
   "id": "09b83076-f903-4310-b66b-bec69a5b8187",
   "metadata": {},
   "source": [
    "### Type of Functions\n",
    "\n",
    "- Built-in function or In-built functions\n",
    "- User-defined Functions (functions created by us )\n",
    "\n",
    "\n",
    "#### Built-in Functions or In-built Functions\n",
    "    \n",
    "- Those functions that are already defined in Python are Known as in-built functions or predefined functions\n",
    "- As a user, we have not created them we will just use them\n",
    "- Examples: print(), len(), help(), id(), ord(), chr(), type() etc\n",
    "  \n",
    "#### User-defined Functions \n",
    "\n",
    "- The functions that are defined or created by the user are known as user-defined functions \n",
    "- In user-defined functions, the programmer has to write their logic on how the function should work\n",
    "- We create functions to solve a particular problem\n",
    "- A user-defined function is defined by using a def keyword"
   ]
  },
  {
   "cell_type": "markdown",
   "id": "4626c20b-babb-49b4-9950-472e39483d54",
   "metadata": {},
   "source": [
    "### Components of a User-defined functions \n",
    "\n",
    "- Function definition or function declaration\n",
    "- Function call \n",
    "\n",
    "#### Function Declaration or Definition \n",
    "\n",
    "    - This is the place where we define a function with a name, writes a logic (code) on what will be the functionality of the function we have craeted \n",
    "    \n",
    "    Syntax:\n",
    "        \n",
    "        def function_name():\n",
    "            \n",
    "            # function body\n",
    "            code\n",
    "            code\n",
    "            code\n",
    "            code\n",
    "            code"
   ]
  },
  {
   "cell_type": "code",
   "execution_count": 80,
   "id": "df85222a-535d-4256-8f54-5c07d0f049ba",
   "metadata": {},
   "outputs": [],
   "source": [
    "# create a function that add two numbers in it \n",
    "\n",
    "def add():# function declaration \n",
    "\n",
    "    # Function body\n",
    "    a = eval(input('Enter a number: '))\n",
    "    b = eval(input('Enter a number: '))\n",
    "\n",
    "    c = a+b\n",
    "\n",
    "    return c"
   ]
  },
  {
   "cell_type": "markdown",
   "id": "4d8c837a-4626-4d2b-b0a8-511a59499d9a",
   "metadata": {},
   "source": [
    "#### Function Call\n",
    "\n",
    "- A function call is a kind of a trigger\n",
    "- As and when called the defined function will be executed and we will get the desired result there only\n",
    "\n",
    "__Syntax:__\n",
    "        \n",
    "        function_name()"
   ]
  },
  {
   "cell_type": "code",
   "execution_count": 81,
   "id": "363671c4-8b53-46e5-8001-8f5890756f2c",
   "metadata": {},
   "outputs": [
    {
     "name": "stdin",
     "output_type": "stream",
     "text": [
      "Enter a number:  1\n",
      "Enter a number:  2\n"
     ]
    },
    {
     "data": {
      "text/plain": [
       "3"
      ]
     },
     "execution_count": 81,
     "metadata": {},
     "output_type": "execute_result"
    }
   ],
   "source": [
    "add()"
   ]
  },
  {
   "cell_type": "markdown",
   "id": "6608bc17-9ad3-4bf1-a181-3acd56588fc4",
   "metadata": {},
   "source": [
    "### Types of User-Defined function \n",
    "\n",
    "- Parameterised functions\n",
    "- Non-Parameterised functions\n",
    "\n",
    "#### Parameterised functions\n",
    "    \n",
    "- When we pass parameters inside a function declaration then it is called as parameterized function\n",
    " \n",
    "#### Non-Parameterised functions\n",
    "    \n",
    "- When we are not passing any parameters inside a function they are called non-parameterised functions \n",
    "    \n",
    "#### Parameter \n",
    "\n",
    "- When we pass variables inside a function declaration then those variables are called as parameters\n",
    "  \n",
    "#### Arguments \n",
    "    \n",
    "- When we pass variables inside the function call then those variables are called arguments"
   ]
  },
  {
   "cell_type": "code",
   "execution_count": 83,
   "id": "bf01be83-2394-4f09-ba38-cf9bf746d617",
   "metadata": {},
   "outputs": [
    {
     "data": {
      "text/plain": [
       "12"
      ]
     },
     "execution_count": 83,
     "metadata": {},
     "output_type": "execute_result"
    }
   ],
   "source": [
    "# Parameterized Function \n",
    "\n",
    "def add(x,y): # Here x and y are parameters\n",
    "    c = x+y\n",
    "    return c\n",
    "\n",
    "a = 5\n",
    "b = 7\n",
    "\n",
    "add(a,b) # Here a and b are arguments"
   ]
  },
  {
   "cell_type": "code",
   "execution_count": 84,
   "id": "3de86588-e05c-4d79-924e-c9177ec4f8ee",
   "metadata": {},
   "outputs": [],
   "source": [
    "# Non-paramterized function \n",
    "\n",
    "def add():# function declaration \n",
    "\n",
    "    # Function body\n",
    "    a = eval(input('Enter a number: '))\n",
    "    b = eval(input('Enter a number: '))\n",
    "\n",
    "    c = a+b\n",
    "\n",
    "    return c \n"
   ]
  },
  {
   "cell_type": "code",
   "execution_count": 85,
   "id": "0fa77cc5-e43c-4653-8ba4-56c0aaaf5cd4",
   "metadata": {},
   "outputs": [
    {
     "name": "stdin",
     "output_type": "stream",
     "text": [
      "Enter a number:  1\n",
      "Enter a number:  2\n"
     ]
    },
    {
     "data": {
      "text/plain": [
       "3"
      ]
     },
     "execution_count": 85,
     "metadata": {},
     "output_type": "execute_result"
    }
   ],
   "source": [
    "add()"
   ]
  },
  {
   "cell_type": "markdown",
   "id": "5ade5b0b-8c73-49b2-8dc9-1f4541acbb80",
   "metadata": {},
   "source": [
    "### Global and Local variable \n",
    "\n",
    "#### Global Variables \n",
    "    \n",
    "- The variables that are defined outside the function are known as global variables \n",
    "- The Global variable has a scope both outside as well as inside the function \n",
    "    \n",
    "#### Local Variable \n",
    "\n",
    "- The variables that are defined inside a function are known as local variables \n",
    "- The local variables have the scope only inside the function \n",
    "- We cannot use the local variable outside the function"
   ]
  },
  {
   "cell_type": "code",
   "execution_count": 87,
   "id": "6daa3c95-706f-4bb3-ae03-dd7e057f4e1c",
   "metadata": {},
   "outputs": [
    {
     "name": "stdout",
     "output_type": "stream",
     "text": [
      "10\n",
      "10\n"
     ]
    }
   ],
   "source": [
    "a = 10 # Global variable \n",
    "\n",
    "def test():\n",
    "    print(a)\n",
    "\n",
    "test()\n",
    "print(a)"
   ]
  },
  {
   "cell_type": "code",
   "execution_count": 94,
   "id": "81c87230-3f9c-4593-b7c8-4b871dba4183",
   "metadata": {
    "scrolled": true
   },
   "outputs": [
    {
     "name": "stdout",
     "output_type": "stream",
     "text": [
      "10\n",
      "0\n"
     ]
    },
    {
     "ename": "NameError",
     "evalue": "name 'k' is not defined",
     "output_type": "error",
     "traceback": [
      "\u001b[1;31m---------------------------------------------------------------------------\u001b[0m",
      "\u001b[1;31mNameError\u001b[0m                                 Traceback (most recent call last)",
      "Cell \u001b[1;32mIn[94], line 9\u001b[0m\n\u001b[0;32m      6\u001b[0m     \u001b[38;5;28mprint\u001b[39m(k)\n\u001b[0;32m      8\u001b[0m test_1()\n\u001b[1;32m----> 9\u001b[0m \u001b[38;5;28mprint\u001b[39m(k)\n",
      "\u001b[1;31mNameError\u001b[0m: name 'k' is not defined"
     ]
    }
   ],
   "source": [
    "a = 10\n",
    "\n",
    "def test_1():\n",
    "    print(a)\n",
    "    k= 0 # local variable \n",
    "    print(k)\n",
    "\n",
    "test_1()\n",
    "print(k)"
   ]
  },
  {
   "cell_type": "code",
   "execution_count": 95,
   "id": "c5ba8896-df39-440b-aff3-48d23c90bcbd",
   "metadata": {},
   "outputs": [
    {
     "name": "stdout",
     "output_type": "stream",
     "text": [
      "10\n",
      "0\n",
      "0\n"
     ]
    }
   ],
   "source": [
    "#  Global keyword is used to convert a local variable to a global variable \n",
    "a = 10\n",
    "\n",
    "def test_1():\n",
    "    print(a)\n",
    "    global k\n",
    "    k= 0 # local variable \n",
    "    print(k)\n",
    "\n",
    "test_1()\n",
    "print(k)\n"
   ]
  },
  {
   "cell_type": "markdown",
   "id": "249886d0-4d79-4222-aa0e-a15e4c325e7d",
   "metadata": {},
   "source": [
    "### Return vs Print\n",
    "\n",
    "#### Print \n",
    "     \n",
    "- when we use print statement in a program, we are essentially asking the interpretor to display something, typically for the benefit of the user or for debugging purposes.\n",
    "- It does not affects the flow of the program or provide any data that can be manipulated further\n",
    "- if we are going to store this print statement in a variable and check the type of it, it will return a __None__ datattype\n",
    "\n",
    "#### Return \n",
    "\n",
    "- It is used within functions to send a value or data back to the caller\n",
    "- So that it can be manipulated further \n",
    "- if we are going to store this print statement in a variable and check the type of it, it will return a value\n",
    "- It terminates the function declaration   "
   ]
  },
  {
   "cell_type": "code",
   "execution_count": 97,
   "id": "91c5e665-747c-48d8-80da-1cefdb0c892f",
   "metadata": {},
   "outputs": [],
   "source": [
    "def add(a,b):\n",
    "    print(a+b)"
   ]
  },
  {
   "cell_type": "code",
   "execution_count": 99,
   "id": "cce00a89-4782-4705-8759-81f692710ee0",
   "metadata": {},
   "outputs": [
    {
     "name": "stdout",
     "output_type": "stream",
     "text": [
      "15\n",
      "None\n"
     ]
    }
   ],
   "source": [
    "x = add(7,8)\n",
    "print(x)"
   ]
  },
  {
   "cell_type": "code",
   "execution_count": 113,
   "id": "65dcdaef-8089-4680-95f6-194302658d07",
   "metadata": {},
   "outputs": [],
   "source": [
    "def add(a,b):\n",
    "    c= a+b\n",
    "    return c\n",
    "    \n",
    "    "
   ]
  },
  {
   "cell_type": "code",
   "execution_count": 110,
   "id": "a252154d-84c4-43d6-93f0-1fa657fa3d3d",
   "metadata": {},
   "outputs": [
    {
     "name": "stdout",
     "output_type": "stream",
     "text": [
      "15\n"
     ]
    }
   ],
   "source": [
    "y = add(7,8)"
   ]
  },
  {
   "cell_type": "code",
   "execution_count": 111,
   "id": "13309bf6-18df-48e9-b465-9a890d8f2cd3",
   "metadata": {},
   "outputs": [
    {
     "data": {
      "text/plain": [
       "15"
      ]
     },
     "execution_count": 111,
     "metadata": {},
     "output_type": "execute_result"
    }
   ],
   "source": [
    "y"
   ]
  },
  {
   "cell_type": "code",
   "execution_count": 103,
   "id": "0371e8f2-7c4d-4e03-8025-c7f6a6cd5d61",
   "metadata": {
    "scrolled": true
   },
   "outputs": [
    {
     "ename": "TypeError",
     "evalue": "unsupported operand type(s) for +: 'NoneType' and 'int'",
     "output_type": "error",
     "traceback": [
      "\u001b[1;31m---------------------------------------------------------------------------\u001b[0m",
      "\u001b[1;31mTypeError\u001b[0m                                 Traceback (most recent call last)",
      "Cell \u001b[1;32mIn[103], line 1\u001b[0m\n\u001b[1;32m----> 1\u001b[0m x\u001b[38;5;241m+\u001b[39my\n",
      "\u001b[1;31mTypeError\u001b[0m: unsupported operand type(s) for +: 'NoneType' and 'int'"
     ]
    }
   ],
   "source": [
    "x+y"
   ]
  },
  {
   "cell_type": "code",
   "execution_count": 108,
   "id": "a5bfe850-5db9-4a87-95d6-a81e8544ff70",
   "metadata": {},
   "outputs": [
    {
     "data": {
      "text/plain": [
       "15"
      ]
     },
     "execution_count": 108,
     "metadata": {},
     "output_type": "execute_result"
    }
   ],
   "source": [
    "y"
   ]
  },
  {
   "cell_type": "code",
   "execution_count": null,
   "id": "5c0deb45-218d-44f9-ba04-6c24c60720cd",
   "metadata": {},
   "outputs": [],
   "source": [
    "x = 7.8\n",
    "print(x)"
   ]
  },
  {
   "cell_type": "markdown",
   "id": "5e46dcf7-d247-4a65-8a04-a806e97ea600",
   "metadata": {},
   "source": [
    "- A function may or may not return a value \n",
    "- return statement is used to return a value from the function\n",
    "- return statement returns the value back to the function call \n",
    "- we assign the function to a variable, so that we can handle the return value for further processing\n",
    "- If we want to use the result, we have to assign the function call to a variable \n",
    "- return statement will terminate the function declaration\n",
    "\n",
    "__Note:__ print() statement does not return anything, it returns a None Datatype"
   ]
  },
  {
   "cell_type": "code",
   "execution_count": 114,
   "id": "82310668-5077-4d7b-b403-0bbab65401a3",
   "metadata": {},
   "outputs": [
    {
     "name": "stdout",
     "output_type": "stream",
     "text": [
      "201\n"
     ]
    }
   ],
   "source": [
    "a = add(100,101)\n",
    "print(a)"
   ]
  },
  {
   "cell_type": "code",
   "execution_count": 116,
   "id": "805f3906-6d32-4807-bbf1-d8d1e9519ca2",
   "metadata": {},
   "outputs": [
    {
     "name": "stdout",
     "output_type": "stream",
     "text": [
      "202\n"
     ]
    }
   ],
   "source": [
    "a  = a+1\n",
    "print(a)"
   ]
  },
  {
   "cell_type": "markdown",
   "id": "06cf81fb-9a46-46bc-9fab-b4925327cabb",
   "metadata": {},
   "source": [
    "### Types of Argument\n",
    "\n",
    "1. Required positional argument\n",
    "2. Default arguments\n",
    "3. Keyworded arguments \n",
    "4. Variable length arguments (*args)\n",
    "5. Keyworded variable length arguments (*kwargs)"
   ]
  },
  {
   "cell_type": "markdown",
   "id": "48a83ec6-93bb-448d-b534-6a80f7cb426e",
   "metadata": {},
   "source": [
    "### 1. Required Positional Argument \n",
    "\n",
    "- The number of variable inside the function declaration and the function call should be the same \n",
    "- The value passed from the arguments to parameters should be in a sequence as they are positioned \n",
    "- The variable in function call and in function declaration may be same or different, it doesn't matter"
   ]
  },
  {
   "cell_type": "code",
   "execution_count": 117,
   "id": "7ab78042-2733-45d1-8072-34c64f9ae156",
   "metadata": {},
   "outputs": [],
   "source": [
    "def course(a,b):\n",
    "    print(a)\n",
    "    print(b)"
   ]
  },
  {
   "cell_type": "code",
   "execution_count": 118,
   "id": "9085039e-8c28-469b-bd1a-5e09e07cc80b",
   "metadata": {},
   "outputs": [
    {
     "name": "stdout",
     "output_type": "stream",
     "text": [
      "6\n",
      "7\n"
     ]
    }
   ],
   "source": [
    "course(6,7)"
   ]
  },
  {
   "cell_type": "code",
   "execution_count": 119,
   "id": "dd644781-3623-4eb0-8bfd-c0ad2b2d5263",
   "metadata": {},
   "outputs": [
    {
     "ename": "TypeError",
     "evalue": "course() takes 2 positional arguments but 3 were given",
     "output_type": "error",
     "traceback": [
      "\u001b[1;31m---------------------------------------------------------------------------\u001b[0m",
      "\u001b[1;31mTypeError\u001b[0m                                 Traceback (most recent call last)",
      "Cell \u001b[1;32mIn[119], line 1\u001b[0m\n\u001b[1;32m----> 1\u001b[0m course(\u001b[38;5;241m6\u001b[39m,\u001b[38;5;241m7\u001b[39m,\u001b[38;5;241m8\u001b[39m)\n",
      "\u001b[1;31mTypeError\u001b[0m: course() takes 2 positional arguments but 3 were given"
     ]
    }
   ],
   "source": [
    "course(6,7,8)"
   ]
  },
  {
   "cell_type": "code",
   "execution_count": 120,
   "id": "09b52575-a6ee-4819-8b6f-76dcad9563d7",
   "metadata": {},
   "outputs": [
    {
     "name": "stdout",
     "output_type": "stream",
     "text": [
      "7\n",
      "6\n"
     ]
    }
   ],
   "source": [
    "course(7,6)"
   ]
  },
  {
   "cell_type": "code",
   "execution_count": 121,
   "id": "b4327536-e580-44b0-a331-77a9bd8e869e",
   "metadata": {},
   "outputs": [
    {
     "name": "stdout",
     "output_type": "stream",
     "text": [
      "100\n",
      "20\n"
     ]
    }
   ],
   "source": [
    "x = 100\n",
    "y = 20\n",
    "\n",
    "course(x,y) # a = x ---> a = 100, y = b ---> y = 20"
   ]
  },
  {
   "cell_type": "code",
   "execution_count": null,
   "id": "eb63664a-8fbf-4991-90fe-44b81c4eef08",
   "metadata": {},
   "outputs": [],
   "source": []
  },
  {
   "cell_type": "markdown",
   "id": "8a3991f6-8407-408e-bb8d-8a6585aade0d",
   "metadata": {},
   "source": [
    "### 2. Default argument\n",
    "\n",
    "- When we assign some value to a variable in a function declaration itself the it becomes a default argument\n",
    "- If we dont pass any value for the default argument, then it will take the default value that we have already declared while declaring the function \n",
    "- if we pass some value  to the default argument, then it will take the passed value in it \n",
    "- Default argument should always be placed after the positional argument\n",
    "- The variable name in the function and the function call maybe same or different, it doesn't matter "
   ]
  },
  {
   "cell_type": "code",
   "execution_count": 122,
   "id": "5162f42a-8ad8-41fb-a753-0027e89f8241",
   "metadata": {},
   "outputs": [],
   "source": [
    "def add(a,b,c = 5):\n",
    "    return a+b+c"
   ]
  },
  {
   "cell_type": "code",
   "execution_count": 123,
   "id": "77bca6b6-3513-4c24-ab42-290320a59498",
   "metadata": {},
   "outputs": [
    {
     "data": {
      "text/plain": [
       "6"
      ]
     },
     "execution_count": 123,
     "metadata": {},
     "output_type": "execute_result"
    }
   ],
   "source": [
    "add(1,2,3) # a = 1, b = 2 and c = 3"
   ]
  },
  {
   "cell_type": "code",
   "execution_count": 124,
   "id": "48cf797f-9fcc-4159-99f3-cbb642afd95e",
   "metadata": {},
   "outputs": [
    {
     "data": {
      "text/plain": [
       "8"
      ]
     },
     "execution_count": 124,
     "metadata": {},
     "output_type": "execute_result"
    }
   ],
   "source": [
    "add(1,2) # a = 1, b = 2, and c = 5"
   ]
  },
  {
   "cell_type": "code",
   "execution_count": 125,
   "id": "2048d854-57a7-41d6-b245-08a491d1e56c",
   "metadata": {},
   "outputs": [
    {
     "name": "stdout",
     "output_type": "stream",
     "text": [
      "1\n",
      "2\n",
      "3\n",
      "4\n"
     ]
    }
   ],
   "source": [
    "for i in range(1,5):\n",
    "    print(i, end = '\\n')"
   ]
  },
  {
   "cell_type": "code",
   "execution_count": 126,
   "id": "e4ee486f-4f15-4a50-8d74-e30ed7572fde",
   "metadata": {},
   "outputs": [
    {
     "name": "stdout",
     "output_type": "stream",
     "text": [
      "1=2=3=4="
     ]
    }
   ],
   "source": [
    "for i in range(1,5):\n",
    "    print(i, end = '=')"
   ]
  },
  {
   "cell_type": "code",
   "execution_count": 127,
   "id": "b348da40-873d-4a61-a225-724bf6425338",
   "metadata": {},
   "outputs": [
    {
     "name": "stdout",
     "output_type": "stream",
     "text": [
      "1,2,3,4,"
     ]
    }
   ],
   "source": [
    "for i in range(1,5):\n",
    "    print(i, end = ',')"
   ]
  },
  {
   "cell_type": "code",
   "execution_count": 128,
   "id": "3792fef2-c16e-4006-89d4-0b8630acfff3",
   "metadata": {},
   "outputs": [
    {
     "ename": "SyntaxError",
     "evalue": "non-default argument follows default argument (1281918385.py, line 1)",
     "output_type": "error",
     "traceback": [
      "\u001b[1;36m  Cell \u001b[1;32mIn[128], line 1\u001b[1;36m\u001b[0m\n\u001b[1;33m    def add(a = 10, b, c):\u001b[0m\n\u001b[1;37m                    ^\u001b[0m\n\u001b[1;31mSyntaxError\u001b[0m\u001b[1;31m:\u001b[0m non-default argument follows default argument\n"
     ]
    }
   ],
   "source": [
    "def add(a = 10, b, c):\n",
    "    return a+b+c\n"
   ]
  },
  {
   "cell_type": "code",
   "execution_count": 129,
   "id": "6b2813a7-b8bc-444e-9bd2-2bdf45d5ad16",
   "metadata": {},
   "outputs": [
    {
     "data": {
      "text/plain": [
       "35"
      ]
     },
     "execution_count": 129,
     "metadata": {},
     "output_type": "execute_result"
    }
   ],
   "source": [
    "x = 10\n",
    "y = 20\n",
    "z = 1\n",
    "add(x,y)"
   ]
  },
  {
   "cell_type": "code",
   "execution_count": 130,
   "id": "0413b0c2-2769-4d14-ac3f-79e2073dddb1",
   "metadata": {},
   "outputs": [
    {
     "data": {
      "text/plain": [
       "31"
      ]
     },
     "execution_count": 130,
     "metadata": {},
     "output_type": "execute_result"
    }
   ],
   "source": [
    "add(x,y,z)"
   ]
  },
  {
   "cell_type": "markdown",
   "id": "e9a90e2e-e328-463b-9927-4aa917a3e918",
   "metadata": {},
   "source": [
    "### 3. Keyworded Argument\n",
    "\n",
    "- When we assign some value to a variable in the function call, then it is known as keyworded argument\n",
    "- The variable name for the keyworded argument should be the same in both the function declaration as well as in the function call \n",
    "- for keyworded argument the position or the order does not matter\n",
    "- Keyworded argument should be placed after the positional argument"
   ]
  },
  {
   "cell_type": "code",
   "execution_count": 131,
   "id": "0883f98e-13e7-4a16-9852-df909002e5d8",
   "metadata": {},
   "outputs": [],
   "source": [
    "def course(a,b):\n",
    "    print(a)\n",
    "    print(b)"
   ]
  },
  {
   "cell_type": "code",
   "execution_count": 132,
   "id": "b2366b1d-c70d-4506-9f3f-7bc894b34292",
   "metadata": {},
   "outputs": [
    {
     "name": "stdout",
     "output_type": "stream",
     "text": [
      "MCA\n",
      "Mtech\n"
     ]
    }
   ],
   "source": [
    "x = 'MCA'\n",
    "course(x, b = 'Mtech')"
   ]
  },
  {
   "cell_type": "code",
   "execution_count": 133,
   "id": "29292c4b-8c30-4063-a1ec-ed7593193fd1",
   "metadata": {},
   "outputs": [
    {
     "ename": "TypeError",
     "evalue": "course() got an unexpected keyword argument 'y'",
     "output_type": "error",
     "traceback": [
      "\u001b[1;31m---------------------------------------------------------------------------\u001b[0m",
      "\u001b[1;31mTypeError\u001b[0m                                 Traceback (most recent call last)",
      "Cell \u001b[1;32mIn[133], line 2\u001b[0m\n\u001b[0;32m      1\u001b[0m x \u001b[38;5;241m=\u001b[39m \u001b[38;5;124m'\u001b[39m\u001b[38;5;124mMCA\u001b[39m\u001b[38;5;124m'\u001b[39m\n\u001b[1;32m----> 2\u001b[0m course(x, y \u001b[38;5;241m=\u001b[39m \u001b[38;5;124m'\u001b[39m\u001b[38;5;124mMtech\u001b[39m\u001b[38;5;124m'\u001b[39m)\n",
      "\u001b[1;31mTypeError\u001b[0m: course() got an unexpected keyword argument 'y'"
     ]
    }
   ],
   "source": [
    "x = 'MCA'\n",
    "course(x, y = 'Mtech')"
   ]
  },
  {
   "cell_type": "code",
   "execution_count": 135,
   "id": "cb032511-8097-4c43-93f2-e5bd1dd6b9eb",
   "metadata": {},
   "outputs": [
    {
     "name": "stdout",
     "output_type": "stream",
     "text": [
      "Mtech\n",
      "MCA\n"
     ]
    }
   ],
   "source": [
    "course(b = 'MCA', a = 'Mtech')"
   ]
  },
  {
   "cell_type": "code",
   "execution_count": null,
   "id": "66ce30a2-4363-48c3-80f4-3c17acf44e20",
   "metadata": {},
   "outputs": [],
   "source": []
  },
  {
   "cell_type": "markdown",
   "id": "d749c444-682e-4217-a41e-4135f186b734",
   "metadata": {},
   "source": [
    "### 4. Variable Length Argument \n",
    "\n",
    "- If we don't know the number of arguments to be passed, then we will use a variable length argument \n",
    "- It will going to store all the values inside a tuple \n",
    "\n",
    "__Syntax:__\n",
    "    \n",
    "    \n",
    "        def function_name(*variable_name):\n",
    "            code\n",
    "            code \n",
    "            code"
   ]
  },
  {
   "cell_type": "code",
   "execution_count": 137,
   "id": "cd29d857-ec3c-4033-8b0a-8e7cce6147f8",
   "metadata": {},
   "outputs": [],
   "source": [
    "# create a function that adds n number taken as the arguments and return the sum of all them\n",
    "\n",
    "def add(*a):\n",
    "    s = 0\n",
    "\n",
    "    for i in a: #(1,2,3,4,5,6,7)\n",
    "        s = s+i\n",
    "    return s"
   ]
  },
  {
   "cell_type": "code",
   "execution_count": 138,
   "id": "643b2a9f-0139-4138-9aa3-415f30fe180c",
   "metadata": {},
   "outputs": [
    {
     "data": {
      "text/plain": [
       "28"
      ]
     },
     "execution_count": 138,
     "metadata": {},
     "output_type": "execute_result"
    }
   ],
   "source": [
    "add(1,2,3,4,5,6,7)"
   ]
  },
  {
   "cell_type": "code",
   "execution_count": null,
   "id": "ff282aab-be42-4a51-b9bd-c11fd86b74d2",
   "metadata": {},
   "outputs": [],
   "source": [
    "1st iteration ---> s= 0, i = 1,  s = 0+1 --->s = 1\n",
    "2nd iteration ---> s = 1, i = 2, s = 1+2 ---> s = 3\n",
    "3rd iteration ---> s= 3, i = 3, s = 3+3 ---> s = 6\n",
    "4th iteration ---> s = 6, i = 4, s = 6+4 ---> s = 10\n",
    "5th iteration ---s = 10, i = 5, s = 10+5 ---> s = 15\n",
    "6th iteration ---> s = 15, i = 6, s = 15+6 --->s = 21\n",
    "7th iteration ---> s = 21 , i = 7, s = 21+7 ---> s = 28"
   ]
  },
  {
   "cell_type": "code",
   "execution_count": 144,
   "id": "94476bac-30be-421b-a299-6b7b3dbfb68b",
   "metadata": {},
   "outputs": [],
   "source": [
    "def multiply(a, *b):\n",
    "    mul = 1*a\n",
    "    for i in b:\n",
    "        mul = mul*i\n",
    "    return mul\n",
    "    "
   ]
  },
  {
   "cell_type": "code",
   "execution_count": 145,
   "id": "7ee4775a-a956-4f0f-80c1-5c3ffb4dec9d",
   "metadata": {},
   "outputs": [
    {
     "data": {
      "text/plain": [
       "403200"
      ]
     },
     "execution_count": 145,
     "metadata": {},
     "output_type": "execute_result"
    }
   ],
   "source": [
    "multiply(10,2,3,4,5,6,7,8)  # a = 10 c = (2,3,4,5,6,7,8)"
   ]
  },
  {
   "cell_type": "code",
   "execution_count": null,
   "id": "6f4ed9cc-1cac-4b9c-b912-6641dd1c04e4",
   "metadata": {},
   "outputs": [],
   "source": [
    "mul = 10\n",
    "1st iteration ---> mul = 10, i = 2, mul = 10*2 ----> 20\n",
    "2nd iteration ----> mul = 20, i = 3, mul = 20*3 ---> 60\n",
    "3rd iteration ---> mul = 60, i = 4, mul = 60*4 ---> 240"
   ]
  },
  {
   "cell_type": "code",
   "execution_count": null,
   "id": "a41cbe5e-8f89-42c8-b9a5-f485dc8117ad",
   "metadata": {},
   "outputs": [],
   "source": []
  },
  {
   "cell_type": "markdown",
   "id": "78c00334-70fa-4a82-a9d3-fed8b8c26542",
   "metadata": {},
   "source": [
    "### 5. Keyworded Variable length argument\n",
    "- When we don't know how many keyworded arguments are there then we will use a keyworded variable length argument\n",
    "- It stores the values as a dictionary\n",
    "- The variable becomes the keys and the values associated with the variable become the values for the keys\n",
    "\n",
    "__Syntax:__\r\n",
    "\r\n",
    "\r\n",
    "            def function_name(**a):\r\n",
    "                code \r\n",
    "                code \r\n",
    "\r\n",
    "                function_nmae(key1 = value1, key2 = value2, key3 = value3..........)"
   ]
  },
  {
   "cell_type": "code",
   "execution_count": 146,
   "id": "9750a69b-0d24-4960-8722-22b6765c5f86",
   "metadata": {},
   "outputs": [],
   "source": [
    "def course(**a):\n",
    "    print(a, type(a))"
   ]
  },
  {
   "cell_type": "code",
   "execution_count": 147,
   "id": "c352acac-26c9-4ee6-a3b2-296511165a24",
   "metadata": {},
   "outputs": [
    {
     "name": "stdout",
     "output_type": "stream",
     "text": [
      "{'a': 10, 'b': 20, 'c': 30} <class 'dict'>\n"
     ]
    }
   ],
   "source": [
    "course(a = 10, b = 20, c= 30)"
   ]
  },
  {
   "cell_type": "code",
   "execution_count": null,
   "id": "6884e9e3-af41-4c17-9e90-e98dc33dc158",
   "metadata": {},
   "outputs": [],
   "source": []
  },
  {
   "cell_type": "code",
   "execution_count": null,
   "id": "58ddcbd9-22d0-407d-b51e-59bb9c37ee2f",
   "metadata": {},
   "outputs": [],
   "source": []
  },
  {
   "cell_type": "code",
   "execution_count": null,
   "id": "c4f4c84e-bc16-4bb1-8d3f-1ca4d47045d6",
   "metadata": {},
   "outputs": [],
   "source": []
  },
  {
   "cell_type": "code",
   "execution_count": null,
   "id": "bd3e072f-3af7-4e50-84e1-1620842391c7",
   "metadata": {},
   "outputs": [],
   "source": []
  },
  {
   "cell_type": "code",
   "execution_count": null,
   "id": "513bab8b-70bd-42cc-8003-381318e15f51",
   "metadata": {},
   "outputs": [],
   "source": []
  },
  {
   "cell_type": "code",
   "execution_count": null,
   "id": "d3f89b31-494d-4f0b-9226-bf2d1a56088a",
   "metadata": {},
   "outputs": [],
   "source": []
  },
  {
   "cell_type": "code",
   "execution_count": null,
   "id": "7ff84568-aa80-4eae-9b70-3ab20d1666ca",
   "metadata": {},
   "outputs": [],
   "source": []
  }
 ],
 "metadata": {
  "kernelspec": {
   "display_name": "Python 3 (ipykernel)",
   "language": "python",
   "name": "python3"
  },
  "language_info": {
   "codemirror_mode": {
    "name": "ipython",
    "version": 3
   },
   "file_extension": ".py",
   "mimetype": "text/x-python",
   "name": "python",
   "nbconvert_exporter": "python",
   "pygments_lexer": "ipython3",
   "version": "3.11.7"
  }
 },
 "nbformat": 4,
 "nbformat_minor": 5
}

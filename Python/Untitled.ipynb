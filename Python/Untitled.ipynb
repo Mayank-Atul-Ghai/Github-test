{
 "cells": [
  {
   "cell_type": "markdown",
   "id": "21e4f4f5-e3db-4156-810a-51fb6bdd6ddb",
   "metadata": {},
   "source": [
    "### String Methods \n",
    "\n",
    "- Methods are functions only but they are defined for a particular class (string, list, tuple, dictionary, sets or frozensets)\n",
    "- Functions are a block of code written to a task repeatedly when and if called "
   ]
  },
  {
   "cell_type": "code",
   "execution_count": 6,
   "id": "4be223b6-9ae7-4d01-b2db-a8129d61e3bc",
   "metadata": {},
   "outputs": [
    {
     "name": "stdout",
     "output_type": "stream",
     "text": [
      "<class 'str'>\n"
     ]
    }
   ],
   "source": [
    "a = 'Python'\n",
    "print(type(a))"
   ]
  },
  {
   "cell_type": "markdown",
   "id": "ddb0e8ac-6e85-4677-97af-caad96f15918",
   "metadata": {},
   "source": [
    "To get the methods associated with the string class : \n",
    "\n",
    "                    varibale_name+press dot(.)+press tab key"
   ]
  },
  {
   "cell_type": "code",
   "execution_count": 8,
   "id": "13260bd4-eb54-489a-a8dc-ba23c91aa59f",
   "metadata": {},
   "outputs": [
    {
     "name": "stdout",
     "output_type": "stream",
     "text": [
      "['__add__', '__class__', '__contains__', '__delattr__', '__dir__', '__doc__', '__eq__', '__format__', '__ge__', '__getattribute__', '__getitem__', '__getnewargs__', '__getstate__', '__gt__', '__hash__', '__init__', '__init_subclass__', '__iter__', '__le__', '__len__', '__lt__', '__mod__', '__mul__', '__ne__', '__new__', '__reduce__', '__reduce_ex__', '__repr__', '__rmod__', '__rmul__', '__setattr__', '__sizeof__', '__str__', '__subclasshook__', 'capitalize', 'casefold', 'center', 'count', 'encode', 'endswith', 'expandtabs', 'find', 'format', 'format_map', 'index', 'isalnum', 'isalpha', 'isascii', 'isdecimal', 'isdigit', 'isidentifier', 'islower', 'isnumeric', 'isprintable', 'isspace', 'istitle', 'isupper', 'join', 'ljust', 'lower', 'lstrip', 'maketrans', 'partition', 'removeprefix', 'removesuffix', 'replace', 'rfind', 'rindex', 'rjust', 'rpartition', 'rsplit', 'rstrip', 'split', 'splitlines', 'startswith', 'strip', 'swapcase', 'title', 'translate', 'upper', 'zfill']\n"
     ]
    }
   ],
   "source": [
    "print(dir(str))"
   ]
  },
  {
   "cell_type": "markdown",
   "id": "0a8c6a02-d8a9-4c84-9014-0d2e81be554c",
   "metadata": {},
   "source": [
    "### capitalize()\n",
    "\n",
    "- It converts the first letter in any sentence into uppercase\n",
    "- It will return a new object, it will not going to make changes in the existing object (because strings are immutable)"
   ]
  },
  {
   "cell_type": "code",
   "execution_count": 9,
   "id": "c0149b7b-bd5d-4084-82ba-77139c2b86ac",
   "metadata": {},
   "outputs": [
    {
     "name": "stdout",
     "output_type": "stream",
     "text": [
      "this is a python class and we are learning python 2138235525520\n"
     ]
    }
   ],
   "source": [
    "a = 'this is a python class and we are learning python'\n",
    "print(a, id(a))"
   ]
  },
  {
   "cell_type": "code",
   "execution_count": 14,
   "id": "b6d39e81-f9ef-42e3-86b4-2f3206c2f96c",
   "metadata": {},
   "outputs": [
    {
     "name": "stdout",
     "output_type": "stream",
     "text": [
      "This is a python class and we are learning python 2138235526416\n"
     ]
    }
   ],
   "source": [
    "b = a.capitalize()\n",
    "print(b, id(b))"
   ]
  },
  {
   "cell_type": "code",
   "execution_count": 15,
   "id": "eca5394a-5971-40e9-bd01-ad9f6e4ed0ca",
   "metadata": {},
   "outputs": [
    {
     "name": "stdout",
     "output_type": "stream",
     "text": [
      "this is a python class and we are learning python\n"
     ]
    }
   ],
   "source": [
    "print(a)"
   ]
  },
  {
   "cell_type": "markdown",
   "id": "fa65a554-7739-4e70-b79f-b9375caca194",
   "metadata": {},
   "source": [
    "### title() \n",
    "\n",
    "- It converts the first letter of each word in any sentence to uppercase\n",
    "- It will return a new object, because the string are immutable "
   ]
  },
  {
   "cell_type": "code",
   "execution_count": 16,
   "id": "cd430010-a7ab-47f1-a155-35725c8a4a21",
   "metadata": {},
   "outputs": [
    {
     "data": {
      "text/plain": [
       "'this is a python class and we are learning python'"
      ]
     },
     "execution_count": 16,
     "metadata": {},
     "output_type": "execute_result"
    }
   ],
   "source": [
    "a"
   ]
  },
  {
   "cell_type": "code",
   "execution_count": 18,
   "id": "205c130b-0c1c-4941-8649-1f5554fa786e",
   "metadata": {},
   "outputs": [
    {
     "name": "stdout",
     "output_type": "stream",
     "text": [
      "This Is A Python Class And We Are Learning Python 2138235527760\n"
     ]
    }
   ],
   "source": [
    "b = a.title()\n",
    "print(b, id(b))"
   ]
  },
  {
   "cell_type": "markdown",
   "id": "b820ddde-7f04-4548-b710-1c38996e6635",
   "metadata": {},
   "source": [
    "### upper()\n",
    "\n",
    "- It will convert all the characters in the string to uppercase\n",
    "- It will return a new object "
   ]
  },
  {
   "cell_type": "code",
   "execution_count": 19,
   "id": "6c1dd190-1413-4fba-9c06-5f8d35db95d4",
   "metadata": {},
   "outputs": [
    {
     "data": {
      "text/plain": [
       "'this is a python class and we are learning python'"
      ]
     },
     "execution_count": 19,
     "metadata": {},
     "output_type": "execute_result"
    }
   ],
   "source": [
    "a"
   ]
  },
  {
   "cell_type": "code",
   "execution_count": 20,
   "id": "51a5452d-be09-4441-8afd-91a9d215ad9a",
   "metadata": {},
   "outputs": [
    {
     "name": "stdout",
     "output_type": "stream",
     "text": [
      "THIS IS A PYTHON CLASS AND WE ARE LEARNING PYTHON 2138235526304\n"
     ]
    }
   ],
   "source": [
    "b = a.upper()\n",
    "print(b, id(b))"
   ]
  },
  {
   "cell_type": "markdown",
   "id": "381e2cad-afc4-461e-85e2-72aa28ea26ba",
   "metadata": {},
   "source": [
    "### lower()\n",
    "\n",
    "- It will convert all the character in the string to lowercase\n",
    "- It will return a new object"
   ]
  },
  {
   "cell_type": "code",
   "execution_count": 21,
   "id": "734f0a26-51f8-41c7-9314-9924ed474c34",
   "metadata": {},
   "outputs": [
    {
     "data": {
      "text/plain": [
       "'THIS IS A PYTHON CLASS AND WE ARE LEARNING PYTHON'"
      ]
     },
     "execution_count": 21,
     "metadata": {},
     "output_type": "execute_result"
    }
   ],
   "source": [
    "b"
   ]
  },
  {
   "cell_type": "code",
   "execution_count": 22,
   "id": "48849956-df29-41ae-afcc-aaa5522f6329",
   "metadata": {},
   "outputs": [
    {
     "name": "stdout",
     "output_type": "stream",
     "text": [
      "this is a python class and we are learning python 2138235528208\n"
     ]
    }
   ],
   "source": [
    "c = b.lower()\n",
    "print(c, id(c))"
   ]
  },
  {
   "cell_type": "code",
   "execution_count": 23,
   "id": "bc93365d-b440-4b33-b60e-7f1936b980ee",
   "metadata": {},
   "outputs": [
    {
     "name": "stdout",
     "output_type": "stream",
     "text": [
      "THIS IS A PYTHON CLASS AND WE ARE LEARNING PYTHON\n"
     ]
    }
   ],
   "source": [
    "print(b)"
   ]
  },
  {
   "cell_type": "code",
   "execution_count": 24,
   "id": "03e95590-2a37-41ee-be57-d434c1e7199c",
   "metadata": {},
   "outputs": [
    {
     "name": "stdout",
     "output_type": "stream",
     "text": [
      "this is a python class and we are learning python 2138235525520\n"
     ]
    }
   ],
   "source": [
    "print(a, id(a))"
   ]
  },
  {
   "cell_type": "markdown",
   "id": "470b6a3d-c823-4a9e-9a22-884531394270",
   "metadata": {},
   "source": [
    "### swapcase()\n",
    "\n",
    "- It converts the uppercase letters to lowercase letters and vice-versa in a string\n",
    "- It will return a new object"
   ]
  },
  {
   "cell_type": "code",
   "execution_count": 25,
   "id": "a453cc72-3bdc-4572-a830-0b3ac1a0d401",
   "metadata": {},
   "outputs": [
    {
     "name": "stdout",
     "output_type": "stream",
     "text": [
      "PyThOn 2138236490288\n",
      "pYtHoN 2138224090288\n"
     ]
    }
   ],
   "source": [
    "a = \"PyThOn\"\n",
    "print(a, id(a))\n",
    "b = a.swapcase()\n",
    "print(b, id(b))"
   ]
  },
  {
   "cell_type": "code",
   "execution_count": 29,
   "id": "2b96bcb8-c704-4a48-869d-0c167790ddd4",
   "metadata": {},
   "outputs": [
    {
     "data": {
      "text/plain": [
       "False"
      ]
     },
     "execution_count": 29,
     "metadata": {},
     "output_type": "execute_result"
    }
   ],
   "source": [
    "'PyThOn' == 'pYtHoN'"
   ]
  },
  {
   "cell_type": "markdown",
   "id": "7625ca8f-6fa8-4765-9430-8a44356b98f6",
   "metadata": {},
   "source": [
    "### casefold()\n",
    "\n",
    "- It converts all the uppercase letter into lowercase letter\n",
    "- It will return a new object "
   ]
  },
  {
   "cell_type": "code",
   "execution_count": 27,
   "id": "d5efe92c-592a-44ef-98c5-3d6888646590",
   "metadata": {},
   "outputs": [
    {
     "name": "stdout",
     "output_type": "stream",
     "text": [
      "python\n"
     ]
    }
   ],
   "source": [
    "a = \"PYTHON\"\n",
    "b = a.casefold()\n",
    "print(b)"
   ]
  },
  {
   "cell_type": "markdown",
   "id": "3cf8dad7-4cc4-494c-95b8-3244cae03dff",
   "metadata": {},
   "source": [
    "### Casefold() vs lower()\n",
    "\n",
    "- lower() can convert all the ASCII characters\n",
    "- casefold() can convert both the ASCII as well as the non-characters as well"
   ]
  },
  {
   "cell_type": "code",
   "execution_count": 30,
   "id": "addeefe7-999f-4324-ad73-76552d1ad735",
   "metadata": {},
   "outputs": [
    {
     "data": {
      "text/plain": [
       "'straße'"
      ]
     },
     "execution_count": 30,
     "metadata": {},
     "output_type": "execute_result"
    }
   ],
   "source": [
    "a = 'Straẞe'\n",
    "b = a.lower()\n",
    "b"
   ]
  },
  {
   "cell_type": "code",
   "execution_count": 31,
   "id": "eb5fdcfe-482f-44ac-bddb-d18f02b08558",
   "metadata": {},
   "outputs": [
    {
     "data": {
      "text/plain": [
       "'strasse'"
      ]
     },
     "execution_count": 31,
     "metadata": {},
     "output_type": "execute_result"
    }
   ],
   "source": [
    "c = a.casefold()\n",
    "c"
   ]
  },
  {
   "cell_type": "markdown",
   "id": "8a82f2ca-7a44-415c-88e4-78f949f89aac",
   "metadata": {},
   "source": [
    "### count()\n",
    "\n",
    "- It counts the occurrence of a particular character or a sub-string in a string\n",
    "\n",
    "__Syntax:__\n",
    "\n",
    "        my_str.count('character or 'sub_string')\n",
    "        my_str.count('character', starting index)\n",
    "        my_str.cout('character', starting index, ending index)"
   ]
  },
  {
   "cell_type": "code",
   "execution_count": 32,
   "id": "184635ae-a95f-4e7a-aef7-56955474fc18",
   "metadata": {},
   "outputs": [],
   "source": [
    "a = 'she sells sea shells on the sea shore'"
   ]
  },
  {
   "cell_type": "code",
   "execution_count": 33,
   "id": "54fa0f3d-14b8-455c-babb-e76059540b69",
   "metadata": {},
   "outputs": [
    {
     "data": {
      "text/plain": [
       "8"
      ]
     },
     "execution_count": 33,
     "metadata": {},
     "output_type": "execute_result"
    }
   ],
   "source": [
    "a.count('s')"
   ]
  },
  {
   "cell_type": "code",
   "execution_count": 34,
   "id": "72bdbb5f-1043-4b7a-8bd2-68876e2862f9",
   "metadata": {},
   "outputs": [
    {
     "data": {
      "text/plain": [
       "2"
      ]
     },
     "execution_count": 34,
     "metadata": {},
     "output_type": "execute_result"
    }
   ],
   "source": [
    "a.count('sea')"
   ]
  },
  {
   "cell_type": "code",
   "execution_count": 35,
   "id": "ef3824ec-063a-4824-a862-712cc4d7baaf",
   "metadata": {},
   "outputs": [
    {
     "data": {
      "text/plain": [
       "7"
      ]
     },
     "execution_count": 35,
     "metadata": {},
     "output_type": "execute_result"
    }
   ],
   "source": [
    "a.count(' ')\n"
   ]
  },
  {
   "cell_type": "code",
   "execution_count": 36,
   "id": "0aa8f7bb-81b8-4a54-bdaa-eedd3b9562b5",
   "metadata": {},
   "outputs": [
    {
     "data": {
      "text/plain": [
       "7"
      ]
     },
     "execution_count": 36,
     "metadata": {},
     "output_type": "execute_result"
    }
   ],
   "source": [
    "a.count('s', 1)"
   ]
  },
  {
   "cell_type": "code",
   "execution_count": 37,
   "id": "f0a511f1-5951-438d-aa9c-c1238db8ece7",
   "metadata": {},
   "outputs": [
    {
     "name": "stdout",
     "output_type": "stream",
     "text": [
      "0 s\n",
      "1 h\n",
      "2 e\n",
      "3  \n",
      "4 s\n",
      "5 e\n",
      "6 l\n",
      "7 l\n",
      "8 s\n",
      "9  \n",
      "10 s\n",
      "11 e\n",
      "12 a\n",
      "13  \n",
      "14 s\n",
      "15 h\n",
      "16 e\n",
      "17 l\n",
      "18 l\n",
      "19 s\n",
      "20  \n",
      "21 o\n",
      "22 n\n",
      "23  \n",
      "24 t\n",
      "25 h\n",
      "26 e\n",
      "27  \n",
      "28 s\n",
      "29 e\n",
      "30 a\n",
      "31  \n",
      "32 s\n",
      "33 h\n",
      "34 o\n",
      "35 r\n",
      "36 e\n"
     ]
    }
   ],
   "source": [
    "for i in range(len(a)):\n",
    "    print(i, a[i])"
   ]
  },
  {
   "cell_type": "code",
   "execution_count": 38,
   "id": "fe4b87d0-07b3-4d95-84db-12642c8ef8a8",
   "metadata": {},
   "outputs": [
    {
     "data": {
      "text/plain": [
       "5"
      ]
     },
     "execution_count": 38,
     "metadata": {},
     "output_type": "execute_result"
    }
   ],
   "source": [
    "a.count('s', 5, 32)"
   ]
  },
  {
   "cell_type": "code",
   "execution_count": 40,
   "id": "05fc7c84-d0ac-453f-94de-cd7d81078e3a",
   "metadata": {},
   "outputs": [
    {
     "data": {
      "text/plain": [
       "5"
      ]
     },
     "execution_count": 40,
     "metadata": {},
     "output_type": "execute_result"
    }
   ],
   "source": [
    "a[5:32].count('s')"
   ]
  },
  {
   "cell_type": "code",
   "execution_count": 43,
   "id": "24fada0d-c063-41ce-97f3-c89702f6f456",
   "metadata": {},
   "outputs": [
    {
     "data": {
      "text/plain": [
       "8"
      ]
     },
     "execution_count": 43,
     "metadata": {},
     "output_type": "execute_result"
    }
   ],
   "source": [
    "a[-1:-38:-1].count('s')"
   ]
  },
  {
   "cell_type": "code",
   "execution_count": 44,
   "id": "f8257203-6640-4e7c-a4ac-1a5513736f35",
   "metadata": {},
   "outputs": [
    {
     "data": {
      "text/plain": [
       "'erohs aes eht no sllehs aes slles ehs'"
      ]
     },
     "execution_count": 44,
     "metadata": {},
     "output_type": "execute_result"
    }
   ],
   "source": [
    "a[-1:-38:-1]"
   ]
  },
  {
   "cell_type": "code",
   "execution_count": 45,
   "id": "99f1487c-648f-49a1-99a9-dd6db3a8ffbb",
   "metadata": {},
   "outputs": [
    {
     "data": {
      "text/plain": [
       "'she sells sea shells on the sea shore'"
      ]
     },
     "execution_count": 45,
     "metadata": {},
     "output_type": "execute_result"
    }
   ],
   "source": [
    "a"
   ]
  },
  {
   "cell_type": "code",
   "execution_count": 46,
   "id": "9300d733-f4cf-45c5-8318-2fec19b20bbb",
   "metadata": {},
   "outputs": [
    {
     "data": {
      "text/plain": [
       "5"
      ]
     },
     "execution_count": 46,
     "metadata": {},
     "output_type": "execute_result"
    }
   ],
   "source": [
    "a[5:31].count('s')"
   ]
  },
  {
   "cell_type": "markdown",
   "id": "1c29c16c-0fb1-4f84-96ec-dc67d1b321a4",
   "metadata": {},
   "source": [
    "### index \n",
    "\n",
    "- It returns the index of the first occurrence of a character or a sub-string in a string\n",
    "- If the character is not found, then it will throw a value error\n",
    "\n",
    "__Syntax:__\n",
    "\n",
    "                my_str.index('character' or 'sub-string')\n",
    "                my_str.index('character', starting index)\n",
    "                my_str.index('character', starting index, ending index)"
   ]
  },
  {
   "cell_type": "code",
   "execution_count": 47,
   "id": "7ed2dbe9-0fd4-4d96-8d38-0da15b0e30b5",
   "metadata": {},
   "outputs": [
    {
     "data": {
      "text/plain": [
       "'she sells sea shells on the sea shore'"
      ]
     },
     "execution_count": 47,
     "metadata": {},
     "output_type": "execute_result"
    }
   ],
   "source": [
    "a"
   ]
  },
  {
   "cell_type": "code",
   "execution_count": 48,
   "id": "a0128482-a053-46e1-905c-44eace9052b0",
   "metadata": {},
   "outputs": [
    {
     "data": {
      "text/plain": [
       "1"
      ]
     },
     "execution_count": 48,
     "metadata": {},
     "output_type": "execute_result"
    }
   ],
   "source": [
    "a.index('h')"
   ]
  },
  {
   "cell_type": "code",
   "execution_count": 49,
   "id": "cd80a53b-68f6-421e-ad03-302481e33221",
   "metadata": {},
   "outputs": [
    {
     "data": {
      "text/plain": [
       "12"
      ]
     },
     "execution_count": 49,
     "metadata": {},
     "output_type": "execute_result"
    }
   ],
   "source": [
    "a.index('a')"
   ]
  },
  {
   "cell_type": "code",
   "execution_count": 50,
   "id": "90c78c55-99d3-4c56-b46b-ed1a218f809d",
   "metadata": {},
   "outputs": [
    {
     "data": {
      "text/plain": [
       "10"
      ]
     },
     "execution_count": 50,
     "metadata": {},
     "output_type": "execute_result"
    }
   ],
   "source": [
    "a.index('sea')"
   ]
  },
  {
   "cell_type": "code",
   "execution_count": 51,
   "id": "62dca782-f3b1-4f50-80cd-804a359ac828",
   "metadata": {},
   "outputs": [
    {
     "ename": "ValueError",
     "evalue": "substring not found",
     "output_type": "error",
     "traceback": [
      "\u001b[1;31m---------------------------------------------------------------------------\u001b[0m",
      "\u001b[1;31mValueError\u001b[0m                                Traceback (most recent call last)",
      "Cell \u001b[1;32mIn[51], line 1\u001b[0m\n\u001b[1;32m----> 1\u001b[0m a\u001b[38;5;241m.\u001b[39mindex(\u001b[38;5;124m'\u001b[39m\u001b[38;5;124mz\u001b[39m\u001b[38;5;124m'\u001b[39m)\n",
      "\u001b[1;31mValueError\u001b[0m: substring not found"
     ]
    }
   ],
   "source": [
    "a.index('z')"
   ]
  },
  {
   "cell_type": "code",
   "execution_count": 53,
   "id": "630432dd-865c-4120-9b4a-cfa84ff72242",
   "metadata": {},
   "outputs": [
    {
     "data": {
      "text/plain": [
       "'she sells sea shells on the sea shore'"
      ]
     },
     "execution_count": 53,
     "metadata": {},
     "output_type": "execute_result"
    }
   ],
   "source": [
    "a"
   ]
  },
  {
   "cell_type": "code",
   "execution_count": 54,
   "id": "b81ba58b-b124-49aa-a886-272c74b83398",
   "metadata": {},
   "outputs": [
    {
     "data": {
      "text/plain": [
       "8"
      ]
     },
     "execution_count": 54,
     "metadata": {},
     "output_type": "execute_result"
    }
   ],
   "source": [
    "a.index('s', 5, 11)"
   ]
  },
  {
   "cell_type": "code",
   "execution_count": 55,
   "id": "650e5d09-d850-4684-9c0a-56ff383a724d",
   "metadata": {},
   "outputs": [
    {
     "data": {
      "text/plain": [
       "28"
      ]
     },
     "execution_count": 55,
     "metadata": {},
     "output_type": "execute_result"
    }
   ],
   "source": [
    "a.index('s', -11, -5)"
   ]
  },
  {
   "cell_type": "code",
   "execution_count": 56,
   "id": "2bf85366-3f10-4b60-89c7-6b45aee25a4b",
   "metadata": {},
   "outputs": [
    {
     "name": "stdout",
     "output_type": "stream",
     "text": [
      "-1 e\n",
      "-2 r\n",
      "-3 o\n",
      "-4 h\n",
      "-5 s\n",
      "-6  \n",
      "-7 a\n",
      "-8 e\n",
      "-9 s\n",
      "-10  \n",
      "-11 e\n",
      "-12 h\n",
      "-13 t\n",
      "-14  \n",
      "-15 n\n",
      "-16 o\n",
      "-17  \n",
      "-18 s\n",
      "-19 l\n",
      "-20 l\n",
      "-21 e\n",
      "-22 h\n",
      "-23 s\n",
      "-24  \n",
      "-25 a\n",
      "-26 e\n",
      "-27 s\n",
      "-28  \n",
      "-29 s\n",
      "-30 l\n",
      "-31 l\n",
      "-32 e\n",
      "-33 s\n",
      "-34  \n",
      "-35 e\n",
      "-36 h\n",
      "-37 s\n"
     ]
    }
   ],
   "source": [
    "for i in range(1, len(a)+1):\n",
    "    print(-i, a[-i])"
   ]
  },
  {
   "cell_type": "markdown",
   "id": "2fc349b9-525c-42b3-b7b0-68628e98df6b",
   "metadata": {},
   "source": [
    "### find\n",
    "\n",
    "- It returns the index of the first occurrence of a character or a sub-string in a string\n",
    "- If the character is not found, then it will give -1\n",
    "\n",
    "__Syntax:__\n",
    "\n",
    "                my_str.find('character' or 'sub-string')\n",
    "                my_str.find('character', starting index)\n",
    "                my_str.find('character', starting index, ending index)"
   ]
  },
  {
   "cell_type": "code",
   "execution_count": 58,
   "id": "a6b569d3-69c5-4f87-9984-df8694a5182b",
   "metadata": {},
   "outputs": [
    {
     "data": {
      "text/plain": [
       "'she sells sea shells on the sea shore'"
      ]
     },
     "execution_count": 58,
     "metadata": {},
     "output_type": "execute_result"
    }
   ],
   "source": [
    "a"
   ]
  },
  {
   "cell_type": "code",
   "execution_count": 59,
   "id": "128029f9-d1f3-4968-96a9-ed808da71579",
   "metadata": {},
   "outputs": [
    {
     "data": {
      "text/plain": [
       "-1"
      ]
     },
     "execution_count": 59,
     "metadata": {},
     "output_type": "execute_result"
    }
   ],
   "source": [
    "a.find('z')"
   ]
  },
  {
   "cell_type": "code",
   "execution_count": 60,
   "id": "0f2a0956-2dc4-4e2a-ae44-62e526a2abfe",
   "metadata": {},
   "outputs": [
    {
     "data": {
      "text/plain": [
       "19"
      ]
     },
     "execution_count": 60,
     "metadata": {},
     "output_type": "execute_result"
    }
   ],
   "source": [
    "a.find('s', 15, 29)"
   ]
  },
  {
   "cell_type": "code",
   "execution_count": 61,
   "id": "42d27869-dec0-4cc9-8fd6-00683b5b4c0d",
   "metadata": {},
   "outputs": [
    {
     "data": {
      "text/plain": [
       "-1"
      ]
     },
     "execution_count": 61,
     "metadata": {},
     "output_type": "execute_result"
    }
   ],
   "source": [
    "a.find('sea', 15, 29)"
   ]
  },
  {
   "cell_type": "code",
   "execution_count": 68,
   "id": "122dd0e3-e27b-49c6-8bf2-f2149656326d",
   "metadata": {},
   "outputs": [
    {
     "data": {
      "text/plain": [
       "28"
      ]
     },
     "execution_count": 68,
     "metadata": {},
     "output_type": "execute_result"
    }
   ],
   "source": [
    "a.find('s', -11, -5)"
   ]
  },
  {
   "cell_type": "markdown",
   "id": "39e204fe-0089-4687-9bb2-0f7dbd3efa89",
   "metadata": {},
   "source": [
    "### rfind()\n",
    "\n",
    "- It reads the string from right to left\n",
    "- It returns the index of the first occurrence from right to left of the specified character\n",
    "- If the character or sub-string is not found, then it will return - 1\n",
    "\n",
    "___Note:__ It only reads from right to left, but the index that it will return will follow the positive index\n",
    "\n",
    "__Syntax:__\n",
    "\n",
    "                my_str.rfind('character' or 'sub-string')\n",
    "                my_str.rfind('character', starting index)\n",
    "                my_str.rfind('character', starting index, ending index)"
   ]
  },
  {
   "cell_type": "code",
   "execution_count": 62,
   "id": "60fadcc9-92fa-4720-bda3-76c965725185",
   "metadata": {},
   "outputs": [
    {
     "data": {
      "text/plain": [
       "'she sells sea shells on the sea shore'"
      ]
     },
     "execution_count": 62,
     "metadata": {},
     "output_type": "execute_result"
    }
   ],
   "source": [
    "a"
   ]
  },
  {
   "cell_type": "code",
   "execution_count": 63,
   "id": "92737e8a-07be-4ca1-abd2-582ea7611672",
   "metadata": {},
   "outputs": [
    {
     "name": "stdout",
     "output_type": "stream",
     "text": [
      "0 s\n",
      "1 h\n",
      "2 e\n",
      "3  \n",
      "4 s\n",
      "5 e\n",
      "6 l\n",
      "7 l\n",
      "8 s\n",
      "9  \n",
      "10 s\n",
      "11 e\n",
      "12 a\n",
      "13  \n",
      "14 s\n",
      "15 h\n",
      "16 e\n",
      "17 l\n",
      "18 l\n",
      "19 s\n",
      "20  \n",
      "21 o\n",
      "22 n\n",
      "23  \n",
      "24 t\n",
      "25 h\n",
      "26 e\n",
      "27  \n",
      "28 s\n",
      "29 e\n",
      "30 a\n",
      "31  \n",
      "32 s\n",
      "33 h\n",
      "34 o\n",
      "35 r\n",
      "36 e\n"
     ]
    }
   ],
   "source": [
    "for i in range(len(a)):\n",
    "    print(i, a[i])"
   ]
  },
  {
   "cell_type": "code",
   "execution_count": 64,
   "id": "d3d4cd3d-f231-49f7-b8d0-8add98dfd84b",
   "metadata": {},
   "outputs": [
    {
     "data": {
      "text/plain": [
       "32"
      ]
     },
     "execution_count": 64,
     "metadata": {},
     "output_type": "execute_result"
    }
   ],
   "source": [
    "a.rfind('s')"
   ]
  },
  {
   "cell_type": "code",
   "execution_count": 65,
   "id": "ae6faf3c-c33a-48ea-9f4d-34736b8aafdd",
   "metadata": {},
   "outputs": [
    {
     "data": {
      "text/plain": [
       "10"
      ]
     },
     "execution_count": 65,
     "metadata": {},
     "output_type": "execute_result"
    }
   ],
   "source": [
    "a.rfind('s', 7, 14)"
   ]
  },
  {
   "cell_type": "code",
   "execution_count": 66,
   "id": "30ad7747-769b-4299-b67e-5b0a3a8fa24e",
   "metadata": {},
   "outputs": [
    {
     "data": {
      "text/plain": [
       "'ls sea '"
      ]
     },
     "execution_count": 66,
     "metadata": {},
     "output_type": "execute_result"
    }
   ],
   "source": [
    "a[7:14]"
   ]
  },
  {
   "cell_type": "code",
   "execution_count": 67,
   "id": "b4e3fc85-0c3d-438b-b22a-be2b7ca662ca",
   "metadata": {},
   "outputs": [
    {
     "data": {
      "text/plain": [
       "8"
      ]
     },
     "execution_count": 67,
     "metadata": {},
     "output_type": "execute_result"
    }
   ],
   "source": [
    "a.find('s', 7, 14)"
   ]
  },
  {
   "cell_type": "markdown",
   "id": "925c4a39-282c-4f3c-9858-8d9fc671a578",
   "metadata": {},
   "source": [
    "### split()\n",
    "\n",
    "- It spilts the string from the specified character and returns a list\n",
    "- By default, space will be taken as the specified character and the spliting of the string will happen on the spaces "
   ]
  },
  {
   "cell_type": "code",
   "execution_count": 69,
   "id": "2f31f37f-3ed6-433f-85c0-6b03087d2644",
   "metadata": {},
   "outputs": [
    {
     "data": {
      "text/plain": [
       "'she sells sea shells on the sea shore'"
      ]
     },
     "execution_count": 69,
     "metadata": {},
     "output_type": "execute_result"
    }
   ],
   "source": [
    "a "
   ]
  },
  {
   "cell_type": "code",
   "execution_count": 70,
   "id": "c8ca56c9-015f-49cf-9711-917a1a8b4a96",
   "metadata": {},
   "outputs": [
    {
     "data": {
      "text/plain": [
       "['she', 'sells', 'sea', 'shells', 'on', 'the', 'sea', 'shore']"
      ]
     },
     "execution_count": 70,
     "metadata": {},
     "output_type": "execute_result"
    }
   ],
   "source": [
    "a.split()"
   ]
  },
  {
   "cell_type": "code",
   "execution_count": 71,
   "id": "24ad160e-2c75-4ee4-9db1-c8bb16723e1f",
   "metadata": {},
   "outputs": [
    {
     "data": {
      "text/plain": [
       "['mayank', 'atul', 'ghai']"
      ]
     },
     "execution_count": 71,
     "metadata": {},
     "output_type": "execute_result"
    }
   ],
   "source": [
    "a = 'mayank-atul-ghai'\n",
    "a.split('-')"
   ]
  },
  {
   "cell_type": "code",
   "execution_count": 72,
   "id": "9f5ca6a5-6ada-4b6c-b167-e7999e279b3f",
   "metadata": {},
   "outputs": [
    {
     "data": {
      "text/plain": [
       "['+91', '8360984479']"
      ]
     },
     "execution_count": 72,
     "metadata": {},
     "output_type": "execute_result"
    }
   ],
   "source": [
    "a = '+91-8360984479'\n",
    "a.split('-')"
   ]
  },
  {
   "cell_type": "code",
   "execution_count": 73,
   "id": "76e6d48f-fa91-4106-b2cc-e7fa82b3bdfd",
   "metadata": {},
   "outputs": [
    {
     "ename": "AttributeError",
     "evalue": "'str' object has no attribute 'spilt'",
     "output_type": "error",
     "traceback": [
      "\u001b[1;31m---------------------------------------------------------------------------\u001b[0m",
      "\u001b[1;31mAttributeError\u001b[0m                            Traceback (most recent call last)",
      "Cell \u001b[1;32mIn[73], line 2\u001b[0m\n\u001b[0;32m      1\u001b[0m a \u001b[38;5;241m=\u001b[39m \u001b[38;5;124m'\u001b[39m\u001b[38;5;124m'\u001b[39m\n\u001b[1;32m----> 2\u001b[0m a\u001b[38;5;241m.\u001b[39mspilt()\n",
      "\u001b[1;31mAttributeError\u001b[0m: 'str' object has no attribute 'spilt'"
     ]
    }
   ],
   "source": [
    "a = ''\n",
    "a.spilt()"
   ]
  },
  {
   "cell_type": "code",
   "execution_count": 74,
   "id": "467771d5-a6cf-44b8-83d8-f70245cf07f8",
   "metadata": {},
   "outputs": [
    {
     "ename": "ValueError",
     "evalue": "empty separator",
     "output_type": "error",
     "traceback": [
      "\u001b[1;31m---------------------------------------------------------------------------\u001b[0m",
      "\u001b[1;31mValueError\u001b[0m                                Traceback (most recent call last)",
      "Cell \u001b[1;32mIn[74], line 2\u001b[0m\n\u001b[0;32m      1\u001b[0m a \u001b[38;5;241m=\u001b[39m \u001b[38;5;124m'\u001b[39m\u001b[38;5;124mshe sells sea shells on the sea shore\u001b[39m\u001b[38;5;124m'\u001b[39m\n\u001b[1;32m----> 2\u001b[0m a\u001b[38;5;241m.\u001b[39msplit(\u001b[38;5;124m'\u001b[39m\u001b[38;5;124m'\u001b[39m)\n",
      "\u001b[1;31mValueError\u001b[0m: empty separator"
     ]
    }
   ],
   "source": [
    "a = 'she sells sea shells on the sea shore'\n",
    "a.split('')"
   ]
  },
  {
   "cell_type": "code",
   "execution_count": 75,
   "id": "9106fae6-d843-4af7-a9d9-33c231306ce8",
   "metadata": {},
   "outputs": [
    {
     "data": {
      "text/plain": [
       "['m', 'y', 'nk ', 'tul gh', 'i']"
      ]
     },
     "execution_count": 75,
     "metadata": {},
     "output_type": "execute_result"
    }
   ],
   "source": [
    "a = 'mayank atul ghai'\n",
    "a.split('a')"
   ]
  },
  {
   "cell_type": "markdown",
   "id": "b768d3ba-331a-4e05-9532-f8855621def2",
   "metadata": {},
   "source": [
    "### join()\n",
    "\n",
    "- It combines the element of the list seperated by a specified character and will return a string back to us\n",
    "\n",
    "__Syntax:__\n",
    "\n",
    "        'specified_Character'.join(list)"
   ]
  },
  {
   "cell_type": "code",
   "execution_count": 76,
   "id": "1b7a73d4-60c4-44b0-ac6f-48f742732924",
   "metadata": {},
   "outputs": [],
   "source": [
    "lst = ['m', 'y', 'nk ', 'tul gh', 'i']"
   ]
  },
  {
   "cell_type": "code",
   "execution_count": 77,
   "id": "8121d581-aa03-46ce-8505-ffac67caf780",
   "metadata": {},
   "outputs": [
    {
     "data": {
      "text/plain": [
       "'mayank atul ghai'"
      ]
     },
     "execution_count": 77,
     "metadata": {},
     "output_type": "execute_result"
    }
   ],
   "source": [
    "x = 'a'.join(lst)\n",
    "x"
   ]
  },
  {
   "cell_type": "code",
   "execution_count": 78,
   "id": "0625948c-4a28-4281-929d-9220fe7c9ed9",
   "metadata": {},
   "outputs": [],
   "source": [
    "lst = ['she', 'sells', 'sea', 'shells', 'on', 'the', 'sea', 'shore']\n",
    "\n",
    "x = ' '.join(lst)"
   ]
  },
  {
   "cell_type": "code",
   "execution_count": 79,
   "id": "738a2839-0b03-4931-afa6-16e9cd2c7b3f",
   "metadata": {},
   "outputs": [
    {
     "data": {
      "text/plain": [
       "'she sells sea shells on the sea shore'"
      ]
     },
     "execution_count": 79,
     "metadata": {},
     "output_type": "execute_result"
    }
   ],
   "source": [
    "x"
   ]
  },
  {
   "cell_type": "markdown",
   "id": "157fddf9-547b-4cb6-8112-b53118c88ea5",
   "metadata": {},
   "source": [
    "### strip()\n",
    "\n",
    "- It removes the specified character from the left and the right of the string\n",
    "- By default, it removes space character from the left and the right side of the string\n",
    "\n",
    "__Note:__ \n",
    "- It removes the boundary character and not the character inside the string\n",
    "\n",
    "__Syntax:__\n",
    "\n",
    "            my_str.strip('character')"
   ]
  },
  {
   "cell_type": "code",
   "execution_count": 80,
   "id": "7a2525d1-8044-4393-9fe3-ffe3191c0d21",
   "metadata": {},
   "outputs": [
    {
     "data": {
      "text/plain": [
       "'150'"
      ]
     },
     "execution_count": 80,
     "metadata": {},
     "output_type": "execute_result"
    }
   ],
   "source": [
    "my_str = '$150$'\n",
    "p = my_str.strip('$')\n",
    "p"
   ]
  },
  {
   "cell_type": "code",
   "execution_count": 81,
   "id": "188c4e85-1490-40af-8b69-831691ecede5",
   "metadata": {},
   "outputs": [
    {
     "data": {
      "text/plain": [
       "'1$5$0'"
      ]
     },
     "execution_count": 81,
     "metadata": {},
     "output_type": "execute_result"
    }
   ],
   "source": [
    "my_str = '$1$5$0$'\n",
    "p = my_str.strip('$')\n",
    "p"
   ]
  },
  {
   "cell_type": "code",
   "execution_count": 82,
   "id": "250074ae-0a5d-4e2a-b7ee-d13edc93c1d4",
   "metadata": {},
   "outputs": [
    {
     "data": {
      "text/plain": [
       "'Python'"
      ]
     },
     "execution_count": 82,
     "metadata": {},
     "output_type": "execute_result"
    }
   ],
   "source": [
    "my_str = '         Python          '\n",
    "p = my_str.strip()\n",
    "p"
   ]
  },
  {
   "cell_type": "code",
   "execution_count": 83,
   "id": "7d843883-080c-48b0-96f9-01d05cf70393",
   "metadata": {},
   "outputs": [
    {
     "data": {
      "text/plain": [
       "'150'"
      ]
     },
     "execution_count": 83,
     "metadata": {},
     "output_type": "execute_result"
    }
   ],
   "source": [
    "my_str = '$150$$'\n",
    "p = my_str.strip('$')\n",
    "p"
   ]
  },
  {
   "cell_type": "markdown",
   "id": "a0a4ec53-5adc-4d47-b71a-e34b483534e4",
   "metadata": {},
   "source": [
    "### lstrip()\n",
    "\n",
    "- It removes the specified character from only the left side of the string\n",
    "- By default, it will remove space character"
   ]
  },
  {
   "cell_type": "code",
   "execution_count": 84,
   "id": "8e412941-f8ed-4e6c-9c50-d890f45e3ea0",
   "metadata": {},
   "outputs": [
    {
     "data": {
      "text/plain": [
       "'150$'"
      ]
     },
     "execution_count": 84,
     "metadata": {},
     "output_type": "execute_result"
    }
   ],
   "source": [
    "my_str = '$150$'\n",
    "p = my_str.lstrip('$')\n",
    "p"
   ]
  },
  {
   "cell_type": "code",
   "execution_count": 85,
   "id": "92e4df29-1a40-46cb-8b8b-d9eafa50ee83",
   "metadata": {},
   "outputs": [
    {
     "data": {
      "text/plain": [
       "'150$$'"
      ]
     },
     "execution_count": 85,
     "metadata": {},
     "output_type": "execute_result"
    }
   ],
   "source": [
    "my_str = '$150$$'\n",
    "p = my_str.lstrip('$')\n",
    "p"
   ]
  },
  {
   "cell_type": "code",
   "execution_count": 86,
   "id": "e1f69e94-780b-48e2-a742-7101e6beba10",
   "metadata": {},
   "outputs": [
    {
     "data": {
      "text/plain": [
       "'Python          '"
      ]
     },
     "execution_count": 86,
     "metadata": {},
     "output_type": "execute_result"
    }
   ],
   "source": [
    "my_str = '         Python          '\n",
    "p = my_str.lstrip()\n",
    "p"
   ]
  },
  {
   "cell_type": "markdown",
   "id": "2c948567-cb03-4a51-ba86-2f144aeb335d",
   "metadata": {},
   "source": [
    "### rstrip()\n",
    "\n",
    "- It removes the specified character from only the right side of the string\n",
    "- By default, it will remove space character"
   ]
  },
  {
   "cell_type": "code",
   "execution_count": 87,
   "id": "2e8c02da-1a94-49e6-b507-1328c260f1b6",
   "metadata": {},
   "outputs": [
    {
     "data": {
      "text/plain": [
       "'$150'"
      ]
     },
     "execution_count": 87,
     "metadata": {},
     "output_type": "execute_result"
    }
   ],
   "source": [
    "my_str = '$150$'\n",
    "p = my_str.rstrip('$')\n",
    "p"
   ]
  },
  {
   "cell_type": "code",
   "execution_count": 88,
   "id": "2e53830a-63e0-4298-bd40-3a65b051471c",
   "metadata": {},
   "outputs": [
    {
     "data": {
      "text/plain": [
       "'$150'"
      ]
     },
     "execution_count": 88,
     "metadata": {},
     "output_type": "execute_result"
    }
   ],
   "source": [
    "my_str = '$150$$'\n",
    "p = my_str.rstrip('$')\n",
    "p"
   ]
  },
  {
   "cell_type": "code",
   "execution_count": 89,
   "id": "004fdcea-93e6-4f32-9ae9-1e002998bdc7",
   "metadata": {},
   "outputs": [
    {
     "data": {
      "text/plain": [
       "'         Python'"
      ]
     },
     "execution_count": 89,
     "metadata": {},
     "output_type": "execute_result"
    }
   ],
   "source": [
    "my_str = '         Python          '\n",
    "p = my_str.rstrip()\n",
    "p"
   ]
  },
  {
   "cell_type": "markdown",
   "id": "126bd815-c72a-4d15-bf27-f1a40db96771",
   "metadata": {},
   "source": [
    "Why is the bitwise NOT of a number x (~x) equal to -x - 1?\n"
   ]
  },
  {
   "cell_type": "code",
   "execution_count": 93,
   "id": "46eb2f00-886e-4cdf-9b92-82eb8ee32ca3",
   "metadata": {},
   "outputs": [
    {
     "data": {
      "text/plain": [
       "-21"
      ]
     },
     "execution_count": 93,
     "metadata": {},
     "output_type": "execute_result"
    }
   ],
   "source": [
    "x = 20\n",
    "~x"
   ]
  },
  {
   "cell_type": "code",
   "execution_count": 92,
   "id": "8963e6e7-99ff-46ba-9e09-5716fe76d8ce",
   "metadata": {},
   "outputs": [
    {
     "data": {
      "text/plain": [
       "['he', 'o']"
      ]
     },
     "execution_count": 92,
     "metadata": {},
     "output_type": "execute_result"
    }
   ],
   "source": [
    "a = 'hello'\n",
    "a.split(\"ll\")\n"
   ]
  },
  {
   "cell_type": "code",
   "execution_count": null,
   "id": "dc8fb397-1000-45d5-abeb-800630690bf8",
   "metadata": {},
   "outputs": [],
   "source": []
  }
 ],
 "metadata": {
  "kernelspec": {
   "display_name": "Python 3 (ipykernel)",
   "language": "python",
   "name": "python3"
  },
  "language_info": {
   "codemirror_mode": {
    "name": "ipython",
    "version": 3
   },
   "file_extension": ".py",
   "mimetype": "text/x-python",
   "name": "python",
   "nbconvert_exporter": "python",
   "pygments_lexer": "ipython3",
   "version": "3.11.7"
  }
 },
 "nbformat": 4,
 "nbformat_minor": 5
}

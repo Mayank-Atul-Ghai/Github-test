{
 "cells": [
  {
   "cell_type": "markdown",
   "id": "55d59eb1-5af7-4658-a814-aee19a67bc19",
   "metadata": {},
   "source": [
    "### Case-4\r\n",
    "\r\n",
    "#### List Comprehensi\n",
    "\n",
    "- This is the most quickest way of creating a liston"
   ]
  },
  {
   "cell_type": "code",
   "execution_count": 3,
   "id": "a7c69023-caaa-492a-9e56-f9bc531084d9",
   "metadata": {},
   "outputs": [
    {
     "name": "stdout",
     "output_type": "stream",
     "text": [
      "[1, 2, 3, 4, 5, 6, 7, 8, 9, 10, 11, 12, 13, 14, 15, 16, 17, 18, 19, 20]\n"
     ]
    }
   ],
   "source": [
    "#Generate a list having elements from 1 to 20 in a conventional way \n",
    "\n",
    "# Creating an empty list \n",
    "a = []\n",
    "\n",
    "# iterate over the range from 1 to 51\n",
    "for i in range(1,21): (1,2,3,4,5\n",
    "    # appended the element in the list\n",
    "    a = a+[i] \n",
    "    # print(a)\n",
    "print(a)"
   ]
  },
  {
   "cell_type": "code",
   "execution_count": 4,
   "id": "c663607f-0c8e-4e20-bed4-893ebb84dbd8",
   "metadata": {},
   "outputs": [
    {
     "data": {
      "text/plain": [
       "[1, 2, 3, 4, 5, 6, 7, 8, 9, 10, 11, 12, 13, 14, 15, 16, 17, 18, 19, 20]"
      ]
     },
     "execution_count": 4,
     "metadata": {},
     "output_type": "execute_result"
    }
   ],
   "source": [
    "# list comprehension \n",
    "\n",
    "lst1 = [i for i in range(1,21)]\n",
    "lst1"
   ]
  },
  {
   "cell_type": "code",
   "execution_count": 5,
   "id": "4c529f69-2c06-4fbe-8a4c-557e66b00648",
   "metadata": {},
   "outputs": [
    {
     "name": "stdout",
     "output_type": "stream",
     "text": [
      "[2, 4, 6, 8, 10, 12, 14, 16, 18, 20]\n",
      "------------\n",
      "[1, 3, 5, 7, 9, 11, 13, 15, 17, 19]\n"
     ]
    }
   ],
   "source": [
    "# Segregate out the even numbers and odd number \n",
    "\n",
    "#created an empty list \n",
    "even_lst = []\n",
    "odd_lst = []\n",
    "\n",
    "# iterate over the elements of the lst \n",
    "for i in a:\n",
    "    #condition \n",
    "    if i%2 == 0:\n",
    "        even_lst = even_lst + [i]\n",
    "    else:\n",
    "        odd_lst += [i]\n",
    "\n",
    "print(even_lst)\n",
    "print('------------')\n",
    "print(odd_lst)\n",
    "    \n"
   ]
  },
  {
   "cell_type": "markdown",
   "id": "ba7e1c9c-bfe0-43ef-b92c-45241a2158c2",
   "metadata": {},
   "source": [
    "#### if condition in list comprehension\n",
    "\n",
    "__Syntax:__\n",
    "\n",
    "    [expression for expression in iterable_object() condition]"
   ]
  },
  {
   "cell_type": "code",
   "execution_count": 6,
   "id": "af420add-2d95-44c2-af90-d083c6b0f003",
   "metadata": {},
   "outputs": [
    {
     "data": {
      "text/plain": [
       "[2, 4, 6, 8, 10, 12, 14, 16, 18, 20]"
      ]
     },
     "execution_count": 6,
     "metadata": {},
     "output_type": "execute_result"
    }
   ],
   "source": [
    "even_lst1 = [i for i in a if i%2 == 0]\n",
    "even_lst1"
   ]
  },
  {
   "cell_type": "code",
   "execution_count": 7,
   "id": "dad704ff-a2fb-4e51-a32a-bcef49f7af51",
   "metadata": {},
   "outputs": [
    {
     "data": {
      "text/plain": [
       "[1, 3, 5, 7, 9, 11, 13, 15, 17, 19]"
      ]
     },
     "execution_count": 7,
     "metadata": {},
     "output_type": "execute_result"
    }
   ],
   "source": [
    "odd_lst1 = [i for i in a if i%2 != 0]\n",
    "odd_lst1"
   ]
  },
  {
   "cell_type": "code",
   "execution_count": 8,
   "id": "faa38614-f5e4-49d8-86ce-6cb4abf8c7b9",
   "metadata": {},
   "outputs": [
    {
     "data": {
      "text/plain": [
       "[0, 2, 4, 6, 8, 10, 12, 14, 16, 18]"
      ]
     },
     "execution_count": 8,
     "metadata": {},
     "output_type": "execute_result"
    }
   ],
   "source": [
    "lst = [i*2 for i in range(10)]\n",
    "lst"
   ]
  },
  {
   "cell_type": "code",
   "execution_count": 20,
   "id": "cf8373bb-2b5e-490b-ac58-aef132cc846c",
   "metadata": {},
   "outputs": [
    {
     "name": "stdout",
     "output_type": "stream",
     "text": [
      "['A', 'B', 'C', 'D', 'E', 'F', 'G', 'H', 'I', 'J', 'K', 'L', 'M', 'N', 'O', 'P', 'Q', 'R', 'S', 'T', 'U', 'V', 'W', 'X', 'Y', 'Z']\n"
     ]
    }
   ],
   "source": [
    "# Generate a list of letters from A to Z in a conventional way\n",
    "\n",
    "lst = []\n",
    "\n",
    "for i in range(ord('A'), ord('Z')+1):\n",
    "    lst += [chr(i)]\n",
    "\n",
    "print(lst)"
   ]
  },
  {
   "cell_type": "code",
   "execution_count": 16,
   "id": "1605ebc6-6401-4ba1-91c0-f7b9dcae7268",
   "metadata": {},
   "outputs": [
    {
     "name": "stdout",
     "output_type": "stream",
     "text": [
      "['A', 'B', 'C', 'D', 'E', 'F', 'G', 'H', 'I', 'J', 'K', 'L', 'M', 'N', 'O', 'P', 'Q', 'R', 'S', 'T', 'U', 'V', 'W', 'X', 'Y', 'Z']\n"
     ]
    }
   ],
   "source": [
    "# list comprehension\n",
    "\n",
    "lst1 = [chr(i) for i in range(ord('A'),ord('Z')+1)]\n",
    "print(lst1)"
   ]
  },
  {
   "cell_type": "markdown",
   "id": "b38de39a-eef4-4831-b2e4-eccabaa53591",
   "metadata": {},
   "source": [
    "### if else statement in list comprehension \r\n",
    "__Syntax:__\n",
    ":\r\n",
    "\r\n",
    "    [expression_true if condition_true else expression_false for i in range()]"
   ]
  },
  {
   "cell_type": "code",
   "execution_count": 23,
   "id": "dbe658fe-f757-4a26-bd56-7b1b9b685217",
   "metadata": {},
   "outputs": [
    {
     "name": "stdout",
     "output_type": "stream",
     "text": [
      "[1, 4, 27, 16, 125, 36, 343, 64, 729, 100]\n"
     ]
    }
   ],
   "source": [
    "# Create a list in which every even element is squared and every odd element is cubed \n",
    "\n",
    "val = []\n",
    "\n",
    "for i in range(1,11):\n",
    "    if i %2 == 0:\n",
    "        val += [i**2]\n",
    "    else:\n",
    "        val += [i**3]\n",
    "\n",
    "print(val)"
   ]
  },
  {
   "cell_type": "code",
   "execution_count": 24,
   "id": "6baf6b78-5f3a-4a0a-912a-f8cb5b02b923",
   "metadata": {},
   "outputs": [
    {
     "data": {
      "text/plain": [
       "[1, 4, 27, 16, 125, 36, 343, 64, 729, 100]"
      ]
     },
     "execution_count": 24,
     "metadata": {},
     "output_type": "execute_result"
    }
   ],
   "source": [
    "lst1 = [i**2 if i%2 == 0 else i**3 for i in range(1,11)]\n",
    "lst1"
   ]
  },
  {
   "cell_type": "markdown",
   "id": "37332f66-5961-452e-b873-6a42f3a1c9fa",
   "metadata": {},
   "source": [
    "#### Advantages:--\n",
    "    \n",
    "    1. Readability\n",
    "    2. Concise code \n",
    "    3. Improved Performance \n",
    "    4. Functional Programming\n",
    "    5. Avoiding Side Effects \n",
    "\n",
    "#### Disadvantage:--\n",
    "    \n",
    "    1. Limited to Simple Operation\n",
    "    2. Nested Comprehension\n",
    "    3. Readability trade-off \n",
    "    4. Debugging challenges "
   ]
  },
  {
   "cell_type": "markdown",
   "id": "bd7bac30-9678-4438-a849-eff2580d3b91",
   "metadata": {},
   "source": [
    "### List Methods"
   ]
  },
  {
   "cell_type": "code",
   "execution_count": 27,
   "id": "fb2c97e9-3cb3-409f-a6cf-509b103476b3",
   "metadata": {
    "scrolled": true
   },
   "outputs": [
    {
     "name": "stdout",
     "output_type": "stream",
     "text": [
      "['__add__', '__class__', '__class_getitem__', '__contains__', '__delattr__', '__delitem__', '__dir__', '__doc__', '__eq__', '__format__', '__ge__', '__getattribute__', '__getitem__', '__getstate__', '__gt__', '__hash__', '__iadd__', '__imul__', '__init__', '__init_subclass__', '__iter__', '__le__', '__len__', '__lt__', '__mul__', '__ne__', '__new__', '__reduce__', '__reduce_ex__', '__repr__', '__reversed__', '__rmul__', '__setattr__', '__setitem__', '__sizeof__', '__str__', '__subclasshook__', 'append', 'clear', 'copy', 'count', 'extend', 'index', 'insert', 'pop', 'remove', 'reverse', 'sort']\n"
     ]
    }
   ],
   "source": [
    "print(dir(list))"
   ]
  },
  {
   "cell_type": "code",
   "execution_count": 28,
   "id": "9cbe30a8-fd50-4106-b511-7828617d3c0e",
   "metadata": {},
   "outputs": [
    {
     "name": "stdout",
     "output_type": "stream",
     "text": [
      "['__add__', '__class__', '__contains__', '__delattr__', '__dir__', '__doc__', '__eq__', '__format__', '__ge__', '__getattribute__', '__getitem__', '__getnewargs__', '__getstate__', '__gt__', '__hash__', '__init__', '__init_subclass__', '__iter__', '__le__', '__len__', '__lt__', '__mod__', '__mul__', '__ne__', '__new__', '__reduce__', '__reduce_ex__', '__repr__', '__rmod__', '__rmul__', '__setattr__', '__sizeof__', '__str__', '__subclasshook__', 'capitalize', 'casefold', 'center', 'count', 'encode', 'endswith', 'expandtabs', 'find', 'format', 'format_map', 'index', 'isalnum', 'isalpha', 'isascii', 'isdecimal', 'isdigit', 'isidentifier', 'islower', 'isnumeric', 'isprintable', 'isspace', 'istitle', 'isupper', 'join', 'ljust', 'lower', 'lstrip', 'maketrans', 'partition', 'removeprefix', 'removesuffix', 'replace', 'rfind', 'rindex', 'rjust', 'rpartition', 'rsplit', 'rstrip', 'split', 'splitlines', 'startswith', 'strip', 'swapcase', 'title', 'translate', 'upper', 'zfill']\n"
     ]
    }
   ],
   "source": [
    "print(dir(str))"
   ]
  },
  {
   "cell_type": "markdown",
   "id": "e0a4ce11-a35f-479c-883f-85a7bfde88a0",
   "metadata": {},
   "source": [
    "### append()\n",
    "\n",
    "- It adds the element at the end of the list\n",
    "- It will take exactly one argument."
   ]
  },
  {
   "cell_type": "code",
   "execution_count": 29,
   "id": "752365b5-7042-4620-a605-db7897cbb298",
   "metadata": {},
   "outputs": [
    {
     "name": "stdout",
     "output_type": "stream",
     "text": [
      "[1, 2, 3, 4, 5] <class 'list'>\n"
     ]
    }
   ],
   "source": [
    "lst = [1,2,3,4,5]\n",
    "print(lst, type(lst))"
   ]
  },
  {
   "cell_type": "code",
   "execution_count": 30,
   "id": "95c7eae2-5924-4bca-97ec-f9eb97df0dd9",
   "metadata": {},
   "outputs": [],
   "source": [
    "lst.append('mayank')"
   ]
  },
  {
   "cell_type": "code",
   "execution_count": 31,
   "id": "69705856-57e1-4b5c-9e51-a407d1e0c643",
   "metadata": {},
   "outputs": [
    {
     "data": {
      "text/plain": [
       "[1, 2, 3, 4, 5, 'mayank']"
      ]
     },
     "execution_count": 31,
     "metadata": {},
     "output_type": "execute_result"
    }
   ],
   "source": [
    "lst"
   ]
  },
  {
   "cell_type": "code",
   "execution_count": 32,
   "id": "ed391cb2-93c2-4ef8-9a74-bcbee9fd9958",
   "metadata": {},
   "outputs": [
    {
     "data": {
      "text/plain": [
       "[1, 2, 3, 4, 5, 'mayank', 2.0]"
      ]
     },
     "execution_count": 32,
     "metadata": {},
     "output_type": "execute_result"
    }
   ],
   "source": [
    "lst.append(2.0)\n",
    "lst"
   ]
  },
  {
   "cell_type": "code",
   "execution_count": 33,
   "id": "000f80db-50b0-4b1a-b5d5-2d0df77a2c87",
   "metadata": {},
   "outputs": [
    {
     "ename": "TypeError",
     "evalue": "list.append() takes exactly one argument (2 given)",
     "output_type": "error",
     "traceback": [
      "\u001b[1;31m---------------------------------------------------------------------------\u001b[0m",
      "\u001b[1;31mTypeError\u001b[0m                                 Traceback (most recent call last)",
      "Cell \u001b[1;32mIn[33], line 1\u001b[0m\n\u001b[1;32m----> 1\u001b[0m lst\u001b[38;5;241m.\u001b[39mappend(\u001b[38;5;28;01mTrue\u001b[39;00m, \u001b[38;5;28;01mNone\u001b[39;00m)\n\u001b[0;32m      2\u001b[0m lst\n",
      "\u001b[1;31mTypeError\u001b[0m: list.append() takes exactly one argument (2 given)"
     ]
    }
   ],
   "source": [
    "lst.append(True, None)\n",
    "lst"
   ]
  },
  {
   "cell_type": "code",
   "execution_count": 34,
   "id": "a75b83f3-4cc6-464e-91d9-69849c5e45d9",
   "metadata": {},
   "outputs": [
    {
     "data": {
      "text/plain": [
       "[1, 2, 3, 4, 5, 'mayank', 2.0, True]"
      ]
     },
     "execution_count": 34,
     "metadata": {},
     "output_type": "execute_result"
    }
   ],
   "source": [
    "lst.append(True)\n",
    "lst"
   ]
  },
  {
   "cell_type": "code",
   "execution_count": 35,
   "id": "dc3ea0b0-b541-4eb4-b064-9bea50d45a81",
   "metadata": {
    "scrolled": true
   },
   "outputs": [
    {
     "ename": "TypeError",
     "evalue": "list.append() takes exactly one argument (6 given)",
     "output_type": "error",
     "traceback": [
      "\u001b[1;31m---------------------------------------------------------------------------\u001b[0m",
      "\u001b[1;31mTypeError\u001b[0m                                 Traceback (most recent call last)",
      "Cell \u001b[1;32mIn[35], line 1\u001b[0m\n\u001b[1;32m----> 1\u001b[0m lst\u001b[38;5;241m.\u001b[39mappend(\u001b[38;5;241m1\u001b[39m,\u001b[38;5;241m2\u001b[39m,\u001b[38;5;241m3\u001b[39m,\u001b[38;5;241m4\u001b[39m,\u001b[38;5;241m5\u001b[39m,\u001b[38;5;241m6\u001b[39m)\n\u001b[0;32m      2\u001b[0m lst\n",
      "\u001b[1;31mTypeError\u001b[0m: list.append() takes exactly one argument (6 given)"
     ]
    }
   ],
   "source": [
    "lst.append(1,2,3,4,5,6)\n",
    "lst"
   ]
  },
  {
   "cell_type": "code",
   "execution_count": 39,
   "id": "066b851f-12f1-4bf3-8122-962ad593ed97",
   "metadata": {},
   "outputs": [
    {
     "data": {
      "text/plain": [
       "[1,\n",
       " 2,\n",
       " 3,\n",
       " 4,\n",
       " 5,\n",
       " 'mayank',\n",
       " 2.0,\n",
       " True,\n",
       " 'p',\n",
       " 'y',\n",
       " 't',\n",
       " 'h',\n",
       " 'o',\n",
       " 'n',\n",
       " 10,\n",
       " 9,\n",
       " 8,\n",
       " 7,\n",
       " [1, 2, 3, 4]]"
      ]
     },
     "execution_count": 39,
     "metadata": {},
     "output_type": "execute_result"
    }
   ],
   "source": [
    "lst.append([1,2,3,4])\n",
    "lst"
   ]
  },
  {
   "cell_type": "code",
   "execution_count": 40,
   "id": "fb600c8a-89aa-4180-a20e-efa8c86e9fdf",
   "metadata": {},
   "outputs": [
    {
     "name": "stdout",
     "output_type": "stream",
     "text": [
      "[1, 2, 3, 4, 5, 'mayank', 2.0, True, 'p', 'y', 't', 'h', 'o', 'n', 10, 9, 8, 7, [1, 2, 3, 4]]\n"
     ]
    }
   ],
   "source": [
    "print(lst)"
   ]
  },
  {
   "cell_type": "markdown",
   "id": "416c9b54-aa99-45dd-af9b-6f2a8a685a5d",
   "metadata": {},
   "source": [
    "### extend()\n",
    "\n",
    "- It takes an iterable as an argument (range, string, list,tuple, dictionary, set and frozen set)\n",
    "- It adds the element of the iterable to the list one by one.\n",
    "- We cannot use int, float, complex, boolean and None Datatype"
   ]
  },
  {
   "cell_type": "code",
   "execution_count": 36,
   "id": "7e124667-ebe2-4781-833e-a06319e902e4",
   "metadata": {},
   "outputs": [
    {
     "data": {
      "text/plain": [
       "[1, 2, 3, 4, 5, 'mayank', 2.0, True, 'p', 'y', 't', 'h', 'o', 'n']"
      ]
     },
     "execution_count": 36,
     "metadata": {},
     "output_type": "execute_result"
    }
   ],
   "source": [
    "a = 'python' # 'p','y'\n",
    "lst.extend(a)\n",
    "lst"
   ]
  },
  {
   "cell_type": "code",
   "execution_count": 37,
   "id": "bd11d309-7ac5-49bb-869e-3684c94ffd09",
   "metadata": {
    "scrolled": true
   },
   "outputs": [
    {
     "ename": "TypeError",
     "evalue": "'int' object is not iterable",
     "output_type": "error",
     "traceback": [
      "\u001b[1;31m---------------------------------------------------------------------------\u001b[0m",
      "\u001b[1;31mTypeError\u001b[0m                                 Traceback (most recent call last)",
      "Cell \u001b[1;32mIn[37], line 1\u001b[0m\n\u001b[1;32m----> 1\u001b[0m lst\u001b[38;5;241m.\u001b[39mextend(\u001b[38;5;241m10\u001b[39m)\n\u001b[0;32m      2\u001b[0m lst\n",
      "\u001b[1;31mTypeError\u001b[0m: 'int' object is not iterable"
     ]
    }
   ],
   "source": [
    "lst.extend(10)\n",
    "lst"
   ]
  },
  {
   "cell_type": "code",
   "execution_count": 38,
   "id": "0f07ae42-cfb0-46e8-bc87-1f8f49cb1829",
   "metadata": {},
   "outputs": [
    {
     "data": {
      "text/plain": [
       "[1, 2, 3, 4, 5, 'mayank', 2.0, True, 'p', 'y', 't', 'h', 'o', 'n', 10, 9, 8, 7]"
      ]
     },
     "execution_count": 38,
     "metadata": {},
     "output_type": "execute_result"
    }
   ],
   "source": [
    "lst2 = [10,9,8,7]\n",
    "lst.extend(lst2)\n",
    "lst"
   ]
  },
  {
   "cell_type": "markdown",
   "id": "bea30916-b2b5-409d-b0ae-ffbf9ed1c279",
   "metadata": {},
   "source": [
    "### index()\n",
    "\n",
    "- It returns the index of the first occurrence of an element from left to right\n",
    "- If the element is not found then it will return a value error\n",
    "\n",
    "__Synatx:__\n",
    "\n",
    "    lst.index(element)\n",
    "    lst.index(element, starting_index)\n",
    "    lst.index(element, starting_index, ending_index)"
   ]
  },
  {
   "cell_type": "code",
   "execution_count": 48,
   "id": "032cae6f-0a59-4975-ae83-a559b475f0eb",
   "metadata": {},
   "outputs": [],
   "source": [
    "lst = [100,1.0, 2,3,4,6,1,True, 1+0j, 2.0]"
   ]
  },
  {
   "cell_type": "code",
   "execution_count": 49,
   "id": "95e6fdd8-eb81-4caa-820d-5188bacbe12d",
   "metadata": {},
   "outputs": [
    {
     "data": {
      "text/plain": [
       "1"
      ]
     },
     "execution_count": 49,
     "metadata": {},
     "output_type": "execute_result"
    }
   ],
   "source": [
    "lst.index(True)"
   ]
  },
  {
   "cell_type": "code",
   "execution_count": 43,
   "id": "750fdae1-49f2-434d-952d-5967dc61840e",
   "metadata": {},
   "outputs": [
    {
     "data": {
      "text/plain": [
       "True"
      ]
     },
     "execution_count": 43,
     "metadata": {},
     "output_type": "execute_result"
    }
   ],
   "source": [
    "1 == 1.0"
   ]
  },
  {
   "cell_type": "code",
   "execution_count": 44,
   "id": "9b409416-d1a8-4db5-93da-30c9ed52f5d7",
   "metadata": {},
   "outputs": [
    {
     "data": {
      "text/plain": [
       "True"
      ]
     },
     "execution_count": 44,
     "metadata": {},
     "output_type": "execute_result"
    }
   ],
   "source": [
    "1 == 1+0j"
   ]
  },
  {
   "cell_type": "code",
   "execution_count": 45,
   "id": "3bb1ddd5-24ee-4918-9b18-fbff6d23dc03",
   "metadata": {},
   "outputs": [
    {
     "data": {
      "text/plain": [
       "True"
      ]
     },
     "execution_count": 45,
     "metadata": {},
     "output_type": "execute_result"
    }
   ],
   "source": [
    "1 == True"
   ]
  },
  {
   "cell_type": "code",
   "execution_count": 50,
   "id": "01010e5d-6f3c-4706-ad9a-0ad55170787e",
   "metadata": {},
   "outputs": [
    {
     "data": {
      "text/plain": [
       "[100, 1.0, 2, 3, 4, 6, 1, True, (1+0j), 2.0]"
      ]
     },
     "execution_count": 50,
     "metadata": {},
     "output_type": "execute_result"
    }
   ],
   "source": [
    "lst"
   ]
  },
  {
   "cell_type": "code",
   "execution_count": 51,
   "id": "50319b10-bac9-4c8a-ae57-2183d95a2b1e",
   "metadata": {},
   "outputs": [
    {
     "data": {
      "text/plain": [
       "2"
      ]
     },
     "execution_count": 51,
     "metadata": {},
     "output_type": "execute_result"
    }
   ],
   "source": [
    "lst.index(2.0)"
   ]
  },
  {
   "cell_type": "code",
   "execution_count": 47,
   "id": "6742dca3-8cde-4b02-a6d4-9f150590a12e",
   "metadata": {},
   "outputs": [
    {
     "data": {
      "text/plain": [
       "[1.0, 2, 3, 4, 6, 1, True, (1+0j)]"
      ]
     },
     "execution_count": 47,
     "metadata": {},
     "output_type": "execute_result"
    }
   ],
   "source": [
    "lst"
   ]
  },
  {
   "cell_type": "code",
   "execution_count": 52,
   "id": "de858b9b-782e-410f-8629-d0d3351b3622",
   "metadata": {
    "scrolled": true
   },
   "outputs": [
    {
     "ename": "ValueError",
     "evalue": "None is not in list",
     "output_type": "error",
     "traceback": [
      "\u001b[1;31m---------------------------------------------------------------------------\u001b[0m",
      "\u001b[1;31mValueError\u001b[0m                                Traceback (most recent call last)",
      "Cell \u001b[1;32mIn[52], line 1\u001b[0m\n\u001b[1;32m----> 1\u001b[0m lst\u001b[38;5;241m.\u001b[39mindex(\u001b[38;5;28;01mNone\u001b[39;00m)\n",
      "\u001b[1;31mValueError\u001b[0m: None is not in list"
     ]
    }
   ],
   "source": [
    "lst.index(None)"
   ]
  },
  {
   "cell_type": "code",
   "execution_count": 53,
   "id": "a4c49e3a-fe5f-4bce-aa23-170de322fe76",
   "metadata": {},
   "outputs": [
    {
     "data": {
      "text/plain": [
       "[100, 1.0, 2, 3, 4, 6, 1, True, (1+0j), 2.0]"
      ]
     },
     "execution_count": 53,
     "metadata": {},
     "output_type": "execute_result"
    }
   ],
   "source": [
    "lst"
   ]
  },
  {
   "cell_type": "code",
   "execution_count": 54,
   "id": "4ba6fa55-c73d-47c1-a415-3593b7cc1e5c",
   "metadata": {},
   "outputs": [
    {
     "data": {
      "text/plain": [
       "6"
      ]
     },
     "execution_count": 54,
     "metadata": {},
     "output_type": "execute_result"
    }
   ],
   "source": [
    "lst.index(1, 2)"
   ]
  },
  {
   "cell_type": "code",
   "execution_count": 55,
   "id": "4b830cfc-3b27-4b63-bfeb-24254157d18a",
   "metadata": {},
   "outputs": [
    {
     "data": {
      "text/plain": [
       "[100, 1.0, 2, 3, 4, 6, 1, True, (1+0j), 2.0]"
      ]
     },
     "execution_count": 55,
     "metadata": {},
     "output_type": "execute_result"
    }
   ],
   "source": [
    "lst"
   ]
  },
  {
   "cell_type": "code",
   "execution_count": 56,
   "id": "d7d4ac41-9c5c-4f89-94ba-c231d69a9869",
   "metadata": {},
   "outputs": [
    {
     "data": {
      "text/plain": [
       "7"
      ]
     },
     "execution_count": 56,
     "metadata": {},
     "output_type": "execute_result"
    }
   ],
   "source": [
    "lst.index(1,7, 9)"
   ]
  },
  {
   "cell_type": "code",
   "execution_count": 57,
   "id": "88d0a7e4-1989-4774-8cbd-15ceb913034d",
   "metadata": {},
   "outputs": [
    {
     "data": {
      "text/plain": [
       "True"
      ]
     },
     "execution_count": 57,
     "metadata": {},
     "output_type": "execute_result"
    }
   ],
   "source": [
    "0 == False"
   ]
  },
  {
   "cell_type": "code",
   "execution_count": 58,
   "id": "88c10f0b-be88-4053-88f6-21412e56d53a",
   "metadata": {},
   "outputs": [
    {
     "data": {
      "text/plain": [
       "True"
      ]
     },
     "execution_count": 58,
     "metadata": {},
     "output_type": "execute_result"
    }
   ],
   "source": [
    "0 == 0.0"
   ]
  },
  {
   "cell_type": "code",
   "execution_count": 59,
   "id": "aff77ac4-074a-4a69-a9c8-70893adb5fdf",
   "metadata": {},
   "outputs": [
    {
     "data": {
      "text/plain": [
       "True"
      ]
     },
     "execution_count": 59,
     "metadata": {},
     "output_type": "execute_result"
    }
   ],
   "source": [
    "0 == 0+0j"
   ]
  },
  {
   "cell_type": "code",
   "execution_count": 61,
   "id": "c58e76be-4a7a-4c91-bb2f-b94830d043fd",
   "metadata": {},
   "outputs": [
    {
     "data": {
      "text/plain": [
       "False"
      ]
     },
     "execution_count": 61,
     "metadata": {},
     "output_type": "execute_result"
    }
   ],
   "source": [
    "2 == True"
   ]
  },
  {
   "cell_type": "code",
   "execution_count": null,
   "id": "7bb1af5c-24a1-43b1-87ff-7962b87e09b6",
   "metadata": {},
   "outputs": [],
   "source": [
    "1, 1.0, True and 1+0j ---> 1\n",
    "0, 0.0, False and 0+oj ---> 0"
   ]
  },
  {
   "cell_type": "markdown",
   "id": "4570c6d0-d53f-4c41-b6d6-5a6bcb1bf1d8",
   "metadata": {},
   "source": [
    "### Count \n",
    "\n",
    "- It counts the number of occurrences of that particular element inside a list\n",
    "- It will take only one argument "
   ]
  },
  {
   "cell_type": "code",
   "execution_count": 63,
   "id": "9e957416-2929-4f14-a75f-e7adb477c212",
   "metadata": {},
   "outputs": [
    {
     "name": "stdout",
     "output_type": "stream",
     "text": [
      "[2, 1, 9, 4, 7, 7, 2, 9, 1, 1, 4, 2, 7, 5, 4, 7, 4, 6, 6, 8, 1, 3, 4, 6, 4, 3, 3, 3, 2, 8, 9, 5, 1, 7, 9, 8]\n"
     ]
    }
   ],
   "source": [
    "# Code to generate random values between a range\n",
    "import numpy as np\n",
    "np.random.seed()\n",
    "\n",
    "lst = list(np.random.randint(1,10, 36))\n",
    "print(lst)"
   ]
  },
  {
   "cell_type": "code",
   "execution_count": 64,
   "id": "e31f44eb-7f70-4c46-8047-b6a54856edf2",
   "metadata": {},
   "outputs": [
    {
     "data": {
      "text/plain": [
       "5"
      ]
     },
     "execution_count": 64,
     "metadata": {},
     "output_type": "execute_result"
    }
   ],
   "source": [
    "lst.count(1)"
   ]
  },
  {
   "cell_type": "code",
   "execution_count": 65,
   "id": "730ace85-9efd-4d32-b284-92ee25c6d765",
   "metadata": {},
   "outputs": [
    {
     "data": {
      "text/plain": [
       "4"
      ]
     },
     "execution_count": 65,
     "metadata": {},
     "output_type": "execute_result"
    }
   ],
   "source": [
    "lst.count(2)"
   ]
  },
  {
   "cell_type": "code",
   "execution_count": 66,
   "id": "9185533a-741f-48f9-a076-f7f3b718aa84",
   "metadata": {},
   "outputs": [
    {
     "data": {
      "text/plain": [
       "0"
      ]
     },
     "execution_count": 66,
     "metadata": {},
     "output_type": "execute_result"
    }
   ],
   "source": [
    "lst.count(0)"
   ]
  },
  {
   "cell_type": "markdown",
   "id": "a9d874bb-1857-4fc3-8dc2-2be57929d325",
   "metadata": {},
   "source": [
    "### insert()\n",
    "\n",
    "- It is used to insert an element at a particular index\n",
    "- The previous element at the particular index will be shifted to the right\n",
    "\n",
    "__Syntax:__\n",
    "\n",
    "      lst.insert(index, element)"
   ]
  },
  {
   "cell_type": "code",
   "execution_count": 68,
   "id": "74278745-1a94-4f94-89bc-2e397032a5a0",
   "metadata": {},
   "outputs": [
    {
     "data": {
      "text/plain": [
       "[1, 2.0, (3+7j), True, None, 'python', range(0, 5)]"
      ]
     },
     "execution_count": 68,
     "metadata": {},
     "output_type": "execute_result"
    }
   ],
   "source": [
    "lst = [1,2.0, 3+7j, True, None, 'python', range(5)]\n",
    "lst"
   ]
  },
  {
   "cell_type": "code",
   "execution_count": 69,
   "id": "a6b5b8ae-fbbd-46d6-a9fb-f2f4c68b9fba",
   "metadata": {},
   "outputs": [
    {
     "data": {
      "text/plain": [
       "[1, 100, 2.0, (3+7j), True, None, 'python', range(0, 5)]"
      ]
     },
     "execution_count": 69,
     "metadata": {},
     "output_type": "execute_result"
    }
   ],
   "source": [
    "lst.insert(1, 100)\n",
    "lst"
   ]
  },
  {
   "cell_type": "code",
   "execution_count": 70,
   "id": "41a81c4f-ca1c-4a2e-a2fd-76e6d397a2ee",
   "metadata": {},
   "outputs": [],
   "source": [
    "lst.insert(len(lst)-1, 'Mayank')"
   ]
  },
  {
   "cell_type": "code",
   "execution_count": 71,
   "id": "37e0b37a-66b9-4b60-9baa-a29d7d064794",
   "metadata": {},
   "outputs": [
    {
     "data": {
      "text/plain": [
       "[1, 100, 2.0, (3+7j), True, None, 'python', 'Mayank', range(0, 5)]"
      ]
     },
     "execution_count": 71,
     "metadata": {},
     "output_type": "execute_result"
    }
   ],
   "source": [
    "lst"
   ]
  },
  {
   "cell_type": "code",
   "execution_count": 72,
   "id": "a3fa9af7-a2fc-4664-908b-db448fa508b8",
   "metadata": {},
   "outputs": [
    {
     "data": {
      "text/plain": [
       "[1, 100, 2.0, (3+7j), True, None, 'python', 'Mayank', range(0, 5), [1, 2, 3]]"
      ]
     },
     "execution_count": 72,
     "metadata": {},
     "output_type": "execute_result"
    }
   ],
   "source": [
    "lst.insert(len(lst), [1,2,3])\n",
    "lst"
   ]
  },
  {
   "cell_type": "code",
   "execution_count": 73,
   "id": "45807958-803b-4168-9951-e9af557b0ee3",
   "metadata": {},
   "outputs": [],
   "source": [
    "lst.insert(50, 'Data')\n",
    "lst.insert(20, 'Science')"
   ]
  },
  {
   "cell_type": "code",
   "execution_count": 75,
   "id": "985f8c51-59d1-44aa-be77-48b69950250d",
   "metadata": {},
   "outputs": [
    {
     "name": "stdout",
     "output_type": "stream",
     "text": [
      "[1, 100, 2.0, (3+7j), True, None, 'python', 'Mayank', range(0, 5), [1, 2, 3], 'Data', 'Science']\n"
     ]
    }
   ],
   "source": [
    "print(lst)"
   ]
  },
  {
   "cell_type": "code",
   "execution_count": null,
   "id": "44382c84-155d-429b-9f8a-9b050ea51ec2",
   "metadata": {},
   "outputs": [],
   "source": []
  },
  {
   "cell_type": "markdown",
   "id": "6cbedc0e-9d54-4a9d-bf15-632b6bc28bb3",
   "metadata": {},
   "source": [
    "### pop()\n",
    "\n",
    "- It returns the element available at a particular index and removes that element from the list\n",
    "- By default, it returns and removes the last element\n",
    "- for invalid index, it returns an index error"
   ]
  },
  {
   "cell_type": "code",
   "execution_count": 77,
   "id": "284c399d-64c7-4965-ab09-d322d7f85c81",
   "metadata": {},
   "outputs": [
    {
     "name": "stdout",
     "output_type": "stream",
     "text": [
      "[1, 100, 2.0, (3+7j), True, None, 'python', 'Mayank', range(0, 5), [1, 2, 3], 'Data', 'Science']\n"
     ]
    }
   ],
   "source": [
    "print(lst)"
   ]
  },
  {
   "cell_type": "code",
   "execution_count": 78,
   "id": "554c075e-aab4-41d6-bf83-5c998ea33dd8",
   "metadata": {},
   "outputs": [
    {
     "data": {
      "text/plain": [
       "100"
      ]
     },
     "execution_count": 78,
     "metadata": {},
     "output_type": "execute_result"
    }
   ],
   "source": [
    "y = lst.pop(1)\n",
    "y"
   ]
  },
  {
   "cell_type": "code",
   "execution_count": 80,
   "id": "01f37bf0-8b65-40ad-bc1e-7e158888a117",
   "metadata": {},
   "outputs": [
    {
     "name": "stdout",
     "output_type": "stream",
     "text": [
      "[1, 2.0, (3+7j), True, None, 'python', 'Mayank', range(0, 5), [1, 2, 3], 'Data', 'Science']\n"
     ]
    }
   ],
   "source": [
    "print(lst)"
   ]
  },
  {
   "cell_type": "code",
   "execution_count": 81,
   "id": "132fed63-d959-48f0-b7fa-f8e4355e2db3",
   "metadata": {},
   "outputs": [
    {
     "data": {
      "text/plain": [
       "'Science'"
      ]
     },
     "execution_count": 81,
     "metadata": {},
     "output_type": "execute_result"
    }
   ],
   "source": [
    "z = lst.pop()\n",
    "z"
   ]
  },
  {
   "cell_type": "code",
   "execution_count": 82,
   "id": "0311233e-6078-4f2b-849f-7d9352df8261",
   "metadata": {},
   "outputs": [
    {
     "name": "stdout",
     "output_type": "stream",
     "text": [
      "[1, 2.0, (3+7j), True, None, 'python', 'Mayank', range(0, 5), [1, 2, 3], 'Data']\n"
     ]
    }
   ],
   "source": [
    "print(lst)"
   ]
  },
  {
   "cell_type": "code",
   "execution_count": 83,
   "id": "fa9b0baa-edfb-4e3d-8157-dcefdb856b88",
   "metadata": {},
   "outputs": [
    {
     "ename": "IndexError",
     "evalue": "pop index out of range",
     "output_type": "error",
     "traceback": [
      "\u001b[1;31m---------------------------------------------------------------------------\u001b[0m",
      "\u001b[1;31mIndexError\u001b[0m                                Traceback (most recent call last)",
      "Cell \u001b[1;32mIn[83], line 1\u001b[0m\n\u001b[1;32m----> 1\u001b[0m a \u001b[38;5;241m=\u001b[39m lst\u001b[38;5;241m.\u001b[39mpop(\u001b[38;5;241m10\u001b[39m)\n",
      "\u001b[1;31mIndexError\u001b[0m: pop index out of range"
     ]
    }
   ],
   "source": [
    "a = lst.pop(10)"
   ]
  },
  {
   "cell_type": "markdown",
   "id": "e1d9229f-27b4-4410-84cc-c44e07c04c42",
   "metadata": {},
   "source": [
    "### remove()\n",
    "\n",
    "- It removes the first occurrenec of the specified element form left to right\n",
    "- If the element is not avaiable, then it will throw a value error "
   ]
  },
  {
   "cell_type": "code",
   "execution_count": 87,
   "id": "3faaf054-ed4c-4528-9f71-fd5f875368b2",
   "metadata": {},
   "outputs": [],
   "source": [
    "lst = [2, 1, 9, 4, 7, 7, 2, 9, 1, 1, 4, 2, 7, 5, 4, 7, 4, 6, 6, 8, 1, 3, 4, 6, 4, 3, 3, 3, 2, 8, 9, 5, 1, 7, 9, 8]"
   ]
  },
  {
   "cell_type": "code",
   "execution_count": 88,
   "id": "9c75b555-c920-4249-9b79-5a4b35fe8e7f",
   "metadata": {},
   "outputs": [],
   "source": [
    "lst.remove(1)"
   ]
  },
  {
   "cell_type": "code",
   "execution_count": 89,
   "id": "7d399cb2-5f06-4c34-94b5-5ad764aa997c",
   "metadata": {},
   "outputs": [
    {
     "name": "stdout",
     "output_type": "stream",
     "text": [
      "[2, 9, 4, 7, 7, 2, 9, 1, 1, 4, 2, 7, 5, 4, 7, 4, 6, 6, 8, 1, 3, 4, 6, 4, 3, 3, 3, 2, 8, 9, 5, 1, 7, 9, 8]\n"
     ]
    }
   ],
   "source": [
    "print(lst)"
   ]
  },
  {
   "cell_type": "code",
   "execution_count": 90,
   "id": "c2225943-b7c9-4419-8eb5-12624e504ad2",
   "metadata": {},
   "outputs": [
    {
     "ename": "ValueError",
     "evalue": "list.remove(x): x not in list",
     "output_type": "error",
     "traceback": [
      "\u001b[1;31m---------------------------------------------------------------------------\u001b[0m",
      "\u001b[1;31mValueError\u001b[0m                                Traceback (most recent call last)",
      "Cell \u001b[1;32mIn[90], line 1\u001b[0m\n\u001b[1;32m----> 1\u001b[0m lst\u001b[38;5;241m.\u001b[39mremove(\u001b[38;5;241m0\u001b[39m)\n",
      "\u001b[1;31mValueError\u001b[0m: list.remove(x): x not in list"
     ]
    }
   ],
   "source": [
    "lst.remove(0)"
   ]
  },
  {
   "cell_type": "markdown",
   "id": "dc017d54-581d-4a5e-8a5f-99cb0798ec93",
   "metadata": {},
   "source": [
    "### reverse()\n",
    "\n",
    "- It will reverse the list\n",
    "- It makes changes in the existing list only\n"
   ]
  },
  {
   "cell_type": "code",
   "execution_count": 96,
   "id": "805b47ed-803a-482c-884f-ccbfda6fe5bb",
   "metadata": {},
   "outputs": [],
   "source": [
    "lst = [2, 1, 9, 4, 7, 7, 2, 9, 1, 1, 4, 2, 7, 5, 4, 7, 4, 6, 6, 8, 1, 3, 4, 6, 4, 3, 3, 3, 2, 8, 9, 5, 1, 7, 9, 8]"
   ]
  },
  {
   "cell_type": "code",
   "execution_count": 97,
   "id": "03527214-5992-4120-b507-7808a2086d71",
   "metadata": {},
   "outputs": [
    {
     "name": "stdout",
     "output_type": "stream",
     "text": [
      "[2, 1, 9, 4, 7, 7, 2, 9, 1, 1, 4, 2, 7, 5, 4, 7, 4, 6, 6, 8, 1, 3, 4, 6, 4, 3, 3, 3, 2, 8, 9, 5, 1, 7, 9, 8] 3061590933888\n"
     ]
    }
   ],
   "source": [
    "print(lst, id(lst))"
   ]
  },
  {
   "cell_type": "code",
   "execution_count": 98,
   "id": "53e5bad3-20a5-4740-ab13-4b2dc07358f1",
   "metadata": {},
   "outputs": [],
   "source": [
    "lst.reverse()"
   ]
  },
  {
   "cell_type": "code",
   "execution_count": 99,
   "id": "e6442b64-b8d5-45de-b055-1d163f0ff913",
   "metadata": {},
   "outputs": [
    {
     "name": "stdout",
     "output_type": "stream",
     "text": [
      "[8, 9, 7, 1, 5, 9, 8, 2, 3, 3, 3, 4, 6, 4, 3, 1, 8, 6, 6, 4, 7, 4, 5, 7, 2, 4, 1, 1, 9, 2, 7, 7, 4, 9, 1, 2] 3061590933888\n"
     ]
    }
   ],
   "source": [
    "print(lst, id(lst))"
   ]
  },
  {
   "cell_type": "markdown",
   "id": "c0df925c-a017-44c8-8f43-934d79d069ac",
   "metadata": {},
   "source": [
    "### sort()\n",
    "\n",
    "- It will sort the list in ascending or descending order\n",
    "- By default, it will sort the list in the ascending order\n",
    "- It will make the changes in the existing list only"
   ]
  },
  {
   "cell_type": "markdown",
   "id": "f0cae314-cb71-48e5-a868-622fe5be650c",
   "metadata": {},
   "source": [
    "#### Ascending Order"
   ]
  },
  {
   "cell_type": "code",
   "execution_count": 100,
   "id": "9461764f-85c8-4c84-baf9-6d5ac8826eb1",
   "metadata": {},
   "outputs": [
    {
     "name": "stdout",
     "output_type": "stream",
     "text": [
      "[74, 65, 20, 4, 19, 15, 29, 66, 77, 20, 34, 83, 85, 20, 26, 98, 75, 35, 77, 68, 90, 56, 80, 72, 5, 73, 18, 78, 3, 99, 58, 84, 93, 38, 15, 77]\n"
     ]
    }
   ],
   "source": [
    "# Code to generate random values between a range\n",
    "import numpy as np\n",
    "np.random.seed()\n",
    "\n",
    "lst = list(np.random.randint(1,100, 36))\n",
    "print(lst)"
   ]
  },
  {
   "cell_type": "code",
   "execution_count": 101,
   "id": "15f98a81-d6e0-471b-8202-771f35f100fd",
   "metadata": {},
   "outputs": [
    {
     "name": "stdout",
     "output_type": "stream",
     "text": [
      "[3, 4, 5, 15, 15, 18, 19, 20, 20, 20, 26, 29, 34, 35, 38, 56, 58, 65, 66, 68, 72, 73, 74, 75, 77, 77, 77, 78, 80, 83, 84, 85, 90, 93, 98, 99]\n"
     ]
    }
   ],
   "source": [
    "lst.sort()\n",
    "print(lst)"
   ]
  },
  {
   "cell_type": "code",
   "execution_count": null,
   "id": "d0642ff5-81c6-48d6-ac86-19a4c13bf74d",
   "metadata": {},
   "outputs": [],
   "source": []
  },
  {
   "cell_type": "markdown",
   "id": "89e3f768-16ac-4828-920d-c84354044f7b",
   "metadata": {},
   "source": [
    "#### Descending Order "
   ]
  },
  {
   "cell_type": "code",
   "execution_count": 103,
   "id": "58586f0e-b993-4e9d-9fc2-7c0faf735c85",
   "metadata": {},
   "outputs": [
    {
     "name": "stdout",
     "output_type": "stream",
     "text": [
      "[41, 16, 73, 23, 44, 83, 76, 8, 35, 50, 96, 76, 86, 48, 64, 32, 91, 21, 38, 40, 68, 5, 43, 52, 39, 34, 59, 68, 70, 89, 69, 47, 71, 96, 84, 32]\n"
     ]
    }
   ],
   "source": [
    "# Code to generate random values between a range\n",
    "import numpy as np\n",
    "np.random.seed(2)\n",
    "\n",
    "lst = list(np.random.randint(1,100, 36))\n",
    "print(lst)"
   ]
  },
  {
   "cell_type": "code",
   "execution_count": 104,
   "id": "1ea2ede3-def0-4ff9-91aa-0e576c1f681c",
   "metadata": {},
   "outputs": [
    {
     "name": "stdout",
     "output_type": "stream",
     "text": [
      "[96, 96, 91, 89, 86, 84, 83, 76, 76, 73, 71, 70, 69, 68, 68, 64, 59, 52, 50, 48, 47, 44, 43, 41, 40, 39, 38, 35, 34, 32, 32, 23, 21, 16, 8, 5]\n"
     ]
    }
   ],
   "source": [
    "lst.sort(reverse = True)\n",
    "print(lst)"
   ]
  },
  {
   "cell_type": "code",
   "execution_count": null,
   "id": "becb74cb-efd6-48d0-88ba-3af8b8f12949",
   "metadata": {},
   "outputs": [],
   "source": []
  },
  {
   "cell_type": "markdown",
   "id": "65989f47-f187-4eeb-b815-3f77839352a9",
   "metadata": {},
   "source": [
    "### copy()\n",
    "\n",
    "- It copies the element from one list and returns a new list with all the same elements"
   ]
  },
  {
   "cell_type": "code",
   "execution_count": 107,
   "id": "f0baf560-5ea3-4bd7-aa9c-158d6f586c9f",
   "metadata": {},
   "outputs": [
    {
     "name": "stdout",
     "output_type": "stream",
     "text": [
      "[96, 96, 91, 89, 86, 84, 83, 76, 76, 73, 71, 70, 69, 68, 68, 64, 59, 52, 50, 48, 47, 44, 43, 41, 40, 39, 38, 35, 34, 32, 32, 23, 21, 16, 8, 5] 3061572143808\n"
     ]
    }
   ],
   "source": [
    "print(lst, id(lst)) "
   ]
  },
  {
   "cell_type": "code",
   "execution_count": 108,
   "id": "cf64c989-2fc1-4d54-be84-206e5173067d",
   "metadata": {},
   "outputs": [
    {
     "name": "stdout",
     "output_type": "stream",
     "text": [
      "[96, 96, 91, 89, 86, 84, 83, 76, 76, 73, 71, 70, 69, 68, 68, 64, 59, 52, 50, 48, 47, 44, 43, 41, 40, 39, 38, 35, 34, 32, 32, 23, 21, 16, 8, 5] 3061590953984\n"
     ]
    }
   ],
   "source": [
    "lst1 = lst.copy()\n",
    "print(lst1, id(lst1))"
   ]
  },
  {
   "cell_type": "code",
   "execution_count": 109,
   "id": "76a5dec9-525b-4502-bcef-af946754fcff",
   "metadata": {},
   "outputs": [],
   "source": [
    "lst2 = lst # aliasing "
   ]
  },
  {
   "cell_type": "code",
   "execution_count": 110,
   "id": "5faf1817-ede0-4c27-b126-f608d648b5c1",
   "metadata": {},
   "outputs": [
    {
     "data": {
      "text/plain": [
       "True"
      ]
     },
     "execution_count": 110,
     "metadata": {},
     "output_type": "execute_result"
    }
   ],
   "source": [
    "lst2 is lst"
   ]
  },
  {
   "cell_type": "code",
   "execution_count": 111,
   "id": "e1fe1165-6caf-43df-b668-f4d0e1953359",
   "metadata": {},
   "outputs": [
    {
     "data": {
      "text/plain": [
       "False"
      ]
     },
     "execution_count": 111,
     "metadata": {},
     "output_type": "execute_result"
    }
   ],
   "source": [
    "lst1 is lst"
   ]
  },
  {
   "cell_type": "markdown",
   "id": "618c2e4e-0d1f-4919-8406-d13b0076420d",
   "metadata": {},
   "source": [
    "Sure, here are 25 coding questions on list comprehension with varying levels of difficulty:\n",
    "\n",
    "1. Write a list comprehension to create a list of squares of numbers from 1 to 10.\n",
    "2. Create a list comprehension to extract even numbers from a given list.\n",
    "3. Use list comprehension to convert a list of strings to uppercase.\n",
    "4. Write a list comprehension to filter out vowels from a given string.\n",
    "5. Generate a list of tuples using list comprehension where each tuple contains a number and its square, for numbers from 1 to 5.\n",
    "6. Create a list comprehension to calculate the factorial of numbers from 1 to 5.\n",
    "7. Use list comprehension to extract words starting with a vowel from a sentence.\n",
    "8. Write a list comprehension to flatten a list of lists into a single list.\n",
    "9. Generate a list of prime numbers between 1 and 50 using list comprehension.\n",
    "10. Create a list comprehension to remove duplicates from a list.\n",
    "11. Write a list comprehension to reverse each string in a list of strings.\n",
    "12. Use list comprehension to find the lengths of words in a sentence.\n",
    "13. Generate a list of tuples using list comprehension where each tuple contains a number and its cube, for numbers from 1 to 5.\n",
    "14. Create a list comprehension to filter out negative numbers from a given list.\n",
    "15. Write a list comprehension to check if each element in a list is a palindrome.\n",
    "16. Use list comprehension to extract numbers from a string.\n",
    "17. Generate a list of Fibonacci numbers using list comprehension.\n",
    "18. Create a list comprehension to count the occurrences of each character in a string.\n",
    "19. Write a list comprehension to find the intersection of two lists.\n",
    "20. Use list comprehension to extract leap years from a given range of years.\n",
    "21. Generate a list of tuples using list comprehension where each tuple contains a letter and its ASCII value, for letters from 'A' to 'Z'.\n",
    "22. Create a list comprehension to sort a list of strings based on their lengths.\n",
    "23. Write a list comprehension to check if a list of numbers is in ascending order.\n",
    "24. Use list comprehension to extract email addresses from a given text.\n",
    "25. Generate a list of powers of 2 using list comprehension, up to a given exponent.\n",
    "\n",
    "These questions cover a range of concepts and can be used for practice and understanding list comprehension in Python."
   ]
  },
  {
   "cell_type": "code",
   "execution_count": null,
   "id": "e8315a82-0263-4fa7-b806-97249e255323",
   "metadata": {},
   "outputs": [],
   "source": [
    "Numpy\n",
    "pandas\n",
    "matplotlib\n",
    "seaborn \n",
    "\n",
    "sklearn -- Ml\n",
    "\n",
    "tensorflow/pytorch ---> Dl\n",
    "\n",
    "NLTk --- nlp \n",
    "\n",
    "cv --- computer "
   ]
  }
 ],
 "metadata": {
  "kernelspec": {
   "display_name": "Python 3 (ipykernel)",
   "language": "python",
   "name": "python3"
  },
  "language_info": {
   "codemirror_mode": {
    "name": "ipython",
    "version": 3
   },
   "file_extension": ".py",
   "mimetype": "text/x-python",
   "name": "python",
   "nbconvert_exporter": "python",
   "pygments_lexer": "ipython3",
   "version": "3.11.7"
  }
 },
 "nbformat": 4,
 "nbformat_minor": 5
}

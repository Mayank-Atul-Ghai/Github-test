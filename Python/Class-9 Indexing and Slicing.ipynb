{
 "cells": [
  {
   "cell_type": "markdown",
   "id": "fb2e1f06-7433-4599-b947-ad59546334f1",
   "metadata": {},
   "source": [
    "### Indexing and Slicing \n",
    "\n",
    "#### Indexing \n",
    "\n",
    "- A string is an sequential collection of data because it will retain the the order in which we have defined the string\n",
    "- They are also known as ordered collection\n",
    "- Indexing is that we have fixed a place of a character or an element in either a string, list or tuple\n",
    "- Indexing helps us to fetch that particular element out from either a string or a list or a tuple "
   ]
  },
  {
   "cell_type": "code",
   "execution_count": 1,
   "id": "fbb0027c-5499-40c0-874c-2716a020aeb8",
   "metadata": {},
   "outputs": [
    {
     "name": "stdout",
     "output_type": "stream",
     "text": [
      "0 M\n",
      "1 a\n",
      "2 y\n",
      "3 a\n",
      "4 n\n",
      "5 k\n",
      "6  \n",
      "7 G\n",
      "8 h\n",
      "9 a\n",
      "10 i\n"
     ]
    }
   ],
   "source": [
    "# The code to show you the index and the characters at the particular index\n",
    "\n",
    "a = 'Mayank Ghai'\n",
    "\n",
    "for i in range(len(a)):\n",
    "    print(i, a[i])"
   ]
  },
  {
   "cell_type": "markdown",
   "id": "bc2629d6-be30-42f2-9ad4-7959eacacca8",
   "metadata": {},
   "source": [
    "__Syntax:__\n",
    "\n",
    "\n",
    "            variable_name[index_of_the_character_We_want_to_fetch]"
   ]
  },
  {
   "cell_type": "code",
   "execution_count": 3,
   "id": "36776b47-df13-4fd1-a101-e805c326e40e",
   "metadata": {},
   "outputs": [
    {
     "data": {
      "text/plain": [
       "'n'"
      ]
     },
     "execution_count": 3,
     "metadata": {},
     "output_type": "execute_result"
    }
   ],
   "source": [
    "a[4]"
   ]
  },
  {
   "cell_type": "markdown",
   "id": "acceac82-8e63-4c56-946e-15988974382e",
   "metadata": {},
   "source": [
    "#### Positive Indexing \n",
    "\n",
    "- It will start moving from left hand side to right\n",
    "- The indexing will start from 0 (by default)\n",
    "- The index of the last element will going to be __len(string)-1__"
   ]
  },
  {
   "cell_type": "markdown",
   "id": "53c24df8-08e1-40eb-9554-0a69be43a5fe",
   "metadata": {},
   "source": [
    "                                     M A Y A N K \n",
    "                                     0 1 2 3 4 5 -----> positive indexing"
   ]
  },
  {
   "cell_type": "markdown",
   "id": "6f04d11e-b633-450b-93bc-c51d100be0d3",
   "metadata": {},
   "source": [
    "#### Negative Indexing \n",
    "\n",
    "- It will start moving right to left\n",
    "- The indexing in negative indexing will start from -1\n",
    "- The index of the last element in negative indexing will be __-len(string)__"
   ]
  },
  {
   "cell_type": "markdown",
   "id": "2c157b9b-f5bf-48aa-992b-dc4988a8718c",
   "metadata": {},
   "source": [
    "                                     M  A  Y  A  N  K \n",
    "                                    -6 -5 -4 -3 -2 -1  ----> Negative indexing "
   ]
  },
  {
   "cell_type": "markdown",
   "id": "1164da60-8966-4c46-8e78-4372042731d2",
   "metadata": {},
   "source": [
    "                                0   1   2  3   4   5  6  7  8  9  10 ----> Positive Indexing\n",
    "                                M   A   Y  A   N   K     G  H  A   I  \n",
    "                    `         -11 -10  -9 -8  -7  -6 -5 -4 -3 -2  -1 ----> Negative indexing"
   ]
  },
  {
   "cell_type": "code",
   "execution_count": 6,
   "id": "5a841431-60d4-49e1-a981-41f1935a9526",
   "metadata": {},
   "outputs": [
    {
     "name": "stdout",
     "output_type": "stream",
     "text": [
      "M\n",
      "M\n"
     ]
    }
   ],
   "source": [
    "# Fetching out M using positive indexing and negative indexing\n",
    "\n",
    "a = 'Mayank Ghai'\n",
    "\n",
    "# Positive indexing \n",
    "print(a[0])\n",
    "\n",
    "# Negative indexing\n",
    "print(a[-len(a)])"
   ]
  },
  {
   "cell_type": "code",
   "execution_count": 8,
   "id": "b0586198-769a-4c87-854f-d835bd3bf785",
   "metadata": {},
   "outputs": [
    {
     "name": "stdout",
     "output_type": "stream",
     "text": [
      "a\n",
      "a\n"
     ]
    }
   ],
   "source": [
    "# Fetch out the second a  from the string using positive indexing or negative indexing \n",
    "\n",
    "print(a[3])\n",
    "print(a[-8])"
   ]
  },
  {
   "cell_type": "code",
   "execution_count": 9,
   "id": "a58d9035-fd66-4dae-a803-2f679ed34d76",
   "metadata": {},
   "outputs": [
    {
     "data": {
      "text/plain": [
       "11"
      ]
     },
     "execution_count": 9,
     "metadata": {},
     "output_type": "execute_result"
    }
   ],
   "source": [
    "len(a)"
   ]
  },
  {
   "cell_type": "code",
   "execution_count": 11,
   "id": "e4cb7aeb-6650-42e6-a6fc-35f802ff8b97",
   "metadata": {},
   "outputs": [
    {
     "name": "stdout",
     "output_type": "stream",
     "text": [
      "h\n",
      "h\n"
     ]
    }
   ],
   "source": [
    "a = \"Python class\"\n",
    "\n",
    "# Fetch out the h using positive indexing and negative indexing \n",
    "\n",
    "print(a[3])\n",
    "print(a[-9])"
   ]
  },
  {
   "cell_type": "code",
   "execution_count": 12,
   "id": "c13f5ada-ad85-40eb-8a3b-ddab47c88e40",
   "metadata": {},
   "outputs": [
    {
     "name": "stdout",
     "output_type": "stream",
     "text": [
      "0 S\n",
      "1 h\n",
      "2 e\n",
      "3  \n",
      "4 s\n",
      "5 e\n",
      "6 l\n",
      "7 l\n",
      "8 s\n",
      "9  \n",
      "10 s\n",
      "11 e\n",
      "12 a\n",
      "13  \n",
      "14 s\n",
      "15 h\n",
      "16 e\n",
      "17 l\n",
      "18 l\n",
      "19 s\n",
      "20  \n",
      "21 o\n",
      "22 n\n",
      "23  \n",
      "24 t\n",
      "25 h\n",
      "26 e\n",
      "27  \n",
      "28 s\n",
      "29 e\n",
      "30 a\n",
      "31  \n",
      "32 s\n",
      "33 h\n",
      "34 o\n",
      "35 r\n",
      "36 e\n"
     ]
    }
   ],
   "source": [
    "# By chance if the string is to long\n",
    "\n",
    "a = 'She sells sea shells on the sea shore'\n",
    "\n",
    "for i in range(len(a)):\n",
    "    print(i, a[i])"
   ]
  },
  {
   "cell_type": "code",
   "execution_count": 15,
   "id": "6c840552-2622-48e2-ba98-207f810147a4",
   "metadata": {},
   "outputs": [
    {
     "name": "stdout",
     "output_type": "stream",
     "text": [
      "e -1\n",
      "r -2\n",
      "o -3\n",
      "h -4\n",
      "s -5\n",
      "  -6\n",
      "a -7\n",
      "e -8\n",
      "s -9\n",
      "  -10\n",
      "e -11\n",
      "h -12\n",
      "t -13\n",
      "  -14\n",
      "n -15\n",
      "o -16\n",
      "  -17\n",
      "s -18\n",
      "l -19\n",
      "l -20\n",
      "e -21\n",
      "h -22\n",
      "s -23\n",
      "  -24\n",
      "a -25\n",
      "e -26\n",
      "s -27\n",
      "  -28\n",
      "s -29\n",
      "l -30\n",
      "l -31\n",
      "e -32\n",
      "s -33\n",
      "  -34\n",
      "e -35\n",
      "h -36\n",
      "S -37\n"
     ]
    }
   ],
   "source": [
    "for i in range(1, len(a)+1): # [1, \n",
    "    print(a[-i], -i)"
   ]
  },
  {
   "cell_type": "markdown",
   "id": "f336accf-4498-436f-b81f-d2bed84f0772",
   "metadata": {},
   "source": [
    "### Slicing \n",
    "\n",
    "- Fetching out a sub-string from the main string\n",
    "- Slicing supports both Positive Slicing and Negative Slicing "
   ]
  },
  {
   "cell_type": "markdown",
   "id": "225c67cf-6b55-494a-b181-7869fb068571",
   "metadata": {},
   "source": [
    "### Positive Slicing \n",
    "\n",
    "- It uses Positive indexing to fetch out the sub-string from the main string\n",
    "\n",
    "__Syntax:__\n",
    "\n",
    "            variable_name[starting_index : ending_index : step-size]\n",
    "\n",
    "    where            \n",
    "    starting index: Index from where we want to start the slicing (by default, it will take the starting index as 0)\n",
    "    ending index (excluded): index till which we want the slicing to be executed (n+1) (by default, the ending index will go to the end of the string)\n",
    "    step-size or jump: how many jumps you want to make while slicing a sub-string (for positive indexing, by  default the step-size is 1]"
   ]
  },
  {
   "cell_type": "code",
   "execution_count": 16,
   "id": "08c44469-7cf4-46a9-9145-242143ad87d7",
   "metadata": {},
   "outputs": [
    {
     "data": {
      "text/plain": [
       "'She sells sea shells on the sea shore'"
      ]
     },
     "execution_count": 16,
     "metadata": {},
     "output_type": "execute_result"
    }
   ],
   "source": [
    "a"
   ]
  },
  {
   "cell_type": "code",
   "execution_count": 20,
   "id": "0a012293-77c7-476a-b167-2415501a7fc7",
   "metadata": {},
   "outputs": [
    {
     "name": "stdout",
     "output_type": "stream",
     "text": [
      "0 S\n",
      "1 h\n",
      "2 e\n",
      "3  \n",
      "4 s\n",
      "5 e\n",
      "6 l\n",
      "7 l\n",
      "8 s\n",
      "9  \n",
      "10 s\n",
      "11 e\n",
      "12 a\n",
      "13  \n",
      "14 s\n",
      "15 h\n",
      "16 e\n",
      "17 l\n",
      "18 l\n",
      "19 s\n",
      "20  \n",
      "21 o\n",
      "22 n\n",
      "23  \n",
      "24 t\n",
      "25 h\n",
      "26 e\n",
      "27  \n",
      "28 s\n",
      "29 e\n",
      "30 a\n",
      "31  \n",
      "32 s\n",
      "33 h\n",
      "34 o\n",
      "35 r\n",
      "36 e\n"
     ]
    }
   ],
   "source": [
    "# By chance if the string is to long\n",
    "\n",
    "a = 'She sells sea shells on the sea shore'\n",
    "\n",
    "for i in range(len(a)):\n",
    "    print(i, a[i])"
   ]
  },
  {
   "cell_type": "code",
   "execution_count": 18,
   "id": "eed5d86f-c1c1-4cc1-8098-b8a0b060327c",
   "metadata": {},
   "outputs": [
    {
     "data": {
      "text/plain": [
       "'sells sea shells'"
      ]
     },
     "execution_count": 18,
     "metadata": {},
     "output_type": "execute_result"
    }
   ],
   "source": [
    "a[4:20:1]"
   ]
  },
  {
   "cell_type": "code",
   "execution_count": 19,
   "id": "a22c5e5c-dccd-485e-bf0a-e2c89dc9a11d",
   "metadata": {},
   "outputs": [
    {
     "data": {
      "text/plain": [
       "'sells sea shells'"
      ]
     },
     "execution_count": 19,
     "metadata": {},
     "output_type": "execute_result"
    }
   ],
   "source": [
    "a[4]+a[5]+a[6]+a[7]+a[8]+a[9]+a[10]+a[11]+a[12]+a[13]+a[14]+a[15]+a[16]+a[17]+a[18]+a[19]"
   ]
  },
  {
   "cell_type": "code",
   "execution_count": 21,
   "id": "e24d35eb-d2d7-4be4-8d52-fdfee008b4bc",
   "metadata": {},
   "outputs": [
    {
     "data": {
      "text/plain": [
       "'sells sea shell'"
      ]
     },
     "execution_count": 21,
     "metadata": {},
     "output_type": "execute_result"
    }
   ],
   "source": [
    "a[4:19:1]"
   ]
  },
  {
   "cell_type": "code",
   "execution_count": 23,
   "id": "75635727-0817-4804-a4ab-750e850ee845",
   "metadata": {},
   "outputs": [
    {
     "data": {
      "text/plain": [
       "'slssasel'"
      ]
     },
     "execution_count": 23,
     "metadata": {},
     "output_type": "execute_result"
    }
   ],
   "source": [
    "a[4:20:2]\n",
    "\n",
    "# a[4]+a[6]+a[8]+a[10]+a[12]+a[14]+a[16]+a[18]"
   ]
  },
  {
   "cell_type": "code",
   "execution_count": 22,
   "id": "0f231391-ac67-40cc-b214-c62f4cdb03c4",
   "metadata": {},
   "outputs": [
    {
     "data": {
      "text/plain": [
       "'slssasel'"
      ]
     },
     "execution_count": 22,
     "metadata": {},
     "output_type": "execute_result"
    }
   ],
   "source": [
    "a[4]+a[6]+a[8]+a[10]+a[12]+a[14]+a[16]+a[18]"
   ]
  },
  {
   "cell_type": "code",
   "execution_count": 37,
   "id": "8865d2d2-8981-4a8d-bf88-2f963a89c60e",
   "metadata": {},
   "outputs": [
    {
     "data": {
      "text/plain": [
       "'She sells sea shells on the sea shore'"
      ]
     },
     "execution_count": 37,
     "metadata": {},
     "output_type": "execute_result"
    }
   ],
   "source": [
    "a[::]"
   ]
  },
  {
   "cell_type": "markdown",
   "id": "d4f31fcd-b9ce-41b1-be51-a802e842ec56",
   "metadata": {},
   "source": [
    "### Negative Slicing \n",
    "\n",
    "- It uses negative indexing to fetch out the sub-string from the main string\n",
    "\n",
    "__Syntax:__\n",
    "\n",
    "            variable_name[starting_index : ending_index : step-size]\n",
    "\n",
    "    where \n",
    "\n",
    "    step-size, we always have to -1\n",
    "    starting index --> -1\n",
    "    ending indexing ---> end of the string"
   ]
  },
  {
   "cell_type": "code",
   "execution_count": 24,
   "id": "e110439c-2eec-4e1b-8449-11412ad1ba15",
   "metadata": {},
   "outputs": [
    {
     "data": {
      "text/plain": [
       "'She sells sea shells on the sea shore'"
      ]
     },
     "execution_count": 24,
     "metadata": {},
     "output_type": "execute_result"
    }
   ],
   "source": [
    "a"
   ]
  },
  {
   "cell_type": "code",
   "execution_count": 25,
   "id": "abb922bb-f28a-4a09-bc8a-7ff46d904dfa",
   "metadata": {},
   "outputs": [
    {
     "data": {
      "text/plain": [
       "'erohs aes eht no sllehs aes slles ehS'"
      ]
     },
     "execution_count": 25,
     "metadata": {},
     "output_type": "execute_result"
    }
   ],
   "source": [
    "a[::-1]"
   ]
  },
  {
   "cell_type": "code",
   "execution_count": 26,
   "id": "96c761b2-9fa1-4bc2-8ee8-aff73e160fa1",
   "metadata": {},
   "outputs": [
    {
     "data": {
      "text/plain": [
       "'erohs aes eht no sllehs aes slles ehS'"
      ]
     },
     "execution_count": 26,
     "metadata": {},
     "output_type": "execute_result"
    }
   ],
   "source": [
    "a[-1::-1]"
   ]
  },
  {
   "cell_type": "code",
   "execution_count": 28,
   "id": "03d9f73d-0278-42f2-bea5-2c710df34739",
   "metadata": {},
   "outputs": [
    {
     "data": {
      "text/plain": [
       "'erohs'"
      ]
     },
     "execution_count": 28,
     "metadata": {},
     "output_type": "execute_result"
    }
   ],
   "source": [
    "a[-1:-6:-1]"
   ]
  },
  {
   "cell_type": "code",
   "execution_count": 30,
   "id": "95ca3421-03d8-4bdb-b2ab-db6db92df027",
   "metadata": {},
   "outputs": [
    {
     "data": {
      "text/plain": [
       "'erohs'"
      ]
     },
     "execution_count": 30,
     "metadata": {},
     "output_type": "execute_result"
    }
   ],
   "source": [
    "a[-1]+a[-2]+a[-3]+a[-4]+a[-5]"
   ]
  },
  {
   "cell_type": "markdown",
   "id": "665794d3-e9fe-47fe-bf9f-be4d1be29e6d",
   "metadata": {},
   "source": [
    "                                           32 33 34 35  36 \n",
    "                                            S  H  O  R  E\n",
    "                                           -5 -4 -3 -2 -1"
   ]
  },
  {
   "cell_type": "code",
   "execution_count": 31,
   "id": "94eb1b4d-23d9-47f1-81b2-0062faf4b0cc",
   "metadata": {},
   "outputs": [
    {
     "data": {
      "text/plain": [
       "''"
      ]
     },
     "execution_count": 31,
     "metadata": {},
     "output_type": "execute_result"
    }
   ],
   "source": [
    "a[-1:-6:]\n",
    "\n",
    "#a[-1]+a[0]"
   ]
  },
  {
   "cell_type": "code",
   "execution_count": 32,
   "id": "7055ca51-b72d-462f-bef3-369177cc1418",
   "metadata": {},
   "outputs": [
    {
     "data": {
      "text/plain": [
       "''"
      ]
     },
     "execution_count": 32,
     "metadata": {},
     "output_type": "execute_result"
    }
   ],
   "source": [
    "a[-6:-1:-1]\n",
    "\n",
    "# a[-6]+a[-7]"
   ]
  },
  {
   "cell_type": "code",
   "execution_count": null,
   "id": "c46b72d9-2ca3-47f7-bf8e-701e622801e3",
   "metadata": {},
   "outputs": [],
   "source": [
    "a[-6:-1:1]\n",
    "\n",
    "#a[-6]+a[-5]+a[-4]+a[-3]+a[-2]"
   ]
  },
  {
   "cell_type": "code",
   "execution_count": 33,
   "id": "f5d1054c-b408-4f28-8e52-24a3e2bbd5a5",
   "metadata": {},
   "outputs": [
    {
     "data": {
      "text/plain": [
       "' shor'"
      ]
     },
     "execution_count": 33,
     "metadata": {},
     "output_type": "execute_result"
    }
   ],
   "source": [
    "a[-6]+a[-5]+a[-4]+a[-3]+a[-2]"
   ]
  },
  {
   "cell_type": "code",
   "execution_count": 34,
   "id": "007b845d-0c4c-45f8-962c-1e2cb5617f0b",
   "metadata": {},
   "outputs": [
    {
     "data": {
      "text/plain": [
       "' shore'"
      ]
     },
     "execution_count": 34,
     "metadata": {},
     "output_type": "execute_result"
    }
   ],
   "source": [
    "a[-6::1]"
   ]
  },
  {
   "cell_type": "code",
   "execution_count": 35,
   "id": "fd5e83d5-b2a8-4c0b-a6eb-eecf9c68c2a3",
   "metadata": {},
   "outputs": [
    {
     "data": {
      "text/plain": [
       "'She sells sea shells on the sea shore'"
      ]
     },
     "execution_count": 35,
     "metadata": {},
     "output_type": "execute_result"
    }
   ],
   "source": [
    "a "
   ]
  },
  {
   "cell_type": "code",
   "execution_count": 36,
   "id": "8fdccc71-f098-47df-8d7b-76510cfcc738",
   "metadata": {},
   "outputs": [
    {
     "ename": "ValueError",
     "evalue": "slice step cannot be zero",
     "output_type": "error",
     "traceback": [
      "\u001b[1;31m---------------------------------------------------------------------------\u001b[0m",
      "\u001b[1;31mValueError\u001b[0m                                Traceback (most recent call last)",
      "Cell \u001b[1;32mIn[36], line 1\u001b[0m\n\u001b[1;32m----> 1\u001b[0m a[::\u001b[38;5;241m0\u001b[39m]\n",
      "\u001b[1;31mValueError\u001b[0m: slice step cannot be zero"
     ]
    }
   ],
   "source": [
    "a[::0]"
   ]
  },
  {
   "cell_type": "code",
   "execution_count": 44,
   "id": "eeaa565e-55c8-4e60-9858-9bc0325bc4ad",
   "metadata": {},
   "outputs": [
    {
     "name": "stdout",
     "output_type": "stream",
     "text": [
      "Python Class\n",
      "Python Class\n",
      "Python Class\n",
      "Python Class\n",
      "Python Class\n",
      "----------------------\n",
      "Python Class\n",
      "Python Class\n"
     ]
    }
   ],
   "source": [
    "a = 'Python Class'\n",
    "\n",
    "#Positive Indeing\n",
    "print(a[::])\n",
    "print(a[0::])\n",
    "print(a[0:12:])\n",
    "print(a[0:len(a):])\n",
    "print(a[0:len(a):1])\n",
    "\n",
    "# Negative indexing\n",
    "print('----------------------')\n",
    "print(a[-12::1])\n",
    "print(a[-12::])"
   ]
  },
  {
   "cell_type": "code",
   "execution_count": 45,
   "id": "9eef114c-ccc8-4f9b-b0fe-3b0077a43d33",
   "metadata": {},
   "outputs": [
    {
     "data": {
      "text/plain": [
       "'P'"
      ]
     },
     "execution_count": 45,
     "metadata": {},
     "output_type": "execute_result"
    }
   ],
   "source": [
    "a[-12::-1]\n",
    "\n",
    "#a[-12]+a[-13]"
   ]
  },
  {
   "cell_type": "code",
   "execution_count": 47,
   "id": "0fc5e980-f570-4754-83fd-72ee91693c6a",
   "metadata": {},
   "outputs": [
    {
     "data": {
      "text/plain": [
       "'ssalC nohtyP'"
      ]
     },
     "execution_count": 47,
     "metadata": {},
     "output_type": "execute_result"
    }
   ],
   "source": [
    "a[-1::-1]\n",
    "\n",
    "#a[-1]+a[-2]+a[-3]"
   ]
  },
  {
   "cell_type": "markdown",
   "id": "3f291e2e-476c-4014-8cae-8b64ae67f9b1",
   "metadata": {},
   "source": [
    "Sure, here are 20 coding questions based on indexing and slicing concepts in Python strings using the given string `a = \"I am a learnbay student\"`:\n",
    "\n",
    "1. Print the first character of the string.\n",
    "2. Print the last character of the string.\n",
    "3. Print the string in reverse order.\n",
    "4. Print every alternate character of the string starting from the first character.\n",
    "5. Print the characters from index 3 to index 10 (inclusive).\n",
    "6. Print the string excluding the last character.\n",
    "7. Print the string in uppercase.\n",
    "8. Print the string in lowercase.\n",
    "9. Print the length of the string.\n",
    "10. Print the middle character of the string.\n",
    "11. Print the characters of the string in reverse order using slicing.\n",
    "12. Replace \"learnbay\" with \"programming\" in the string and print it.\n",
    "13. Print the string in reverse order without using slicing.\n",
    "14. Print the characters of the string in a zigzag pattern starting from the first character.\n",
    "15. Reverse the words in the string and print it.\n",
    "16. Print the characters of the string in groups of 3.\n",
    "17. Remove all spaces from the string and print it.\n",
    "18. Print the string excluding the first 5 characters.\n",
    "19. Print the string with each word capitalized.\n",
    "20. Check if \"learnbay\" is present in the string and print True or False accordingly.\n",
    "\n",
    "You can use these questions to practice your skills with indexing and slicing in Python strings."
   ]
  },
  {
   "cell_type": "code",
   "execution_count": 49,
   "id": "d2101be2-69ad-4cf4-b753-2e387981e974",
   "metadata": {},
   "outputs": [
    {
     "name": "stdout",
     "output_type": "stream",
     "text": [
      "2\n"
     ]
    }
   ],
   "source": [
    "a = True \n",
    "b = True\n",
    "\n",
    "print(a+b)"
   ]
  },
  {
   "cell_type": "code",
   "execution_count": 50,
   "id": "2f9a49f3-2413-4599-bf00-01d7fc8b0e89",
   "metadata": {},
   "outputs": [
    {
     "name": "stdout",
     "output_type": "stream",
     "text": [
      "0\n"
     ]
    }
   ],
   "source": [
    "print(a-b)"
   ]
  },
  {
   "cell_type": "code",
   "execution_count": 51,
   "id": "f3aafcaf-be4c-49b0-82ad-081241f52516",
   "metadata": {},
   "outputs": [
    {
     "data": {
      "text/plain": [
       "True"
      ]
     },
     "execution_count": 51,
     "metadata": {},
     "output_type": "execute_result"
    }
   ],
   "source": [
    "1 == True"
   ]
  },
  {
   "cell_type": "code",
   "execution_count": 55,
   "id": "6afe6b6f-c10f-4b6c-9dab-7c30dcc3b032",
   "metadata": {},
   "outputs": [
    {
     "data": {
      "text/plain": [
       "True"
      ]
     },
     "execution_count": 55,
     "metadata": {},
     "output_type": "execute_result"
    }
   ],
   "source": [
    "a='Mayank Ghai'\n",
    "((('M' in a)or ('m' in a))and ('n' in a))\n"
   ]
  },
  {
   "cell_type": "code",
   "execution_count": null,
   "id": "9d91003a-404a-491e-b30b-82e2e919c14b",
   "metadata": {},
   "outputs": [],
   "source": [
    "print(10+(10*32)//2**5&20+(~(-10))<<2).\n"
   ]
  }
 ],
 "metadata": {
  "kernelspec": {
   "display_name": "Python 3 (ipykernel)",
   "language": "python",
   "name": "python3"
  },
  "language_info": {
   "codemirror_mode": {
    "name": "ipython",
    "version": 3
   },
   "file_extension": ".py",
   "mimetype": "text/x-python",
   "name": "python",
   "nbconvert_exporter": "python",
   "pygments_lexer": "ipython3",
   "version": "3.11.7"
  }
 },
 "nbformat": 4,
 "nbformat_minor": 5
}

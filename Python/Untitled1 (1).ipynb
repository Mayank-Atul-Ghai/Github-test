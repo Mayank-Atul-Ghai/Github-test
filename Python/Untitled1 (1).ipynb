{
 "cells": [
  {
   "cell_type": "markdown",
   "id": "65183764-095d-4643-9bc5-6b37e2abf53d",
   "metadata": {},
   "source": [
    "### ljust, rjust and Center \n",
    "\n",
    "- These are the justification methods\n",
    "- These methods are used to add a specific character either on the left side or on the right side or on both side of the string\n",
    "- By default, space if considered as the specified character"
   ]
  },
  {
   "cell_type": "markdown",
   "id": "ed3db4bd-37d1-4180-bc97-36c39dd491f8",
   "metadata": {},
   "source": [
    "#### ljust\n",
    "\n",
    "- This method are used to add a specific character\n",
    "\n",
    "__Syntax:__ \n",
    "\n",
    "                my_str.ljust(len of the resultant string, 'character')\n",
    "                                    or\n",
    "                my_str.ljust(len(my_str)+number of the character, 'character')"
   ]
  },
  {
   "cell_type": "markdown",
   "id": "a8ac318a-7ca1-48b6-a5e0-817640d48801",
   "metadata": {},
   "source": [
    "my_str = 'Python'\n",
    "\n",
    "Output = Python__\n",
    "\n",
    "\n",
    "                               P y t h o n _ _\n",
    "                               _ _ _ _ _ _ _ _"
   ]
  },
  {
   "cell_type": "code",
   "execution_count": 1,
   "id": "cd435209-010f-48e4-952d-35b1feab8ef9",
   "metadata": {},
   "outputs": [
    {
     "data": {
      "text/plain": [
       "'Python__'"
      ]
     },
     "execution_count": 1,
     "metadata": {},
     "output_type": "execute_result"
    }
   ],
   "source": [
    "my_str = 'Python'\n",
    "\n",
    "my_str.ljust(8, '_')"
   ]
  },
  {
   "cell_type": "code",
   "execution_count": 2,
   "id": "8ac1964c-235a-48e3-bf30-44466da4ac4a",
   "metadata": {},
   "outputs": [
    {
     "data": {
      "text/plain": [
       "'Python__'"
      ]
     },
     "execution_count": 2,
     "metadata": {},
     "output_type": "execute_result"
    }
   ],
   "source": [
    "my_str.ljust(len(my_str)+2, '_')"
   ]
  },
  {
   "cell_type": "markdown",
   "id": "d9c3fb99-0cd7-40a1-a664-0ac8194cc5fa",
   "metadata": {},
   "source": [
    "### rjust\n",
    "my_str = 'Python'\n",
    "\n",
    "Output = +_Python\n",
    "\n",
    "\n",
    "                               _ _ P y t h o n \n",
    "                               _ _ _ _ _ _ _ _\n"
   ]
  },
  {
   "cell_type": "code",
   "execution_count": 3,
   "id": "4ea30dfc-a2b9-4324-9ef3-777a92623eec",
   "metadata": {},
   "outputs": [
    {
     "data": {
      "text/plain": [
       "'_Python'"
      ]
     },
     "execution_count": 3,
     "metadata": {},
     "output_type": "execute_result"
    }
   ],
   "source": [
    "my_str.rjust(len(my_str)+1, '_')"
   ]
  },
  {
   "cell_type": "code",
   "execution_count": 4,
   "id": "f1a568bc-0e28-4a2d-aabe-75c2db328331",
   "metadata": {},
   "outputs": [
    {
     "data": {
      "text/plain": [
       "'+_Python'"
      ]
     },
     "execution_count": 4,
     "metadata": {},
     "output_type": "execute_result"
    }
   ],
   "source": [
    "my_str.rjust(len(my_str)+1, '_').rjust(len(my_str)+1+1, '+')"
   ]
  },
  {
   "cell_type": "code",
   "execution_count": 7,
   "id": "d4987250-e579-4502-81c1-14556e8c84a0",
   "metadata": {},
   "outputs": [
    {
     "data": {
      "text/plain": [
       "'+_Python'"
      ]
     },
     "execution_count": 7,
     "metadata": {},
     "output_type": "execute_result"
    }
   ],
   "source": [
    "a = my_str.rjust(len(my_str)+1, '_')\n",
    "a.rjust(len(a)+1, '+')"
   ]
  },
  {
   "cell_type": "code",
   "execution_count": 11,
   "id": "4b36c5af-37d5-4f9f-969a-d0f3b46cb769",
   "metadata": {},
   "outputs": [
    {
     "ename": "TypeError",
     "evalue": "The fill character must be exactly one character long",
     "output_type": "error",
     "traceback": [
      "\u001b[1;31m---------------------------------------------------------------------------\u001b[0m",
      "\u001b[1;31mTypeError\u001b[0m                                 Traceback (most recent call last)",
      "Cell \u001b[1;32mIn[11], line 1\u001b[0m\n\u001b[1;32m----> 1\u001b[0m my_str\u001b[38;5;241m.\u001b[39mrjust(\u001b[38;5;28mlen\u001b[39m(my_str)\u001b[38;5;241m+\u001b[39m\u001b[38;5;241m2\u001b[39m,\u001b[38;5;124m'\u001b[39m\u001b[38;5;124m+_\u001b[39m\u001b[38;5;124m'\u001b[39m)\n",
      "\u001b[1;31mTypeError\u001b[0m: The fill character must be exactly one character long"
     ]
    }
   ],
   "source": [
    "my_str.rjust(len(my_str)+2,'+_')\n"
   ]
  },
  {
   "cell_type": "markdown",
   "id": "183b2a41-618b-4fc9-967c-52e09332958d",
   "metadata": {},
   "source": [
    "### center \n",
    "\n",
    "- It adds a specified character on both the side of the strings\n",
    "\n",
    "__Syntax:__\n",
    "\n",
    "            my_str.center(len of the resultant string, 'character')\n",
    "                             or \n",
    "            my_str.center(len(my_str)+number of character, 'character')"
   ]
  },
  {
   "cell_type": "code",
   "execution_count": 12,
   "id": "b9c27c97-bbe3-467f-a3ff-3e37cdb13965",
   "metadata": {},
   "outputs": [
    {
     "data": {
      "text/plain": [
       "'Python'"
      ]
     },
     "execution_count": 12,
     "metadata": {},
     "output_type": "execute_result"
    }
   ],
   "source": [
    "my_str "
   ]
  },
  {
   "cell_type": "code",
   "execution_count": 13,
   "id": "57b31a36-acad-457f-84f2-bd755ece4c4e",
   "metadata": {},
   "outputs": [
    {
     "data": {
      "text/plain": [
       "'++Python++'"
      ]
     },
     "execution_count": 13,
     "metadata": {},
     "output_type": "execute_result"
    }
   ],
   "source": [
    "my_str.center(len(my_str)+4, '+')"
   ]
  },
  {
   "cell_type": "code",
   "execution_count": 14,
   "id": "3eafea3f-3c73-43fc-94b3-fb39413ebf9b",
   "metadata": {},
   "outputs": [
    {
     "data": {
      "text/plain": [
       "'+++Python++'"
      ]
     },
     "execution_count": 14,
     "metadata": {},
     "output_type": "execute_result"
    }
   ],
   "source": [
    "my_str.center(len(my_str)+5, '+')"
   ]
  },
  {
   "cell_type": "code",
   "execution_count": 15,
   "id": "f0992c51-5113-48da-815f-a0af7f0e9b5a",
   "metadata": {},
   "outputs": [
    {
     "data": {
      "text/plain": [
       "'++jay+++'"
      ]
     },
     "execution_count": 15,
     "metadata": {},
     "output_type": "execute_result"
    }
   ],
   "source": [
    "my_str = 'jay'\n",
    "my_str.center(len(my_str)+5, '+')"
   ]
  },
  {
   "cell_type": "markdown",
   "id": "50688111-bc2f-46e6-a613-815bf70488a9",
   "metadata": {},
   "source": [
    "__Note:__\n",
    "\n",
    "- If the length of the string is odd, preference will be given to the right\n",
    "- If the length of the string is even, preference will be given to the left "
   ]
  },
  {
   "cell_type": "markdown",
   "id": "765afd46-a5dc-4dbd-b6a7-4b7ec4b04797",
   "metadata": {},
   "source": [
    "#### To add a specfied character in the left hand side and another character on the right hand side "
   ]
  },
  {
   "cell_type": "code",
   "execution_count": 34,
   "id": "2cb211b4-f677-4ce6-995d-75739fe3dfb3",
   "metadata": {},
   "outputs": [
    {
     "name": "stdout",
     "output_type": "stream",
     "text": [
      "Alphabet--\n"
     ]
    },
    {
     "data": {
      "text/plain": [
       "'++Alphabet--'"
      ]
     },
     "execution_count": 34,
     "metadata": {},
     "output_type": "execute_result"
    }
   ],
   "source": [
    "# Output = ++Data--\n",
    "\n",
    "my_str = 'Alphabet'\n",
    "b = my_str.ljust(len(my_str)+2,'-')\n",
    "print(b)\n",
    "c = b.rjust(len(b)+2, '+')\n",
    "c"
   ]
  },
  {
   "cell_type": "code",
   "execution_count": 25,
   "id": "f887fcdf-b560-4a08-9ecd-981e33155321",
   "metadata": {},
   "outputs": [
    {
     "data": {
      "text/plain": [
       "'++Data--'"
      ]
     },
     "execution_count": 25,
     "metadata": {},
     "output_type": "execute_result"
    }
   ],
   "source": [
    "my_str.ljust(len(my_str)+2, '-').rjust(len(my_str)+2+2, '+')"
   ]
  },
  {
   "cell_type": "code",
   "execution_count": 27,
   "id": "87aaca8a-0ff6-43b3-bdd7-32b8bcaf1057",
   "metadata": {},
   "outputs": [
    {
     "data": {
      "text/plain": [
       "'Data'"
      ]
     },
     "execution_count": 27,
     "metadata": {},
     "output_type": "execute_result"
    }
   ],
   "source": [
    "my_str.ljust(len(my_str), '-')"
   ]
  },
  {
   "cell_type": "code",
   "execution_count": 33,
   "id": "dd7db753-24d4-4d97-bd29-5ae836d2b10e",
   "metadata": {},
   "outputs": [
    {
     "data": {
      "text/plain": [
       "'^^Data-'"
      ]
     },
     "execution_count": 33,
     "metadata": {},
     "output_type": "execute_result"
    }
   ],
   "source": [
    "my_str.ljust(len(my_str)+1,'-').rjust(len(my_str)+1+2,'^') \n"
   ]
  },
  {
   "cell_type": "code",
   "execution_count": 35,
   "id": "d3fddbbb-7d17-4b62-8c1e-6c02da1f2075",
   "metadata": {},
   "outputs": [
    {
     "name": "stdout",
     "output_type": "stream",
     "text": [
      "Alphabet\n"
     ]
    },
    {
     "data": {
      "text/plain": [
       "'++Alphabet'"
      ]
     },
     "execution_count": 35,
     "metadata": {},
     "output_type": "execute_result"
    }
   ],
   "source": [
    "\n",
    "my_str = 'Alphabet'\n",
    "b = my_str.ljust(len(my_str),'-')\n",
    "print(b)\n",
    "c = b.rjust(len(b)+2, '+')\n",
    "c"
   ]
  },
  {
   "cell_type": "markdown",
   "id": "b93cdb95-30c4-4d14-85fa-09a41ea1f609",
   "metadata": {},
   "source": [
    "#### isalnum()\n",
    "\n",
    "- It will return a True if all the characters of the string are alphanumeric else it will return a False\n",
    "- Alpha-numeric means it should have 'A-Z', 'a-z' or '0-9'\n",
    "- It can be any combination of the above-specified things\n",
    "- Special characters ,underscore and space are not allowed "
   ]
  },
  {
   "cell_type": "code",
   "execution_count": 36,
   "id": "7465dc3a-2002-42b1-907e-712d4ed5680d",
   "metadata": {},
   "outputs": [
    {
     "name": "stdout",
     "output_type": "stream",
     "text": [
      "True\n"
     ]
    }
   ],
   "source": [
    "my_str = 'Data'\n",
    "print(my_str.isalnum())"
   ]
  },
  {
   "cell_type": "code",
   "execution_count": 37,
   "id": "4cff0b29-a0fe-4033-9c92-57f6b9f3e33a",
   "metadata": {},
   "outputs": [
    {
     "name": "stdout",
     "output_type": "stream",
     "text": [
      "True\n"
     ]
    }
   ],
   "source": [
    "my_str = '1123'\n",
    "print(my_str.isalnum())"
   ]
  },
  {
   "cell_type": "code",
   "execution_count": 38,
   "id": "c441ce21-8bee-4485-86bc-57a8697f1632",
   "metadata": {},
   "outputs": [
    {
     "name": "stdout",
     "output_type": "stream",
     "text": [
      "True\n"
     ]
    }
   ],
   "source": [
    "my_str = 'Data123'\n",
    "print(my_str.isalnum())\n"
   ]
  },
  {
   "cell_type": "code",
   "execution_count": 39,
   "id": "51058c04-abd3-4244-b757-beb5421c47dd",
   "metadata": {},
   "outputs": [
    {
     "name": "stdout",
     "output_type": "stream",
     "text": [
      "False\n"
     ]
    }
   ],
   "source": [
    "my_str = 'Data123@'\n",
    "print(my_str.isalnum())"
   ]
  },
  {
   "cell_type": "code",
   "execution_count": 41,
   "id": "286d975d-2cf1-4767-967c-57cd7cc67d6e",
   "metadata": {},
   "outputs": [
    {
     "name": "stdout",
     "output_type": "stream",
     "text": [
      "False\n"
     ]
    }
   ],
   "source": [
    "my_str = 'Data 123'\n",
    "print(my_str.isalnum())"
   ]
  },
  {
   "cell_type": "code",
   "execution_count": 42,
   "id": "ef50d417-fc72-4016-a181-9a5840c7871b",
   "metadata": {},
   "outputs": [
    {
     "name": "stdout",
     "output_type": "stream",
     "text": [
      "False\n"
     ]
    }
   ],
   "source": [
    "my_str = 'Data_123'\n",
    "print(my_str.isalnum())"
   ]
  },
  {
   "cell_type": "markdown",
   "id": "7e61c0d3-9f38-4c09-b836-1f1955b1d7cb",
   "metadata": {},
   "source": [
    "### isalpha()\n",
    "\n",
    "- It will return a True, if all the characters of the string are alphabets else it will return a False\n",
    "- Here, the string should be a combination of 'A-Z' or 'a-z'\n",
    "- No digits, no special character, no underscore and no spaces are allowed"
   ]
  },
  {
   "cell_type": "code",
   "execution_count": 43,
   "id": "a09a02fc-a7d8-46c8-bc88-2d8579249f72",
   "metadata": {},
   "outputs": [
    {
     "name": "stdout",
     "output_type": "stream",
     "text": [
      "True\n"
     ]
    }
   ],
   "source": [
    "my_str = 'Data'\n",
    "print(my_str.isalpha())"
   ]
  },
  {
   "cell_type": "code",
   "execution_count": 44,
   "id": "6813d5e4-24eb-4abe-a048-0c14679f06fa",
   "metadata": {},
   "outputs": [
    {
     "name": "stdout",
     "output_type": "stream",
     "text": [
      "True\n"
     ]
    }
   ],
   "source": [
    "my_str = 'data'\n",
    "print(my_str.isalpha())"
   ]
  },
  {
   "cell_type": "code",
   "execution_count": 45,
   "id": "6e818fdd-f3e9-4b00-b98a-635cf91cef7b",
   "metadata": {},
   "outputs": [
    {
     "name": "stdout",
     "output_type": "stream",
     "text": [
      "False\n"
     ]
    }
   ],
   "source": [
    "my_str = 'data1'\n",
    "print(my_str.isalpha())"
   ]
  },
  {
   "cell_type": "markdown",
   "id": "739120cb-d649-4c26-8421-bbcdaee1a829",
   "metadata": {},
   "source": [
    "### isupper()\n",
    "\n",
    "- It will return a True, if all the character of the string are in uppercase else it will return a False\n",
    "- It will not throw any error, if we include a special character, space, digit and even an underscore "
   ]
  },
  {
   "cell_type": "code",
   "execution_count": 46,
   "id": "94d4be5a-5b56-42c3-81d7-90c1b874abc1",
   "metadata": {},
   "outputs": [
    {
     "name": "stdout",
     "output_type": "stream",
     "text": [
      "False\n"
     ]
    }
   ],
   "source": [
    "my_str = 'Data'\n",
    "print(my_str.isupper())"
   ]
  },
  {
   "cell_type": "code",
   "execution_count": 47,
   "id": "2f337bb1-a7eb-4a5f-9ff4-3fd7d8e9fe39",
   "metadata": {},
   "outputs": [
    {
     "name": "stdout",
     "output_type": "stream",
     "text": [
      "True\n"
     ]
    }
   ],
   "source": [
    "my_str = 'DATA'\n",
    "print(my_str.isupper())"
   ]
  },
  {
   "cell_type": "code",
   "execution_count": 48,
   "id": "18b023db-7e82-488c-ab46-78e323757e24",
   "metadata": {},
   "outputs": [
    {
     "name": "stdout",
     "output_type": "stream",
     "text": [
      "True\n"
     ]
    }
   ],
   "source": [
    "my_str = 'DATA@'\n",
    "print(my_str.isupper())"
   ]
  },
  {
   "cell_type": "code",
   "execution_count": 53,
   "id": "3583fdde-0dfe-4368-ace3-443ec6144b5e",
   "metadata": {},
   "outputs": [
    {
     "name": "stdout",
     "output_type": "stream",
     "text": [
      "False\n"
     ]
    }
   ],
   "source": [
    "my_str = '11112'\n",
    "print(my_str.isupper())"
   ]
  },
  {
   "cell_type": "markdown",
   "id": "ab8732bd-134f-4f7d-9210-b0a84f557dc0",
   "metadata": {},
   "source": [
    "### islower()\n",
    "\n",
    "- It will return a True, if all the character of the string are in lowercase else it will return a False\n",
    "- It will not throw any error, if we include a special character, space, digit and even an underscore "
   ]
  },
  {
   "cell_type": "code",
   "execution_count": 51,
   "id": "cde7bfc2-04db-4035-83ab-c47e3065aaf1",
   "metadata": {},
   "outputs": [
    {
     "name": "stdout",
     "output_type": "stream",
     "text": [
      "True\n"
     ]
    }
   ],
   "source": [
    "my_str = 'data'\n",
    "print(my_str.islower())"
   ]
  },
  {
   "cell_type": "code",
   "execution_count": 52,
   "id": "6fc15305-200c-436d-8a3c-1db96291e061",
   "metadata": {},
   "outputs": [
    {
     "name": "stdout",
     "output_type": "stream",
     "text": [
      "False\n"
     ]
    }
   ],
   "source": [
    "my_str = '1111'\n",
    "print(my_str.islower())"
   ]
  },
  {
   "cell_type": "code",
   "execution_count": 54,
   "id": "54ac4a65-1c36-4165-8851-06c68dbc1b54",
   "metadata": {},
   "outputs": [
    {
     "name": "stdout",
     "output_type": "stream",
     "text": [
      "False\n"
     ]
    }
   ],
   "source": [
    "my_str = 'DATA'\n",
    "print(my_str.islower())"
   ]
  },
  {
   "cell_type": "markdown",
   "id": "4edf64b4-805d-4209-af66-073fa28a718f",
   "metadata": {},
   "source": [
    "### istitle()\n",
    "\n",
    "- It returns a True if the string is in Title case means every first letter of a word in a sentence should be uppercase else it will return a False"
   ]
  },
  {
   "cell_type": "code",
   "execution_count": 55,
   "id": "94656c23-623f-4fa0-818a-bcc5304f1e00",
   "metadata": {},
   "outputs": [
    {
     "name": "stdout",
     "output_type": "stream",
     "text": [
      "False\n"
     ]
    }
   ],
   "source": [
    "a = 'Data science'\n",
    "print(a.istitle())"
   ]
  },
  {
   "cell_type": "code",
   "execution_count": 59,
   "id": "32b690af-389f-46bc-b21c-4aa5fec2f42c",
   "metadata": {},
   "outputs": [
    {
     "name": "stdout",
     "output_type": "stream",
     "text": [
      "True\n"
     ]
    }
   ],
   "source": [
    "a = 'Data Science'\n",
    "print(a.istitle())"
   ]
  },
  {
   "cell_type": "markdown",
   "id": "4932ee35-385a-452d-98a1-69be805129a2",
   "metadata": {},
   "source": [
    "### isspace()\n",
    "\n",
    "- It will return a True if all the characters in the string are space characters\n",
    "- Space characters - \\n, \\t, \\v, \\r and space"
   ]
  },
  {
   "cell_type": "code",
   "execution_count": 60,
   "id": "165fae91-ca39-4e69-bea2-bcb6dff6fe95",
   "metadata": {},
   "outputs": [
    {
     "name": "stdout",
     "output_type": "stream",
     "text": [
      "True\n"
     ]
    }
   ],
   "source": [
    "my_str = ' '\n",
    "print(my_str.isspace())"
   ]
  },
  {
   "cell_type": "code",
   "execution_count": 64,
   "id": "aef9ae7b-3544-4885-b37d-1b8f66025eee",
   "metadata": {},
   "outputs": [
    {
     "name": "stdout",
     "output_type": "stream",
     "text": [
      "True\n"
     ]
    }
   ],
   "source": [
    "my_str = '\\n'\n",
    "print(my_str.isspace())"
   ]
  },
  {
   "cell_type": "code",
   "execution_count": 63,
   "id": "96d0d134-bca8-4ac5-a9ab-7fa6fd8e38f5",
   "metadata": {},
   "outputs": [
    {
     "name": "stdout",
     "output_type": "stream",
     "text": [
      "False\n"
     ]
    }
   ],
   "source": [
    "my_str = 'Mayank\\n'\n",
    "print(my_str.isspace())"
   ]
  },
  {
   "cell_type": "markdown",
   "id": "2a69ed9f-403e-416f-a1c6-a0f77bae290a",
   "metadata": {},
   "source": [
    "### startswith()\n",
    "\n",
    "- It will return a True if the string starts with a specified character or a specified sub-string else it will return a False"
   ]
  },
  {
   "cell_type": "code",
   "execution_count": 66,
   "id": "c33cc896-cad5-4ac7-b9bd-0f42b72b5f8f",
   "metadata": {},
   "outputs": [
    {
     "name": "stdout",
     "output_type": "stream",
     "text": [
      "True\n"
     ]
    }
   ],
   "source": [
    "my_str = 'data science'\n",
    "print(my_str.startswith('d'))"
   ]
  },
  {
   "cell_type": "code",
   "execution_count": 67,
   "id": "ffee636b-df2e-4e44-9064-41b2e36cd4e1",
   "metadata": {},
   "outputs": [
    {
     "name": "stdout",
     "output_type": "stream",
     "text": [
      "True\n"
     ]
    }
   ],
   "source": [
    "my_str = 'data science'\n",
    "print(my_str.startswith('da'))"
   ]
  },
  {
   "cell_type": "code",
   "execution_count": 68,
   "id": "27f9ab71-df5a-43ef-8451-ee5ef681644d",
   "metadata": {},
   "outputs": [
    {
     "name": "stdout",
     "output_type": "stream",
     "text": [
      "True\n"
     ]
    }
   ],
   "source": [
    "my_str = 'data science'\n",
    "print(my_str.startswith('data'))"
   ]
  },
  {
   "cell_type": "code",
   "execution_count": 69,
   "id": "baa1b2bc-71ff-42ec-a407-f1057de6d3d0",
   "metadata": {},
   "outputs": [
    {
     "name": "stdout",
     "output_type": "stream",
     "text": [
      "False\n"
     ]
    }
   ],
   "source": [
    "my_str = 'data science'\n",
    "print(my_str.startswith('data1'))"
   ]
  },
  {
   "cell_type": "markdown",
   "id": "2a356d02-d3a0-4447-935a-05319fd97fbb",
   "metadata": {},
   "source": [
    "### endswith()\n",
    "\n",
    "- It will return a True if the string ends with a specified character or a specified sub-string else it will return a False"
   ]
  },
  {
   "cell_type": "code",
   "execution_count": 72,
   "id": "039a8ce6-1869-477d-acbd-251154fd1614",
   "metadata": {},
   "outputs": [
    {
     "name": "stdout",
     "output_type": "stream",
     "text": [
      "True\n"
     ]
    }
   ],
   "source": [
    "my_str = 'data science'\n",
    "print(my_str.endswith('e'))"
   ]
  },
  {
   "cell_type": "code",
   "execution_count": 73,
   "id": "cc0cc52a-2d25-43de-a61d-b09d6a95c6ad",
   "metadata": {},
   "outputs": [
    {
     "name": "stdout",
     "output_type": "stream",
     "text": [
      "True\n"
     ]
    }
   ],
   "source": [
    "my_str = 'data science'\n",
    "print(my_str.endswith('ce'))"
   ]
  },
  {
   "cell_type": "code",
   "execution_count": 74,
   "id": "043fd3d9-5819-484c-bfa5-6605562a59f4",
   "metadata": {},
   "outputs": [
    {
     "name": "stdout",
     "output_type": "stream",
     "text": [
      "False\n"
     ]
    }
   ],
   "source": [
    "print(my_str.endswith('de'))\n"
   ]
  },
  {
   "cell_type": "code",
   "execution_count": 75,
   "id": "554399ec-930e-48bf-8588-24b7053e4603",
   "metadata": {},
   "outputs": [
    {
     "name": "stdout",
     "output_type": "stream",
     "text": [
      "True\n"
     ]
    }
   ],
   "source": [
    "print(my_str.endswith('ata science'))"
   ]
  },
  {
   "cell_type": "markdown",
   "id": "bdaa31ad-e6aa-4cb3-91b0-035456855929",
   "metadata": {},
   "source": [
    "### Identifiers \n",
    "\n",
    "- An identifier is a name in Python\n",
    "- Variable name, function name, object name, class name\n",
    "\n",
    "#### Properties of Identifiers \n",
    "\n",
    "- An identifier may have alphanumeric characters (A-Z, a-z or 0-9) and underscore (_)\n",
    "- An identifier may begin with an alphabet or an underscore, but it should never begin with a number\n",
    "- An identifier may have a number but after an alphabet or an underscore\n",
    "- No special characters are allowed\n",
    "- It is case sensitive i.e. Python and python are treated differently "
   ]
  },
  {
   "cell_type": "markdown",
   "id": "c3b56128-dd05-40fb-b292-cf82f36c5dff",
   "metadata": {},
   "source": [
    "#### isidentifier()\n",
    "\n",
    "- It will return a True if the string is a valid identifier else it will return a False"
   ]
  },
  {
   "cell_type": "code",
   "execution_count": 76,
   "id": "6737b97d-0bba-42f0-83f5-06245467362e",
   "metadata": {},
   "outputs": [
    {
     "name": "stdout",
     "output_type": "stream",
     "text": [
      "True\n"
     ]
    }
   ],
   "source": [
    "a = 'Mayank_ghai_123'\n",
    "print(a.isidentifier())"
   ]
  },
  {
   "cell_type": "code",
   "execution_count": 77,
   "id": "39f69009-4705-456f-a752-de7a1ef375d2",
   "metadata": {},
   "outputs": [
    {
     "name": "stdout",
     "output_type": "stream",
     "text": [
      "False\n"
     ]
    }
   ],
   "source": [
    "a = 'Mayank_ghai_!23'\n",
    "print(a.isidentifier())"
   ]
  },
  {
   "cell_type": "code",
   "execution_count": 78,
   "id": "71747258-cd27-4ba8-ac12-f2f4336ec030",
   "metadata": {},
   "outputs": [
    {
     "name": "stdout",
     "output_type": "stream",
     "text": [
      "False\n"
     ]
    }
   ],
   "source": [
    "a = '123Mayank_ghai_'\n",
    "print(a.isidentifier())"
   ]
  },
  {
   "cell_type": "code",
   "execution_count": 79,
   "id": "91c0dc18-fee3-4743-b03f-c2eff60ff46f",
   "metadata": {},
   "outputs": [
    {
     "name": "stdout",
     "output_type": "stream",
     "text": [
      "True\n"
     ]
    }
   ],
   "source": [
    "a = '_123Mayank_ghai_'\n",
    "print(a.isidentifier())"
   ]
  },
  {
   "cell_type": "markdown",
   "id": "860017ad-d8f1-417d-ad29-be7b48251e03",
   "metadata": {},
   "source": [
    "#### isprintable()\n",
    "\n",
    "- It returns a True if all the characters in the string are printable else it will return a False"
   ]
  },
  {
   "cell_type": "code",
   "execution_count": 80,
   "id": "4561395f-ef30-4aa2-8bb8-0b747e60280b",
   "metadata": {},
   "outputs": [
    {
     "name": "stdout",
     "output_type": "stream",
     "text": [
      "True\n"
     ]
    }
   ],
   "source": [
    "a = 'Hello world'\n",
    "print(a.isprintable())"
   ]
  },
  {
   "cell_type": "code",
   "execution_count": 81,
   "id": "75a78815-daa0-409a-bdc3-615bfbc662db",
   "metadata": {},
   "outputs": [
    {
     "name": "stdout",
     "output_type": "stream",
     "text": [
      "False\n"
     ]
    }
   ],
   "source": [
    "a = 'Hello\\nworld'\n",
    "print(a.isprintable())"
   ]
  },
  {
   "cell_type": "code",
   "execution_count": 82,
   "id": "a0258632-73d6-4370-8bfa-2fb81fc1b057",
   "metadata": {},
   "outputs": [
    {
     "name": "stdout",
     "output_type": "stream",
     "text": [
      "Hello\n",
      "world\n"
     ]
    }
   ],
   "source": [
    "print(a)"
   ]
  },
  {
   "cell_type": "code",
   "execution_count": 83,
   "id": "512400da-84f3-41ab-81a4-0c4e51e82687",
   "metadata": {},
   "outputs": [
    {
     "name": "stdout",
     "output_type": "stream",
     "text": [
      "False\n"
     ]
    }
   ],
   "source": [
    "a = 'Hello\\tworld'\n",
    "print(a.isprintable())"
   ]
  },
  {
   "cell_type": "code",
   "execution_count": 84,
   "id": "a7d29629-3575-4fa0-9451-96c13370ee9a",
   "metadata": {},
   "outputs": [
    {
     "name": "stdout",
     "output_type": "stream",
     "text": [
      "Hello\tworld\n"
     ]
    }
   ],
   "source": [
    "print(a)"
   ]
  },
  {
   "cell_type": "markdown",
   "id": "84d9b95a-cbc7-4bc6-a5f3-7707f5350317",
   "metadata": {},
   "source": [
    "### replace\n",
    "\n",
    "- It replaces an existing character or an existing sub-string with a new character or a new sub-string\n",
    "- It does not make any changes in the existing string\n",
    "- It will create a new object\n",
    "\n",
    "__Syntax:__\n",
    "\n",
    "        my_str.replace('character', 'new-character')\n",
    "                    or\n",
    "        my_str.replace('sub-string', 'new-sub-string')\n",
    "        "
   ]
  },
  {
   "cell_type": "code",
   "execution_count": 85,
   "id": "176e7ef4-b42a-4ee9-91c6-6f598f386156",
   "metadata": {},
   "outputs": [
    {
     "name": "stdout",
     "output_type": "stream",
     "text": [
      "Hello sunday 1139019704624\n"
     ]
    }
   ],
   "source": [
    "my_str = 'Hello sunday'\n",
    "print(my_str, id(my_str))"
   ]
  },
  {
   "cell_type": "code",
   "execution_count": 89,
   "id": "e1a76c57-f550-464d-a253-831dc2748849",
   "metadata": {},
   "outputs": [
    {
     "name": "stdout",
     "output_type": "stream",
     "text": [
      "Hello monday 1139019712112\n"
     ]
    }
   ],
   "source": [
    "b = my_str.replace('sunday', 'monday')\n",
    "print(b, id(b))"
   ]
  },
  {
   "cell_type": "code",
   "execution_count": 90,
   "id": "461b2907-5f3d-44c2-8d5a-dc660f197cfb",
   "metadata": {},
   "outputs": [
    {
     "name": "stdout",
     "output_type": "stream",
     "text": [
      "Hello sunday 1139019704624\n"
     ]
    }
   ],
   "source": [
    "b = my_str.replace('Sunday', 'monday')\n",
    "print(b, id(b))"
   ]
  },
  {
   "cell_type": "markdown",
   "id": "205a9e66-dccb-466a-a5d5-daf91601b7d8",
   "metadata": {},
   "source": [
    "### isnumeric(), isdigit() and isdecimal()\n",
    "\n",
    "#### isnumeric()\n",
    "\n",
    "- It will return a True if all the elements in the string are either digits, superscript, subscript, vulgar fractions, or Roman numbers else it will return a False\n",
    "\n",
    "#### isdigit()\n",
    "\n",
    "- It will return a True if all the elements are digits, superscript and sub-script else it will return a False\n",
    "\n",
    "#### isdecimal()\n",
    "\n",
    "- It will return a True if all the elements of the string are only digits else it will return a False"
   ]
  },
  {
   "cell_type": "code",
   "execution_count": 91,
   "id": "f22d3204-9f89-4d92-a344-38c8b51b73a0",
   "metadata": {},
   "outputs": [
    {
     "name": "stdout",
     "output_type": "stream",
     "text": [
      "True\n",
      "True\n",
      "True\n"
     ]
    }
   ],
   "source": [
    "a = '10'\n",
    "\n",
    "print(a.isnumeric())\n",
    "print(a.isdigit())\n",
    "print(a.isdecimal())"
   ]
  },
  {
   "cell_type": "code",
   "execution_count": 92,
   "id": "8dc55e71-14be-4c4e-a457-98523a0ea42b",
   "metadata": {},
   "outputs": [
    {
     "data": {
      "text/plain": [
       "'2₂'"
      ]
     },
     "execution_count": 92,
     "metadata": {},
     "output_type": "execute_result"
    }
   ],
   "source": [
    "a = '2\\u2082'\n",
    "a"
   ]
  },
  {
   "cell_type": "code",
   "execution_count": 93,
   "id": "3691c269-c1a2-49ca-82cb-c6831da6e086",
   "metadata": {},
   "outputs": [
    {
     "name": "stdout",
     "output_type": "stream",
     "text": [
      "True\n",
      "True\n",
      "False\n"
     ]
    }
   ],
   "source": [
    "print(a.isnumeric())\n",
    "print(a.isdigit())\n",
    "print(a.isdecimal())"
   ]
  },
  {
   "cell_type": "code",
   "execution_count": 94,
   "id": "4afd6e37-694f-41e2-a8f5-9898d73d7cf8",
   "metadata": {},
   "outputs": [
    {
     "data": {
      "text/plain": [
       "'5½'"
      ]
     },
     "execution_count": 94,
     "metadata": {},
     "output_type": "execute_result"
    }
   ],
   "source": [
    "a = '5'+chr(189)\n",
    "a"
   ]
  },
  {
   "cell_type": "code",
   "execution_count": 95,
   "id": "3f0640c1-7c0f-43fe-bfe9-4281ce7f2c05",
   "metadata": {},
   "outputs": [
    {
     "name": "stdout",
     "output_type": "stream",
     "text": [
      "True\n",
      "False\n",
      "False\n"
     ]
    }
   ],
   "source": [
    "print(a.isnumeric())\n",
    "print(a.isdigit())\n",
    "print(a.isdecimal())"
   ]
  },
  {
   "cell_type": "code",
   "execution_count": 96,
   "id": "382599dd-4ae7-4e26-b363-b09f090da664",
   "metadata": {},
   "outputs": [
    {
     "name": "stdout",
     "output_type": "stream",
     "text": [
      "False\n",
      "False\n",
      "False\n"
     ]
    }
   ],
   "source": [
    "a = '10.1'\n",
    "print(a.isnumeric())\n",
    "print(a.isdigit())\n",
    "print(a.isdecimal())"
   ]
  },
  {
   "cell_type": "code",
   "execution_count": 98,
   "id": "2cbe4fd8-1594-4e43-85b9-159428722704",
   "metadata": {},
   "outputs": [
    {
     "data": {
      "text/plain": [
       "'Ⅱ'"
      ]
     },
     "execution_count": 98,
     "metadata": {},
     "output_type": "execute_result"
    }
   ],
   "source": [
    "a = '\\u2160'\n",
    "a"
   ]
  },
  {
   "cell_type": "code",
   "execution_count": 99,
   "id": "16505ab2-7eb3-4bdf-8672-579a67eeffdd",
   "metadata": {},
   "outputs": [
    {
     "name": "stdout",
     "output_type": "stream",
     "text": [
      "True\n",
      "False\n",
      "False\n"
     ]
    }
   ],
   "source": [
    "print(a.isnumeric())\n",
    "print(a.isdigit())\n",
    "print(a.isdecimal())"
   ]
  },
  {
   "cell_type": "code",
   "execution_count": null,
   "id": "0367bd51-c80a-40e8-85a9-02828f779f3f",
   "metadata": {},
   "outputs": [],
   "source": []
  }
 ],
 "metadata": {
  "kernelspec": {
   "display_name": "Python 3 (ipykernel)",
   "language": "python",
   "name": "python3"
  },
  "language_info": {
   "codemirror_mode": {
    "name": "ipython",
    "version": 3
   },
   "file_extension": ".py",
   "mimetype": "text/x-python",
   "name": "python",
   "nbconvert_exporter": "python",
   "pygments_lexer": "ipython3",
   "version": "3.11.7"
  }
 },
 "nbformat": 4,
 "nbformat_minor": 5
}
